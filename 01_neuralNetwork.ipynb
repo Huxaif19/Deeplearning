{
 "cells": [
  {
   "cell_type": "markdown",
   "metadata": {},
   "source": [
    "# regression with neural network"
   ]
  },
  {
   "cell_type": "code",
   "execution_count": 1,
   "metadata": {},
   "outputs": [
    {
     "name": "stderr",
     "output_type": "stream",
     "text": [
      "2023-09-13 21:53:02.295734: I tensorflow/core/util/port.cc:110] oneDNN custom operations are on. You may see slightly different numerical results due to floating-point round-off errors from different computation orders. To turn them off, set the environment variable `TF_ENABLE_ONEDNN_OPTS=0`.\n",
      "2023-09-13 21:53:02.299822: I tensorflow/tsl/cuda/cudart_stub.cc:28] Could not find cuda drivers on your machine, GPU will not be used.\n",
      "2023-09-13 21:53:02.382834: I tensorflow/tsl/cuda/cudart_stub.cc:28] Could not find cuda drivers on your machine, GPU will not be used.\n",
      "2023-09-13 21:53:02.384931: I tensorflow/core/platform/cpu_feature_guard.cc:182] This TensorFlow binary is optimized to use available CPU instructions in performance-critical operations.\n",
      "To enable the following instructions: AVX2 AVX512F AVX512_VNNI FMA, in other operations, rebuild TensorFlow with the appropriate compiler flags.\n",
      "2023-09-13 21:53:04.844375: W tensorflow/compiler/tf2tensorrt/utils/py_utils.cc:38] TF-TRT Warning: Could not find TensorRT\n"
     ]
    }
   ],
   "source": [
    "import tensorflow as tf\n",
    "import numpy as np \n",
    "import matplotlib.pyplot as plt"
   ]
  },
  {
   "cell_type": "code",
   "execution_count": 2,
   "metadata": {},
   "outputs": [
    {
     "data": {
      "text/plain": [
       "<matplotlib.collections.PathCollection at 0x7fb86c29b610>"
      ]
     },
     "execution_count": 2,
     "metadata": {},
     "output_type": "execute_result"
    },
    {
     "data": {
      "image/png": "[encoded data removed]",
      "text/plain": [
       "<Figure size 640x480 with 1 Axes>"
      ]
     },
     "metadata": {},
     "output_type": "display_data"
    }
   ],
   "source": [
    "X = np.array([-7., -4., -1., 2., 5., 8., 11., 14.])\n",
    "y = np.array([3., 6., 9., 12., 15., 18., 21., 24.])\n",
    "plt.scatter(X,y)"
   ]
  },
  {
   "cell_type": "code",
   "execution_count": 3,
   "metadata": {},
   "outputs": [],
   "source": [
    "X = X.reshape (-1,1)\n",
    "y = y.reshape(-1, 1)"
   ]
  },
  {
   "cell_type": "code",
   "execution_count": 4,
   "metadata": {},
   "outputs": [
    {
     "data": {
      "text/plain": [
       "(<tf.Tensor: shape=(1,), dtype=int32, numpy=array([900020], dtype=int32)>,\n",
       " <tf.Tensor: shape=(3,), dtype=string, numpy=array([b'bedroom', b'bathroom', b'garage'], dtype=object)>)"
      ]
     },
     "execution_count": 4,
     "metadata": {},
     "output_type": "execute_result"
    }
   ],
   "source": [
    "house_info = tf.constant(['bedroom', 'bathroom', 'garage'])\n",
    "house_price = tf.constant([900020])\n",
    "house_price, house_info"
   ]
  },
  {
   "cell_type": "code",
   "execution_count": 5,
   "metadata": {},
   "outputs": [
    {
     "data": {
      "text/plain": [
       "((8, 1), (8, 1))"
      ]
     },
     "execution_count": 5,
     "metadata": {},
     "output_type": "execute_result"
    }
   ],
   "source": [
    "X.shape, y.shape"
   ]
  },
  {
   "cell_type": "code",
   "execution_count": 6,
   "metadata": {},
   "outputs": [],
   "source": [
    "X = tf.cast(tf.constant(X), dtype = tf.float32)\n",
    "y = tf.cast(tf.constant(y), dtype = tf.float32)"
   ]
  },
  {
   "cell_type": "markdown",
   "metadata": {},
   "source": [
    "### steps in modelling with tensorflow "
   ]
  },
  {
   "cell_type": "code",
   "execution_count": 7,
   "metadata": {},
   "outputs": [
    {
     "name": "stdout",
     "output_type": "stream",
     "text": [
      "Epoch 1/5\n",
      "1/1 [==============================] - 1s 773ms/step - loss: 19.0121 - mae: 19.0121\n",
      "Epoch 2/5\n",
      "1/1 [==============================] - 0s 10ms/step - loss: 18.7308 - mae: 18.7308\n",
      "Epoch 3/5\n",
      "1/1 [==============================] - 0s 11ms/step - loss: 18.4496 - mae: 18.4496\n",
      "Epoch 4/5\n",
      "1/1 [==============================] - 0s 11ms/step - loss: 18.1683 - mae: 18.1683\n",
      "Epoch 5/5\n",
      "1/1 [==============================] - 0s 9ms/step - loss: 17.8871 - mae: 17.8871\n"
     ]
    },
    {
     "data": {
      "text/plain": [
       "<keras.src.callbacks.History at 0x7fb86c2e0410>"
      ]
     },
     "execution_count": 7,
     "metadata": {},
     "output_type": "execute_result"
    }
   ],
   "source": [
    "#!1) creating model\n",
    "model = tf.keras.Sequential([\n",
    "    tf.keras.layers.Dense(1)\n",
    "])\n",
    "\n",
    "#!2) compile model\n",
    "model.compile(loss=tf.keras.losses.mae, \n",
    "              optimizer=tf.keras.optimizers.SGD(),\n",
    "              metrics= [\"mae\"])\n",
    "\n",
    "\n",
    "#!3) fit the model\n",
    "model.fit(X, y, epochs = 5)"
   ]
  },
  {
   "cell_type": "code",
   "execution_count": 8,
   "metadata": {},
   "outputs": [
    {
     "name": "stdout",
     "output_type": "stream",
     "text": [
      "1/1 [==============================] - 0s 185ms/step\n"
     ]
    },
    {
     "data": {
      "text/plain": [
       "array([[-5.544174]], dtype=float32)"
      ]
     },
     "execution_count": 8,
     "metadata": {},
     "output_type": "execute_result"
    }
   ],
   "source": [
    "model.predict([[6]])\n"
   ]
  },
  {
   "cell_type": "markdown",
   "metadata": {},
   "source": [
    "improve the model"
   ]
  },
  {
   "cell_type": "code",
   "execution_count": 9,
   "metadata": {},
   "outputs": [
    {
     "name": "stdout",
     "output_type": "stream",
     "text": [
      "Epoch 1/100\n",
      "1/1 [==============================] - 0s 14ms/step - loss: 17.6058 - mae: 17.6058\n",
      "Epoch 2/100\n",
      "1/1 [==============================] - 0s 10ms/step - loss: 17.3246 - mae: 17.3246\n",
      "Epoch 3/100\n",
      "1/1 [==============================] - 0s 10ms/step - loss: 17.0433 - mae: 17.0433\n",
      "Epoch 4/100\n",
      "1/1 [==============================] - 0s 11ms/step - loss: 16.7621 - mae: 16.7621\n",
      "Epoch 5/100\n",
      "1/1 [==============================] - 0s 12ms/step - loss: 16.4808 - mae: 16.4808\n",
      "Epoch 6/100\n",
      "1/1 [==============================] - 0s 15ms/step - loss: 16.1996 - mae: 16.1996\n",
      "Epoch 7/100\n",
      "1/1 [==============================] - 0s 12ms/step - loss: 15.9183 - mae: 15.9183\n",
      "Epoch 8/100\n",
      "1/1 [==============================] - 0s 10ms/step - loss: 15.6371 - mae: 15.6371\n",
      "Epoch 9/100\n",
      "1/1 [==============================] - 0s 12ms/step - loss: 15.3558 - mae: 15.3558\n",
      "Epoch 10/100\n",
      "1/1 [==============================] - 0s 10ms/step - loss: 15.0746 - mae: 15.0746\n",
      "Epoch 11/100\n",
      "1/1 [==============================] - 0s 11ms/step - loss: 14.8060 - mae: 14.8060\n",
      "Epoch 12/100\n",
      "1/1 [==============================] - 0s 22ms/step - loss: 14.6735 - mae: 14.6735\n",
      "Epoch 13/100\n",
      "1/1 [==============================] - 0s 9ms/step - loss: 14.5410 - mae: 14.5410\n",
      "Epoch 14/100\n",
      "1/1 [==============================] - 0s 14ms/step - loss: 14.4085 - mae: 14.4085\n",
      "Epoch 15/100\n",
      "1/1 [==============================] - 0s 11ms/step - loss: 14.2760 - mae: 14.2760\n",
      "Epoch 16/100\n",
      "1/1 [==============================] - 0s 15ms/step - loss: 14.1435 - mae: 14.1435\n",
      "Epoch 17/100\n",
      "1/1 [==============================] - 0s 12ms/step - loss: 14.0110 - mae: 14.0110\n",
      "Epoch 18/100\n",
      "1/1 [==============================] - 0s 16ms/step - loss: 13.8785 - mae: 13.8785\n",
      "Epoch 19/100\n",
      "1/1 [==============================] - 0s 19ms/step - loss: 13.7460 - mae: 13.7460\n",
      "Epoch 20/100\n",
      "1/1 [==============================] - 0s 12ms/step - loss: 13.6135 - mae: 13.6135\n",
      "Epoch 21/100\n",
      "1/1 [==============================] - 0s 10ms/step - loss: 13.4810 - mae: 13.4810\n",
      "Epoch 22/100\n",
      "1/1 [==============================] - 0s 12ms/step - loss: 13.3485 - mae: 13.3485\n",
      "Epoch 23/100\n",
      "1/1 [==============================] - 0s 9ms/step - loss: 13.2160 - mae: 13.2160\n",
      "Epoch 24/100\n",
      "1/1 [==============================] - 0s 7ms/step - loss: 13.0835 - mae: 13.0835\n",
      "Epoch 25/100\n",
      "1/1 [==============================] - 0s 14ms/step - loss: 12.9510 - mae: 12.9510\n",
      "Epoch 26/100\n",
      "1/1 [==============================] - 0s 14ms/step - loss: 12.8185 - mae: 12.8185\n",
      "Epoch 27/100\n",
      "1/1 [==============================] - 0s 18ms/step - loss: 12.6860 - mae: 12.6860\n",
      "Epoch 28/100\n",
      "1/1 [==============================] - 0s 17ms/step - loss: 12.5535 - mae: 12.5535\n",
      "Epoch 29/100\n",
      "1/1 [==============================] - 0s 11ms/step - loss: 12.4210 - mae: 12.4210\n",
      "Epoch 30/100\n",
      "1/1 [==============================] - 0s 20ms/step - loss: 12.2885 - mae: 12.2885\n",
      "Epoch 31/100\n",
      "1/1 [==============================] - 0s 14ms/step - loss: 12.1560 - mae: 12.1560\n",
      "Epoch 32/100\n",
      "1/1 [==============================] - 0s 12ms/step - loss: 12.0235 - mae: 12.0235\n",
      "Epoch 33/100\n",
      "1/1 [==============================] - 0s 9ms/step - loss: 11.8910 - mae: 11.8910\n",
      "Epoch 34/100\n",
      "1/1 [==============================] - 0s 11ms/step - loss: 11.7585 - mae: 11.7585\n",
      "Epoch 35/100\n",
      "1/1 [==============================] - 0s 17ms/step - loss: 11.6260 - mae: 11.6260\n",
      "Epoch 36/100\n",
      "1/1 [==============================] - 0s 17ms/step - loss: 11.4935 - mae: 11.4935\n",
      "Epoch 37/100\n",
      "1/1 [==============================] - 0s 14ms/step - loss: 11.3610 - mae: 11.3610\n",
      "Epoch 38/100\n",
      "1/1 [==============================] - 0s 18ms/step - loss: 11.2285 - mae: 11.2285\n",
      "Epoch 39/100\n",
      "1/1 [==============================] - 0s 18ms/step - loss: 11.0960 - mae: 11.0960\n",
      "Epoch 40/100\n",
      "1/1 [==============================] - 0s 16ms/step - loss: 10.9635 - mae: 10.9635\n",
      "Epoch 41/100\n",
      "1/1 [==============================] - 0s 13ms/step - loss: 10.8310 - mae: 10.8310\n",
      "Epoch 42/100\n",
      "1/1 [==============================] - 0s 13ms/step - loss: 10.6985 - mae: 10.6985\n",
      "Epoch 43/100\n",
      "1/1 [==============================] - 0s 12ms/step - loss: 10.5660 - mae: 10.5660\n",
      "Epoch 44/100\n",
      "1/1 [==============================] - 0s 9ms/step - loss: 10.4335 - mae: 10.4335\n",
      "Epoch 45/100\n",
      "1/1 [==============================] - ETA: 0s - loss: 10.3010 - mae: 10.3010"
     ]
    },
    {
     "name": "stdout",
     "output_type": "stream",
     "text": [
      "1/1 [==============================] - 0s 20ms/step - loss: 10.3010 - mae: 10.3010\n",
      "Epoch 46/100\n",
      "1/1 [==============================] - 0s 19ms/step - loss: 10.1685 - mae: 10.1685\n",
      "Epoch 47/100\n",
      "1/1 [==============================] - 0s 14ms/step - loss: 10.0360 - mae: 10.0360\n",
      "Epoch 48/100\n",
      "1/1 [==============================] - 0s 11ms/step - loss: 9.9035 - mae: 9.9035\n",
      "Epoch 49/100\n",
      "1/1 [==============================] - 0s 11ms/step - loss: 9.7710 - mae: 9.7710\n",
      "Epoch 50/100\n",
      "1/1 [==============================] - 0s 10ms/step - loss: 9.6385 - mae: 9.6385\n",
      "Epoch 51/100\n",
      "1/1 [==============================] - 0s 15ms/step - loss: 9.5060 - mae: 9.5060\n",
      "Epoch 52/100\n",
      "1/1 [==============================] - 0s 16ms/step - loss: 9.3735 - mae: 9.3735\n",
      "Epoch 53/100\n",
      "1/1 [==============================] - 0s 16ms/step - loss: 9.2410 - mae: 9.2410\n",
      "Epoch 54/100\n",
      "1/1 [==============================] - 0s 14ms/step - loss: 9.1085 - mae: 9.1085\n",
      "Epoch 55/100\n",
      "1/1 [==============================] - 0s 11ms/step - loss: 8.9760 - mae: 8.9760\n",
      "Epoch 56/100\n",
      "1/1 [==============================] - 0s 12ms/step - loss: 8.8435 - mae: 8.8435\n",
      "Epoch 57/100\n",
      "1/1 [==============================] - 0s 11ms/step - loss: 8.7110 - mae: 8.7110\n",
      "Epoch 58/100\n",
      "1/1 [==============================] - 0s 10ms/step - loss: 8.5785 - mae: 8.5785\n",
      "Epoch 59/100\n",
      "1/1 [==============================] - 0s 11ms/step - loss: 8.4460 - mae: 8.4460\n",
      "Epoch 60/100\n",
      "1/1 [==============================] - 0s 13ms/step - loss: 8.3135 - mae: 8.3135\n",
      "Epoch 61/100\n",
      "1/1 [==============================] - 0s 11ms/step - loss: 8.1810 - mae: 8.1810\n",
      "Epoch 62/100\n",
      "1/1 [==============================] - 0s 9ms/step - loss: 8.0485 - mae: 8.0485\n",
      "Epoch 63/100\n",
      "1/1 [==============================] - 0s 12ms/step - loss: 7.9160 - mae: 7.9160\n",
      "Epoch 64/100\n",
      "1/1 [==============================] - 0s 11ms/step - loss: 7.7835 - mae: 7.7835\n",
      "Epoch 65/100\n",
      "1/1 [==============================] - 0s 10ms/step - loss: 7.6510 - mae: 7.6510\n",
      "Epoch 66/100\n",
      "1/1 [==============================] - 0s 24ms/step - loss: 7.5185 - mae: 7.5185\n",
      "Epoch 67/100\n",
      "1/1 [==============================] - 0s 21ms/step - loss: 7.3860 - mae: 7.3860\n",
      "Epoch 68/100\n",
      "1/1 [==============================] - 0s 11ms/step - loss: 7.2535 - mae: 7.2535\n",
      "Epoch 69/100\n",
      "1/1 [==============================] - 0s 8ms/step - loss: 7.1210 - mae: 7.1210\n",
      "Epoch 70/100\n",
      "1/1 [==============================] - 0s 10ms/step - loss: 6.9885 - mae: 6.9885\n",
      "Epoch 71/100\n",
      "1/1 [==============================] - 0s 22ms/step - loss: 6.9656 - mae: 6.9656\n",
      "Epoch 72/100\n",
      "1/1 [==============================] - 0s 15ms/step - loss: 6.9600 - mae: 6.9600\n",
      "Epoch 73/100\n",
      "1/1 [==============================] - 0s 15ms/step - loss: 6.9544 - mae: 6.9544\n",
      "Epoch 74/100\n",
      "1/1 [==============================] - 0s 13ms/step - loss: 6.9488 - mae: 6.9488\n",
      "Epoch 75/100\n",
      "1/1 [==============================] - 0s 13ms/step - loss: 6.9431 - mae: 6.9431\n",
      "Epoch 76/100\n",
      "1/1 [==============================] - 0s 9ms/step - loss: 6.9375 - mae: 6.9375\n",
      "Epoch 77/100\n",
      "1/1 [==============================] - 0s 9ms/step - loss: 6.9319 - mae: 6.9319\n",
      "Epoch 78/100\n",
      "1/1 [==============================] - 0s 10ms/step - loss: 6.9263 - mae: 6.9263\n",
      "Epoch 79/100\n",
      "1/1 [==============================] - 0s 12ms/step - loss: 6.9206 - mae: 6.9206\n",
      "Epoch 80/100\n",
      "1/1 [==============================] - 0s 10ms/step - loss: 6.9150 - mae: 6.9150\n",
      "Epoch 81/100\n",
      "1/1 [==============================] - 0s 11ms/step - loss: 6.9094 - mae: 6.9094\n",
      "Epoch 82/100\n",
      "1/1 [==============================] - 0s 13ms/step - loss: 6.9038 - mae: 6.9038\n",
      "Epoch 83/100\n",
      "1/1 [==============================] - 0s 16ms/step - loss: 6.8981 - mae: 6.8981\n",
      "Epoch 84/100\n",
      "1/1 [==============================] - 0s 20ms/step - loss: 6.8925 - mae: 6.8925\n",
      "Epoch 85/100\n",
      "1/1 [==============================] - 0s 21ms/step - loss: 6.8869 - mae: 6.8869\n",
      "Epoch 86/100\n",
      "1/1 [==============================] - 0s 20ms/step - loss: 6.8813 - mae: 6.8813\n",
      "Epoch 87/100\n",
      "1/1 [==============================] - 0s 14ms/step - loss: 6.8756 - mae: 6.8756\n",
      "Epoch 88/100\n",
      "1/1 [==============================] - 0s 14ms/step - loss: 6.8700 - mae: 6.8700\n",
      "Epoch 89/100\n",
      "1/1 [==============================] - 0s 13ms/step - loss: 6.8644 - mae: 6.8644\n",
      "Epoch 90/100\n",
      "1/1 [==============================] - 0s 25ms/step - loss: 6.8588 - mae: 6.8588\n",
      "Epoch 91/100\n",
      "1/1 [==============================] - 0s 22ms/step - loss: 6.8531 - mae: 6.8531\n",
      "Epoch 92/100\n",
      "1/1 [==============================] - 0s 19ms/step - loss: 6.8475 - mae: 6.8475\n",
      "Epoch 93/100\n",
      "1/1 [==============================] - 0s 11ms/step - loss: 6.8419 - mae: 6.8419\n",
      "Epoch 94/100\n",
      "1/1 [==============================] - 0s 11ms/step - loss: 6.8363 - mae: 6.8363\n",
      "Epoch 95/100\n",
      "1/1 [==============================] - 0s 11ms/step - loss: 6.8306 - mae: 6.8306\n",
      "Epoch 96/100\n",
      "1/1 [==============================] - 0s 11ms/step - loss: 6.8250 - mae: 6.8250\n",
      "Epoch 97/100\n",
      "1/1 [==============================] - 0s 11ms/step - loss: 6.8194 - mae: 6.8194\n",
      "Epoch 98/100\n",
      "1/1 [==============================] - 0s 9ms/step - loss: 6.8138 - mae: 6.8138\n",
      "Epoch 99/100\n",
      "1/1 [==============================] - 0s 11ms/step - loss: 6.8081 - mae: 6.8081\n",
      "Epoch 100/100\n",
      "1/1 [==============================] - 0s 13ms/step - loss: 6.8025 - mae: 6.8025\n"
     ]
    },
    {
     "data": {
      "text/plain": [
       "<keras.src.callbacks.History at 0x7fb8586db510>"
      ]
     },
     "execution_count": 9,
     "metadata": {},
     "output_type": "execute_result"
    }
   ],
   "source": [
    "# imporving using epochs\n",
    "\n",
    "model.fit(X,y, epochs = 100)"
   ]
  },
  {
   "cell_type": "code",
   "execution_count": 10,
   "metadata": {},
   "outputs": [
    {
     "name": "stdout",
     "output_type": "stream",
     "text": [
      "1/1 [==============================] - 0s 126ms/step\n"
     ]
    },
    {
     "data": {
      "text/plain": [
       "array([[29.747753]], dtype=float32)"
      ]
     },
     "execution_count": 10,
     "metadata": {},
     "output_type": "execute_result"
    }
   ],
   "source": [
    "model.predict([[17.]])"
   ]
  },
  {
   "cell_type": "code",
   "execution_count": 11,
   "metadata": {},
   "outputs": [
    {
     "name": "stdout",
     "output_type": "stream",
     "text": [
      "Epoch 1/100\n",
      "1/1 [==============================] - 1s 1s/step - loss: 13.4172 - mae: 13.4172\n",
      "Epoch 2/100\n",
      "1/1 [==============================] - 0s 11ms/step - loss: 12.4250 - mae: 12.4250\n",
      "Epoch 3/100\n",
      "1/1 [==============================] - 0s 9ms/step - loss: 11.4257 - mae: 11.4257\n",
      "Epoch 4/100\n",
      "1/1 [==============================] - 0s 12ms/step - loss: 10.4151 - mae: 10.4151\n",
      "Epoch 5/100\n",
      "1/1 [==============================] - 0s 12ms/step - loss: 9.3883 - mae: 9.3883\n",
      "Epoch 6/100\n",
      "1/1 [==============================] - 0s 9ms/step - loss: 8.3401 - mae: 8.3401\n",
      "Epoch 7/100\n",
      "1/1 [==============================] - 0s 8ms/step - loss: 7.2641 - mae: 7.2641\n",
      "Epoch 8/100\n",
      "1/1 [==============================] - 0s 8ms/step - loss: 6.7478 - mae: 6.7478\n",
      "Epoch 9/100\n",
      "1/1 [==============================] - 0s 10ms/step - loss: 7.3274 - mae: 7.3274\n",
      "Epoch 10/100\n",
      "1/1 [==============================] - 0s 12ms/step - loss: 7.9784 - mae: 7.9784\n",
      "Epoch 11/100\n",
      "1/1 [==============================] - 0s 7ms/step - loss: 8.2081 - mae: 8.2081\n",
      "Epoch 12/100\n",
      "1/1 [==============================] - 0s 9ms/step - loss: 8.0916 - mae: 8.0916\n",
      "Epoch 13/100\n",
      "1/1 [==============================] - 0s 8ms/step - loss: 7.7331 - mae: 7.7331\n",
      "Epoch 14/100\n",
      "1/1 [==============================] - 0s 10ms/step - loss: 7.2041 - mae: 7.2041\n",
      "Epoch 15/100\n",
      "1/1 [==============================] - 0s 11ms/step - loss: 6.6942 - mae: 6.6942\n",
      "Epoch 16/100\n",
      "1/1 [==============================] - 0s 7ms/step - loss: 6.2824 - mae: 6.2824\n",
      "Epoch 17/100\n",
      "1/1 [==============================] - 0s 8ms/step - loss: 6.0247 - mae: 6.0247\n",
      "Epoch 18/100\n",
      "1/1 [==============================] - 0s 10ms/step - loss: 6.0382 - mae: 6.0382\n",
      "Epoch 19/100\n",
      "1/1 [==============================] - 0s 7ms/step - loss: 6.2095 - mae: 6.2095\n",
      "Epoch 20/100\n",
      "1/1 [==============================] - 0s 8ms/step - loss: 6.2276 - mae: 6.2276\n",
      "Epoch 21/100\n",
      "1/1 [==============================] - 0s 10ms/step - loss: 6.1146 - mae: 6.1146\n",
      "Epoch 22/100\n",
      "1/1 [==============================] - 0s 7ms/step - loss: 5.8861 - mae: 5.8861\n",
      "Epoch 23/100\n",
      "1/1 [==============================] - 0s 9ms/step - loss: 5.5526 - mae: 5.5526\n",
      "Epoch 24/100\n",
      "1/1 [==============================] - 0s 10ms/step - loss: 5.3100 - mae: 5.3100\n",
      "Epoch 25/100\n",
      "1/1 [==============================] - 0s 11ms/step - loss: 5.1566 - mae: 5.1566\n",
      "Epoch 26/100\n",
      "1/1 [==============================] - 0s 11ms/step - loss: 5.2151 - mae: 5.2151\n",
      "Epoch 27/100\n",
      "1/1 [==============================] - 0s 7ms/step - loss: 5.2145 - mae: 5.2145\n",
      "Epoch 28/100\n",
      "1/1 [==============================] - 0s 8ms/step - loss: 5.1547 - mae: 5.1547\n",
      "Epoch 29/100\n",
      "1/1 [==============================] - 0s 8ms/step - loss: 5.0399 - mae: 5.0399\n",
      "Epoch 30/100\n",
      "1/1 [==============================] - 0s 6ms/step - loss: 4.8741 - mae: 4.8741\n",
      "Epoch 31/100\n",
      "1/1 [==============================] - 0s 9ms/step - loss: 4.6617 - mae: 4.6617\n",
      "Epoch 32/100\n",
      "1/1 [==============================] - 0s 7ms/step - loss: 4.4064 - mae: 4.4064\n",
      "Epoch 33/100\n",
      "1/1 [==============================] - 0s 7ms/step - loss: 4.1116 - mae: 4.1116\n",
      "Epoch 34/100\n",
      "1/1 [==============================] - 0s 8ms/step - loss: 3.9134 - mae: 3.9134\n",
      "Epoch 35/100\n",
      "1/1 [==============================] - 0s 6ms/step - loss: 3.8255 - mae: 3.8255\n",
      "Epoch 36/100\n",
      "1/1 [==============================] - 0s 8ms/step - loss: 3.7445 - mae: 3.7445\n",
      "Epoch 37/100\n",
      "1/1 [==============================] - 0s 8ms/step - loss: 3.4997 - mae: 3.4997\n",
      "Epoch 38/100\n",
      "1/1 [==============================] - 0s 7ms/step - loss: 3.1801 - mae: 3.1801\n",
      "Epoch 39/100\n",
      "1/1 [==============================] - 0s 8ms/step - loss: 2.9397 - mae: 2.9397\n",
      "Epoch 40/100\n",
      "1/1 [==============================] - 0s 6ms/step - loss: 2.8393 - mae: 2.8393\n",
      "Epoch 41/100\n",
      "1/1 [==============================] - 0s 7ms/step - loss: 2.6742 - mae: 2.6742\n",
      "Epoch 42/100\n",
      "1/1 [==============================] - 0s 10ms/step - loss: 2.4374 - mae: 2.4374\n",
      "Epoch 43/100\n",
      "1/1 [==============================] - 0s 9ms/step - loss: 2.1309 - mae: 2.1309\n",
      "Epoch 44/100\n",
      "1/1 [==============================] - 0s 7ms/step - loss: 1.7564 - mae: 1.7564\n",
      "Epoch 45/100\n",
      "1/1 [==============================] - 0s 10ms/step - loss: 1.4487 - mae: 1.4487\n",
      "Epoch 46/100\n",
      "1/1 [==============================] - 0s 9ms/step - loss: 1.2287 - mae: 1.2287\n",
      "Epoch 47/100\n",
      "1/1 [==============================] - 0s 7ms/step - loss: 0.8052 - mae: 0.8052\n",
      "Epoch 48/100\n",
      "1/1 [==============================] - 0s 11ms/step - loss: 0.5237 - mae: 0.5237\n",
      "Epoch 49/100\n",
      "1/1 [==============================] - 0s 13ms/step - loss: 0.1348 - mae: 0.1348\n",
      "Epoch 50/100\n",
      "1/1 [==============================] - 0s 8ms/step - loss: 0.5387 - mae: 0.5387\n",
      "Epoch 51/100\n",
      "1/1 [==============================] - 0s 5ms/step - loss: 0.7107 - mae: 0.7107\n",
      "Epoch 52/100\n",
      "1/1 [==============================] - 0s 7ms/step - loss: 0.7686 - mae: 0.7686\n",
      "Epoch 53/100\n",
      "1/1 [==============================] - 0s 7ms/step - loss: 1.0898 - mae: 1.0898\n",
      "Epoch 54/100\n",
      "1/1 [==============================] - 0s 7ms/step - loss: 1.1245 - mae: 1.1245\n",
      "Epoch 55/100\n",
      "1/1 [==============================] - 0s 7ms/step - loss: 1.0111 - mae: 1.0111\n",
      "Epoch 56/100\n",
      "1/1 [==============================] - 0s 7ms/step - loss: 1.0338 - mae: 1.0338\n",
      "Epoch 57/100\n",
      "1/1 [==============================] - 0s 11ms/step - loss: 0.9440 - mae: 0.9440\n",
      "Epoch 58/100\n",
      "1/1 [==============================] - 0s 10ms/step - loss: 0.7573 - mae: 0.7573\n",
      "Epoch 59/100\n",
      "1/1 [==============================] - 0s 11ms/step - loss: 0.7497 - mae: 0.7497\n",
      "Epoch 60/100\n",
      "1/1 [==============================] - 0s 9ms/step - loss: 0.5596 - mae: 0.5596\n",
      "Epoch 61/100\n",
      "1/1 [==============================] - 0s 13ms/step - loss: 0.2230 - mae: 0.2230\n",
      "Epoch 62/100\n",
      "1/1 [==============================] - 0s 10ms/step - loss: 0.1944 - mae: 0.1944\n",
      "Epoch 63/100\n",
      "1/1 [==============================] - 0s 12ms/step - loss: 0.2509 - mae: 0.2509\n",
      "Epoch 64/100\n",
      "1/1 [==============================] - 0s 9ms/step - loss: 0.3740 - mae: 0.3740\n",
      "Epoch 65/100\n",
      "1/1 [==============================] - 0s 10ms/step - loss: 0.4680 - mae: 0.4680\n",
      "Epoch 66/100\n",
      "1/1 [==============================] - 0s 11ms/step - loss: 0.4896 - mae: 0.4896\n",
      "Epoch 67/100\n",
      "1/1 [==============================] - 0s 9ms/step - loss: 0.4823 - mae: 0.4823\n",
      "Epoch 68/100\n",
      "1/1 [==============================] - 0s 8ms/step - loss: 0.4838 - mae: 0.4838\n",
      "Epoch 69/100\n",
      "1/1 [==============================] - 0s 9ms/step - loss: 0.3685 - mae: 0.3685\n",
      "Epoch 70/100\n",
      "1/1 [==============================] - 0s 10ms/step - loss: 0.2626 - mae: 0.2626\n",
      "Epoch 71/100\n",
      "1/1 [==============================] - 0s 9ms/step - loss: 0.2017 - mae: 0.2017\n",
      "Epoch 72/100\n",
      "1/1 [==============================] - 0s 7ms/step - loss: 0.0415 - mae: 0.0415\n",
      "Epoch 73/100\n",
      "1/1 [==============================] - 0s 10ms/step - loss: 0.2123 - mae: 0.2123\n",
      "Epoch 74/100\n",
      "1/1 [==============================] - 0s 10ms/step - loss: 0.2559 - mae: 0.2559\n",
      "Epoch 75/100\n",
      "1/1 [==============================] - 0s 9ms/step - loss: 0.2303 - mae: 0.2303\n",
      "Epoch 76/100\n",
      "1/1 [==============================] - 0s 8ms/step - loss: 0.4028 - mae: 0.4028\n",
      "Epoch 77/100\n",
      "1/1 [==============================] - 0s 8ms/step - loss: 0.3167 - mae: 0.3167\n",
      "Epoch 78/100\n",
      "1/1 [==============================] - 0s 9ms/step - loss: 0.1824 - mae: 0.1824\n",
      "Epoch 79/100\n",
      "1/1 [==============================] - 0s 9ms/step - loss: 0.2549 - mae: 0.2549\n",
      "Epoch 80/100\n",
      "1/1 [==============================] - 0s 10ms/step - loss: 0.1181 - mae: 0.1181\n",
      "Epoch 81/100\n",
      "1/1 [==============================] - 0s 9ms/step - loss: 0.1556 - mae: 0.1556\n",
      "Epoch 82/100\n",
      "1/1 [==============================] - 0s 7ms/step - loss: 0.2359 - mae: 0.2359\n",
      "Epoch 83/100\n",
      "1/1 [==============================] - 0s 11ms/step - loss: 0.1152 - mae: 0.1152\n",
      "Epoch 84/100\n",
      "1/1 [==============================] - 0s 7ms/step - loss: 0.2722 - mae: 0.2722\n",
      "Epoch 85/100\n",
      "1/1 [==============================] - 0s 7ms/step - loss: 0.2329 - mae: 0.2329\n",
      "Epoch 86/100\n",
      "1/1 [==============================] - 0s 11ms/step - loss: 0.1935 - mae: 0.1935\n",
      "Epoch 87/100\n",
      "1/1 [==============================] - 0s 8ms/step - loss: 0.2384 - mae: 0.2384\n",
      "Epoch 88/100\n",
      "1/1 [==============================] - 0s 16ms/step - loss: 0.1040 - mae: 0.1040\n",
      "Epoch 89/100\n",
      "1/1 [==============================] - 0s 14ms/step - loss: 0.0882 - mae: 0.0882\n",
      "Epoch 90/100\n",
      "1/1 [==============================] - 0s 13ms/step - loss: 0.2254 - mae: 0.2254\n",
      "Epoch 91/100\n",
      "1/1 [==============================] - 0s 12ms/step - loss: 0.1574 - mae: 0.1574\n",
      "Epoch 92/100\n",
      "1/1 [==============================] - 0s 11ms/step - loss: 0.2717 - mae: 0.2717\n",
      "Epoch 93/100\n",
      "1/1 [==============================] - 0s 7ms/step - loss: 0.3339 - mae: 0.3339\n",
      "Epoch 94/100\n",
      "1/1 [==============================] - 0s 14ms/step - loss: 0.1352 - mae: 0.1352\n",
      "Epoch 95/100\n",
      "1/1 [==============================] - 0s 11ms/step - loss: 0.3286 - mae: 0.3286\n",
      "Epoch 96/100\n",
      "1/1 [==============================] - 0s 7ms/step - loss: 0.3819 - mae: 0.3819\n",
      "Epoch 97/100\n",
      "1/1 [==============================] - 0s 9ms/step - loss: 0.1620 - mae: 0.1620\n",
      "Epoch 98/100\n",
      "1/1 [==============================] - 0s 9ms/step - loss: 0.3961 - mae: 0.3961\n",
      "Epoch 99/100\n",
      "1/1 [==============================] - 0s 10ms/step - loss: 0.4906 - mae: 0.4906\n",
      "Epoch 100/100\n",
      "1/1 [==============================] - 0s 9ms/step - loss: 0.2570 - mae: 0.2570\n"
     ]
    },
    {
     "data": {
      "text/plain": [
       "<keras.src.callbacks.History at 0x7fb85856f250>"
      ]
     },
     "execution_count": 11,
     "metadata": {},
     "output_type": "execute_result"
    }
   ],
   "source": [
    "## using hidden neurons and optimizers\n",
    "model = tf.keras.Sequential([\n",
    "    tf.keras.layers.Dense(100, activation= None),\n",
    "    tf.keras.layers.Dense(1)\n",
    "])\n",
    "\n",
    "#!2) compile model\n",
    "model.compile(loss=tf.keras.losses.mae, \n",
    "              optimizer=tf.keras.optimizers.Adam(learning_rate = 0.01),\n",
    "              metrics= [\"mae\"])\n",
    "\n",
    "\n",
    "#!3) fit the model\n",
    "model.fit(X, y, epochs = 100)"
   ]
  },
  {
   "cell_type": "code",
   "execution_count": 12,
   "metadata": {},
   "outputs": [
    {
     "name": "stdout",
     "output_type": "stream",
     "text": [
      "1/1 [==============================] - 0s 143ms/step\n"
     ]
    },
    {
     "data": {
      "text/plain": [
       "array([[27.734434]], dtype=float32)"
      ]
     },
     "execution_count": 12,
     "metadata": {},
     "output_type": "execute_result"
    }
   ],
   "source": [
    "model.predict([[17]])"
   ]
  },
  {
   "cell_type": "markdown",
   "metadata": {},
   "source": [
    "evaluvating the model"
   ]
  },
  {
   "cell_type": "code",
   "execution_count": 13,
   "metadata": {},
   "outputs": [
    {
     "data": {
      "text/plain": [
       "tf.float32"
      ]
     },
     "execution_count": 13,
     "metadata": {},
     "output_type": "execute_result"
    }
   ],
   "source": [
    "X = tf.cast(tf.range (-100, 100, 4), dtype= tf.float32)\n",
    "X.dtype"
   ]
  },
  {
   "cell_type": "code",
   "execution_count": 14,
   "metadata": {},
   "outputs": [
    {
     "data": {
      "text/plain": [
       "<tf.Tensor: shape=(50,), dtype=float32, numpy=\n",
       "array([-90., -86., -82., -78., -74., -70., -66., -62., -58., -54., -50.,\n",
       "       -46., -42., -38., -34., -30., -26., -22., -18., -14., -10.,  -6.,\n",
       "        -2.,   2.,   6.,  10.,  14.,  18.,  22.,  26.,  30.,  34.,  38.,\n",
       "        42.,  46.,  50.,  54.,  58.,  62.,  66.,  70.,  74.,  78.,  82.,\n",
       "        86.,  90.,  94.,  98., 102., 106.], dtype=float32)>"
      ]
     },
     "execution_count": 14,
     "metadata": {},
     "output_type": "execute_result"
    }
   ],
   "source": [
    "y = X + 10\n",
    "y"
   ]
  },
  {
   "cell_type": "code",
   "execution_count": 15,
   "metadata": {},
   "outputs": [
    {
     "data": {
      "text/plain": [
       "<matplotlib.collections.PathCollection at 0x7fb86c2c8390>"
      ]
     },
     "execution_count": 15,
     "metadata": {},
     "output_type": "execute_result"
    },
    {
     "data": {
      "image/png": "[encoded data removed]",
      "text/plain": [
       "<Figure size 640x480 with 1 Axes>"
      ]
     },
     "metadata": {},
     "output_type": "display_data"
    }
   ],
   "source": [
    "plt.scatter(X,y)"
   ]
  },
  {
   "cell_type": "code",
   "execution_count": 16,
   "metadata": {},
   "outputs": [
    {
     "data": {
      "text/plain": [
       "50"
      ]
     },
     "execution_count": 16,
     "metadata": {},
     "output_type": "execute_result"
    }
   ],
   "source": [
    "len(X)"
   ]
  },
  {
   "cell_type": "code",
   "execution_count": 17,
   "metadata": {},
   "outputs": [],
   "source": [
    "X_train =  X [:40]\n",
    "X_test =  X [40:]\n",
    "y_train =  y [:40]\n",
    "y_test =  y [40:]"
   ]
  },
  {
   "cell_type": "markdown",
   "metadata": {},
   "source": []
  },
  {
   "cell_type": "code",
   "execution_count": 18,
   "metadata": {},
   "outputs": [
    {
     "data": {
      "image/png": "[encoded data removed]",
      "text/plain": [
       "<Figure size 1000x700 with 1 Axes>"
      ]
     },
     "metadata": {},
     "output_type": "display_data"
    }
   ],
   "source": [
    "plt.figure(figsize = (10,7))\n",
    "plt.scatter(X_train , y_train, c = \"g\", label = \"Training data\")\n",
    "plt.scatter(X_test , y_test, c = \"b\", label = \"testing data\")\n",
    "plt.legend();"
   ]
  },
  {
   "cell_type": "code",
   "execution_count": 19,
   "metadata": {},
   "outputs": [
    {
     "data": {
      "text/plain": [
       "TensorShape([])"
      ]
     },
     "execution_count": 19,
     "metadata": {},
     "output_type": "execute_result"
    }
   ],
   "source": [
    "X[0].shape"
   ]
  },
  {
   "cell_type": "code",
   "execution_count": 20,
   "metadata": {},
   "outputs": [
    {
     "data": {
      "text/plain": [
       "<keras.src.callbacks.History at 0x7fb8584d4f90>"
      ]
     },
     "execution_count": 20,
     "metadata": {},
     "output_type": "execute_result"
    }
   ],
   "source": [
    "model = tf.keras.Sequential([\n",
    "    tf.keras.layers.Dense(10, input_shape = [1], name = \"input_layer\"),\n",
    "  \n",
    "    tf.keras.layers.Dense(1, name = \"output_layer\")\n",
    "], name = \"model\")\n",
    "\n",
    "\n",
    "model.compile(loss = tf.keras.losses.mae,\n",
    "            optimizer= tf.keras.optimizers.SGD(), \n",
    "            metrics=['accuracy']\n",
    "            )\n",
    "\n",
    "\n",
    "model.fit(X_train, y_train, epochs = 50, verbose= 0)  # if set 1 it will show model training like a progress bar"
   ]
  },
  {
   "cell_type": "code",
   "execution_count": 21,
   "metadata": {},
   "outputs": [
    {
     "name": "stdout",
     "output_type": "stream",
     "text": [
      "Model: \"model\"\n",
      "_________________________________________________________________\n",
      " Layer (type)                Output Shape              Param #   \n",
      "=================================================================\n",
      " input_layer (Dense)         (None, 10)                20        \n",
      "                                                                 \n",
      " output_layer (Dense)        (None, 1)                 11        \n",
      "                                                                 \n",
      "=================================================================\n",
      "Total params: 31 (124.00 Byte)\n",
      "Trainable params: 31 (124.00 Byte)\n",
      "Non-trainable params: 0 (0.00 Byte)\n",
      "_________________________________________________________________\n"
     ]
    }
   ],
   "source": [
    "model.summary()"
   ]
  },
  {
   "cell_type": "code",
   "execution_count": 22,
   "metadata": {},
   "outputs": [
    {
     "data": {
      "image/png": "[encoded data removed]",
      "text/plain": [
       "<IPython.core.display.Image object>"
      ]
     },
     "execution_count": 22,
     "metadata": {},
     "output_type": "execute_result"
    }
   ],
   "source": [
    "from tensorflow.keras.utils import plot_model\n",
    "plot_model(model = model, show_shapes = True)"
   ]
  },
  {
   "cell_type": "markdown",
   "metadata": {},
   "source": [
    "visualize model predictions"
   ]
  },
  {
   "cell_type": "code",
   "execution_count": null,
   "metadata": {},
   "outputs": [],
   "source": []
  },
  {
   "cell_type": "code",
   "execution_count": 23,
   "metadata": {},
   "outputs": [
    {
     "name": "stdout",
     "output_type": "stream",
     "text": [
      "1/1 [==============================] - 0s 62ms/step\n"
     ]
    },
    {
     "data": {
      "text/plain": [
       "array([[46.60558 ],\n",
       "       [49.652946],\n",
       "       [52.700314],\n",
       "       [55.747677],\n",
       "       [58.795048],\n",
       "       [61.842415],\n",
       "       [64.88978 ],\n",
       "       [67.93715 ],\n",
       "       [70.98451 ],\n",
       "       [74.031876]], dtype=float32)"
      ]
     },
     "execution_count": 23,
     "metadata": {},
     "output_type": "execute_result"
    }
   ],
   "source": [
    "y_pred = model.predict(X_test)\n",
    "y_pred"
   ]
  },
  {
   "cell_type": "code",
   "execution_count": 24,
   "metadata": {},
   "outputs": [
    {
     "data": {
      "text/plain": [
       "<tf.Tensor: shape=(10,), dtype=float32, numpy=\n",
       "array([ 70.,  74.,  78.,  82.,  86.,  90.,  94.,  98., 102., 106.],\n",
       "      dtype=float32)>"
      ]
     },
     "execution_count": 24,
     "metadata": {},
     "output_type": "execute_result"
    }
   ],
   "source": [
    "y_test"
   ]
  },
  {
   "cell_type": "code",
   "execution_count": 25,
   "metadata": {},
   "outputs": [],
   "source": [
    "def plot_predictions(train_data = X_train, train_labels = y_train ,test_data = X_test, test_labels = y_test, prdeictions = y_pred):\n",
    "    plt.figure(figsize=(10,6))\n",
    "    plt.scatter(train_data, train_labels, c = \"b\", label = \"Traning data\")\n",
    "    plt.scatter(test_data, test_labels, c = \"g\", label = \"Testing data\")\n",
    "    plt.scatter(test_data, prdeictions, c = 'r', label = \"predictions\")\n",
    "    plt.legend()"
   ]
  },
  {
   "cell_type": "code",
   "execution_count": 26,
   "metadata": {},
   "outputs": [
    {
     "data": {
      "image/png": "[encoded data removed]",
      "text/plain": [
       "<Figure size 1000x600 with 1 Axes>"
      ]
     },
     "metadata": {},
     "output_type": "display_data"
    }
   ],
   "source": [
    "plot_predictions()"
   ]
  },
  {
   "cell_type": "markdown",
   "metadata": {},
   "source": [
    "### evaluvating using regression evaluation mertics"
   ]
  },
  {
   "cell_type": "code",
   "execution_count": 27,
   "metadata": {},
   "outputs": [
    {
     "name": "stdout",
     "output_type": "stream",
     "text": [
      "1/1 [==============================] - 0s 151ms/step - loss: 27.6813 - accuracy: 0.0000e+00\n"
     ]
    },
    {
     "data": {
      "text/plain": [
       "[27.6812686920166, 0.0]"
      ]
     },
     "execution_count": 27,
     "metadata": {},
     "output_type": "execute_result"
    }
   ],
   "source": [
    "model.evaluate(X_test, y_test)"
   ]
  },
  {
   "cell_type": "code",
   "execution_count": 28,
   "metadata": {},
   "outputs": [
    {
     "data": {
      "text/plain": [
       "(array([[46.60558 ],\n",
       "        [49.652946],\n",
       "        [52.700314],\n",
       "        [55.747677],\n",
       "        [58.795048],\n",
       "        [61.842415],\n",
       "        [64.88978 ],\n",
       "        [67.93715 ],\n",
       "        [70.98451 ],\n",
       "        [74.031876]], dtype=float32),\n",
       " <tf.Tensor: shape=(10,), dtype=float32, numpy=\n",
       " array([ 70.,  74.,  78.,  82.,  86.,  90.,  94.,  98., 102., 106.],\n",
       "       dtype=float32)>)"
      ]
     },
     "execution_count": 28,
     "metadata": {},
     "output_type": "execute_result"
    }
   ],
   "source": [
    "y_pred, y_test\n"
   ]
  },
  {
   "cell_type": "code",
   "execution_count": 29,
   "metadata": {},
   "outputs": [],
   "source": [
    "y_pred = tf.squeeze(y_pred)"
   ]
  },
  {
   "cell_type": "code",
   "execution_count": 30,
   "metadata": {},
   "outputs": [
    {
     "data": {
      "text/plain": [
       "<tf.Tensor: shape=(), dtype=float32, numpy=27.681269>"
      ]
     },
     "execution_count": 30,
     "metadata": {},
     "output_type": "execute_result"
    }
   ],
   "source": [
    "mae = tf.metrics.mean_absolute_error(y_test, y_pred)\n",
    "mae "
   ]
  },
  {
   "cell_type": "code",
   "execution_count": 31,
   "metadata": {},
   "outputs": [
    {
     "data": {
      "text/plain": [
       "<tf.Tensor: shape=(), dtype=float32, numpy=773.7397>"
      ]
     },
     "execution_count": 31,
     "metadata": {},
     "output_type": "execute_result"
    }
   ],
   "source": [
    "mse = tf.metrics.mean_squared_error(y_test, y_pred)\n",
    "mse"
   ]
  },
  {
   "cell_type": "code",
   "execution_count": 32,
   "metadata": {},
   "outputs": [
    {
     "data": {
      "text/plain": [
       "<tf.Tensor: shape=(), dtype=float32, numpy=27.181269>"
      ]
     },
     "execution_count": 32,
     "metadata": {},
     "output_type": "execute_result"
    }
   ],
   "source": [
    "huber = tf.keras.losses.Huber(delta= 1)\n",
    "huber(y_test, y_pred)"
   ]
  },
  {
   "cell_type": "code",
   "execution_count": 33,
   "metadata": {},
   "outputs": [],
   "source": [
    "def Mae(y_true, y_pred):\n",
    "    return tf.keras.losses.mae(y_true, tf.squeeze(y_pred))\n",
    "def mse(y_true, y_pred):\n",
    "    return tf.keras.losses.mse(y_true, tf.squeeze(y_pred))"
   ]
  },
  {
   "cell_type": "code",
   "execution_count": 34,
   "metadata": {},
   "outputs": [
    {
     "data": {
      "text/plain": [
       "(<tf.Tensor: shape=(40,), dtype=float32, numpy=\n",
       " array([-100.,  -96.,  -92.,  -88.,  -84.,  -80.,  -76.,  -72.,  -68.,\n",
       "         -64.,  -60.,  -56.,  -52.,  -48.,  -44.,  -40.,  -36.,  -32.,\n",
       "         -28.,  -24.,  -20.,  -16.,  -12.,   -8.,   -4.,    0.,    4.,\n",
       "           8.,   12.,   16.,   20.,   24.,   28.,   32.,   36.,   40.,\n",
       "          44.,   48.,   52.,   56.], dtype=float32)>,\n",
       " <tf.Tensor: shape=(40,), dtype=float32, numpy=\n",
       " array([-90., -86., -82., -78., -74., -70., -66., -62., -58., -54., -50.,\n",
       "        -46., -42., -38., -34., -30., -26., -22., -18., -14., -10.,  -6.,\n",
       "         -2.,   2.,   6.,  10.,  14.,  18.,  22.,  26.,  30.,  34.,  38.,\n",
       "         42.,  46.,  50.,  54.,  58.,  62.,  66.], dtype=float32)>)"
      ]
     },
     "execution_count": 34,
     "metadata": {},
     "output_type": "execute_result"
    }
   ],
   "source": [
    "X_train, y_train"
   ]
  },
  {
   "cell_type": "code",
   "execution_count": 35,
   "metadata": {},
   "outputs": [
    {
     "name": "stdout",
     "output_type": "stream",
     "text": [
      "Epoch 1/100\n"
     ]
    },
    {
     "name": "stdout",
     "output_type": "stream",
     "text": [
      "2/2 [==============================] - 0s 10ms/step - loss: 10.0141 - mae: 10.0141\n",
      "Epoch 2/100\n",
      "2/2 [==============================] - 0s 4ms/step - loss: 11.1950 - mae: 11.1950\n",
      "Epoch 3/100\n",
      "2/2 [==============================] - 0s 4ms/step - loss: 15.1367 - mae: 15.1367\n",
      "Epoch 4/100\n",
      "2/2 [==============================] - 0s 5ms/step - loss: 10.3211 - mae: 10.3211\n",
      "Epoch 5/100\n",
      "2/2 [==============================] - 0s 4ms/step - loss: 11.5961 - mae: 11.5961\n",
      "Epoch 6/100\n",
      "2/2 [==============================] - 0s 6ms/step - loss: 11.4226 - mae: 11.4226\n",
      "Epoch 7/100\n",
      "2/2 [==============================] - 0s 4ms/step - loss: 13.2428 - mae: 13.2428\n",
      "Epoch 8/100\n",
      "2/2 [==============================] - 0s 5ms/step - loss: 12.3007 - mae: 12.3007\n",
      "Epoch 9/100\n",
      "2/2 [==============================] - 0s 6ms/step - loss: 10.2697 - mae: 10.2697\n",
      "Epoch 10/100\n",
      "2/2 [==============================] - 0s 4ms/step - loss: 10.3668 - mae: 10.3668\n",
      "Epoch 11/100\n",
      "2/2 [==============================] - 0s 5ms/step - loss: 10.3496 - mae: 10.3496\n",
      "Epoch 12/100\n",
      "2/2 [==============================] - 0s 6ms/step - loss: 9.0874 - mae: 9.0874\n",
      "Epoch 13/100\n",
      "2/2 [==============================] - 0s 4ms/step - loss: 10.6829 - mae: 10.6829\n",
      "Epoch 14/100\n",
      "2/2 [==============================] - 0s 6ms/step - loss: 8.5833 - mae: 8.5833\n",
      "Epoch 15/100\n",
      "2/2 [==============================] - 0s 4ms/step - loss: 12.3369 - mae: 12.3369\n",
      "Epoch 16/100\n",
      "2/2 [==============================] - 0s 5ms/step - loss: 16.0031 - mae: 16.0031\n",
      "Epoch 17/100\n",
      "2/2 [==============================] - 0s 5ms/step - loss: 9.9503 - mae: 9.9503\n",
      "Epoch 18/100\n",
      "2/2 [==============================] - 0s 4ms/step - loss: 12.0918 - mae: 12.0918\n",
      "Epoch 19/100\n",
      "2/2 [==============================] - 0s 7ms/step - loss: 19.6416 - mae: 19.6416\n",
      "Epoch 20/100\n",
      "2/2 [==============================] - 0s 4ms/step - loss: 12.6125 - mae: 12.6125\n",
      "Epoch 21/100\n",
      "2/2 [==============================] - 0s 5ms/step - loss: 9.6940 - mae: 9.6940\n",
      "Epoch 22/100\n",
      "2/2 [==============================] - 0s 7ms/step - loss: 11.8435 - mae: 11.8435\n",
      "Epoch 23/100\n",
      "2/2 [==============================] - 0s 4ms/step - loss: 10.1526 - mae: 10.1526\n",
      "Epoch 24/100\n",
      "2/2 [==============================] - 0s 5ms/step - loss: 9.7796 - mae: 9.7796\n",
      "Epoch 25/100\n",
      "2/2 [==============================] - 0s 6ms/step - loss: 9.2355 - mae: 9.2355\n",
      "Epoch 26/100\n",
      "2/2 [==============================] - 0s 4ms/step - loss: 8.3602 - mae: 8.3602\n",
      "Epoch 27/100\n",
      "2/2 [==============================] - 0s 6ms/step - loss: 7.3684 - mae: 7.3684\n",
      "Epoch 28/100\n",
      "2/2 [==============================] - 0s 5ms/step - loss: 8.7525 - mae: 8.7525\n",
      "Epoch 29/100\n",
      "2/2 [==============================] - 0s 4ms/step - loss: 12.1268 - mae: 12.1268\n",
      "Epoch 30/100\n",
      "2/2 [==============================] - 0s 7ms/step - loss: 10.3931 - mae: 10.3931\n",
      "Epoch 31/100\n",
      "2/2 [==============================] - 0s 4ms/step - loss: 7.2949 - mae: 7.2949\n",
      "Epoch 32/100\n",
      "2/2 [==============================] - 0s 5ms/step - loss: 8.5623 - mae: 8.5623\n",
      "Epoch 33/100\n",
      "2/2 [==============================] - 0s 5ms/step - loss: 12.1907 - mae: 12.1907\n",
      "Epoch 34/100\n",
      "2/2 [==============================] - 0s 5ms/step - loss: 7.3188 - mae: 7.3188\n",
      "Epoch 35/100\n",
      "2/2 [==============================] - 0s 5ms/step - loss: 16.3709 - mae: 16.3709\n",
      "Epoch 36/100\n",
      "2/2 [==============================] - 0s 4ms/step - loss: 11.5184 - mae: 11.5184\n",
      "Epoch 37/100\n",
      "2/2 [==============================] - 0s 5ms/step - loss: 10.1424 - mae: 10.1424\n",
      "Epoch 38/100\n",
      "2/2 [==============================] - 0s 5ms/step - loss: 7.1915 - mae: 7.1915\n",
      "Epoch 39/100\n",
      "2/2 [==============================] - 0s 4ms/step - loss: 9.3646 - mae: 9.3646\n",
      "Epoch 40/100\n",
      "2/2 [==============================] - 0s 7ms/step - loss: 10.7242 - mae: 10.7242\n",
      "Epoch 41/100\n",
      "2/2 [==============================] - 0s 4ms/step - loss: 7.2699 - mae: 7.2699\n",
      "Epoch 42/100\n",
      "2/2 [==============================] - 0s 6ms/step - loss: 14.1003 - mae: 14.1003\n",
      "Epoch 43/100\n",
      "2/2 [==============================] - 0s 6ms/step - loss: 8.9513 - mae: 8.9513\n",
      "Epoch 44/100\n",
      "2/2 [==============================] - 0s 4ms/step - loss: 9.1019 - mae: 9.1019\n",
      "Epoch 45/100\n",
      "2/2 [==============================] - 0s 6ms/step - loss: 7.8341 - mae: 7.8341\n",
      "Epoch 46/100\n",
      "2/2 [==============================] - 0s 7ms/step - loss: 15.1732 - mae: 15.1732\n",
      "Epoch 47/100\n",
      "2/2 [==============================] - 0s 6ms/step - loss: 9.9241 - mae: 9.9241\n",
      "Epoch 48/100\n",
      "2/2 [==============================] - 0s 5ms/step - loss: 9.8646 - mae: 9.8646\n",
      "Epoch 49/100\n",
      "2/2 [==============================] - 0s 7ms/step - loss: 14.2979 - mae: 14.2979\n",
      "Epoch 50/100\n",
      "2/2 [==============================] - 0s 5ms/step - loss: 7.4268 - mae: 7.4268\n",
      "Epoch 51/100\n",
      "2/2 [==============================] - 0s 3ms/step - loss: 11.3122 - mae: 11.3122\n",
      "Epoch 52/100\n",
      "2/2 [==============================] - 0s 5ms/step - loss: 10.3346 - mae: 10.3346\n",
      "Epoch 53/100\n",
      "2/2 [==============================] - 0s 4ms/step - loss: 7.1960 - mae: 7.1960\n",
      "Epoch 54/100\n",
      "2/2 [==============================] - 0s 6ms/step - loss: 16.3912 - mae: 16.3912\n",
      "Epoch 55/100\n",
      "2/2 [==============================] - 0s 4ms/step - loss: 11.0971 - mae: 11.0971\n",
      "Epoch 56/100\n",
      "2/2 [==============================] - 0s 5ms/step - loss: 12.9341 - mae: 12.9341\n",
      "Epoch 57/100\n",
      "2/2 [==============================] - 0s 4ms/step - loss: 11.1289 - mae: 11.1289\n",
      "Epoch 58/100\n",
      "2/2 [==============================] - 0s 6ms/step - loss: 9.9010 - mae: 9.9010\n",
      "Epoch 59/100\n",
      "2/2 [==============================] - 0s 3ms/step - loss: 9.4070 - mae: 9.4070\n",
      "Epoch 60/100\n",
      "2/2 [==============================] - 0s 5ms/step - loss: 12.7403 - mae: 12.7403\n",
      "Epoch 61/100\n",
      "2/2 [==============================] - 0s 3ms/step - loss: 19.4655 - mae: 19.4655\n",
      "Epoch 62/100\n",
      "2/2 [==============================] - 0s 5ms/step - loss: 11.3661 - mae: 11.3661\n",
      "Epoch 63/100\n",
      "2/2 [==============================] - 0s 3ms/step - loss: 10.9801 - mae: 10.9801\n",
      "Epoch 64/100\n",
      "2/2 [==============================] - 0s 5ms/step - loss: 8.1758 - mae: 8.1758\n",
      "Epoch 65/100\n",
      "2/2 [==============================] - 0s 6ms/step - loss: 9.7214 - mae: 9.7214\n",
      "Epoch 66/100\n",
      "2/2 [==============================] - 0s 4ms/step - loss: 9.3207 - mae: 9.3207\n",
      "Epoch 67/100\n",
      "2/2 [==============================] - 0s 5ms/step - loss: 7.7908 - mae: 7.7908\n",
      "Epoch 68/100\n",
      "2/2 [==============================] - 0s 4ms/step - loss: 8.3738 - mae: 8.3738\n",
      "Epoch 69/100\n",
      "2/2 [==============================] - 0s 6ms/step - loss: 11.2022 - mae: 11.2022\n",
      "Epoch 70/100\n",
      "2/2 [==============================] - 0s 5ms/step - loss: 12.5277 - mae: 12.5277\n",
      "Epoch 71/100\n",
      "2/2 [==============================] - 0s 4ms/step - loss: 12.7179 - mae: 12.7179\n",
      "Epoch 72/100\n",
      "2/2 [==============================] - 0s 4ms/step - loss: 7.9745 - mae: 7.9745\n",
      "Epoch 73/100\n",
      "2/2 [==============================] - 0s 5ms/step - loss: 6.8621 - mae: 6.8621\n",
      "Epoch 74/100\n",
      "2/2 [==============================] - 0s 5ms/step - loss: 8.5107 - mae: 8.5107\n",
      "Epoch 75/100\n",
      "2/2 [==============================] - 0s 5ms/step - loss: 6.9823 - mae: 6.9823\n",
      "Epoch 76/100\n",
      "2/2 [==============================] - 0s 6ms/step - loss: 9.8010 - mae: 9.8010\n",
      "Epoch 77/100\n",
      "2/2 [==============================] - 0s 6ms/step - loss: 8.6730 - mae: 8.6730\n",
      "Epoch 78/100\n",
      "2/2 [==============================] - 0s 4ms/step - loss: 10.4523 - mae: 10.4523\n",
      "Epoch 79/100\n",
      "2/2 [==============================] - 0s 5ms/step - loss: 10.3869 - mae: 10.3869\n",
      "Epoch 80/100\n",
      "2/2 [==============================] - 0s 4ms/step - loss: 11.2122 - mae: 11.2122\n",
      "Epoch 81/100\n",
      "2/2 [==============================] - 0s 5ms/step - loss: 8.8479 - mae: 8.8479\n",
      "Epoch 82/100\n",
      "2/2 [==============================] - 0s 4ms/step - loss: 11.5030 - mae: 11.5030\n",
      "Epoch 83/100\n",
      "2/2 [==============================] - 0s 4ms/step - loss: 9.2646 - mae: 9.2646\n",
      "Epoch 84/100\n",
      "2/2 [==============================] - 0s 3ms/step - loss: 12.8462 - mae: 12.8462\n",
      "Epoch 85/100\n",
      "2/2 [==============================] - 0s 4ms/step - loss: 6.9284 - mae: 6.9284\n",
      "Epoch 86/100\n",
      "2/2 [==============================] - 0s 4ms/step - loss: 10.2507 - mae: 10.2507\n",
      "Epoch 87/100\n",
      "2/2 [==============================] - 0s 4ms/step - loss: 7.4188 - mae: 7.4188\n",
      "Epoch 88/100\n",
      "2/2 [==============================] - 0s 5ms/step - loss: 8.7116 - mae: 8.7116\n",
      "Epoch 89/100\n",
      "2/2 [==============================] - 0s 4ms/step - loss: 10.3260 - mae: 10.3260\n",
      "Epoch 90/100\n",
      "2/2 [==============================] - 0s 4ms/step - loss: 9.3936 - mae: 9.3936\n",
      "Epoch 91/100\n",
      "2/2 [==============================] - 0s 4ms/step - loss: 15.1761 - mae: 15.1761\n",
      "Epoch 92/100\n",
      "2/2 [==============================] - 0s 6ms/step - loss: 12.7195 - mae: 12.7195\n",
      "Epoch 93/100\n",
      "2/2 [==============================] - 0s 5ms/step - loss: 12.7333 - mae: 12.7333\n",
      "Epoch 94/100\n",
      "2/2 [==============================] - 0s 5ms/step - loss: 7.8733 - mae: 7.8733\n",
      "Epoch 95/100\n",
      "2/2 [==============================] - 0s 7ms/step - loss: 9.4311 - mae: 9.4311\n",
      "Epoch 96/100\n",
      "2/2 [==============================] - 0s 4ms/step - loss: 9.1620 - mae: 9.1620\n",
      "Epoch 97/100\n",
      "2/2 [==============================] - 0s 5ms/step - loss: 9.5066 - mae: 9.5066\n",
      "Epoch 98/100\n",
      "2/2 [==============================] - 0s 8ms/step - loss: 12.1806 - mae: 12.1806\n",
      "Epoch 99/100\n",
      "2/2 [==============================] - 0s 4ms/step - loss: 7.0599 - mae: 7.0599\n",
      "Epoch 100/100\n",
      "2/2 [==============================] - 0s 5ms/step - loss: 17.7076 - mae: 17.7076\n"
     ]
    },
    {
     "data": {
      "text/plain": [
       "<keras.src.callbacks.History at 0x7fb85af29510>"
      ]
     },
     "execution_count": 35,
     "metadata": {},
     "output_type": "execute_result"
    }
   ],
   "source": [
    "tf.random.set_seed(32)\n",
    "model1 = tf.keras.Sequential([\n",
    "    tf.keras.layers.Dense(1, input_shape = ([1]))\n",
    "])\n",
    "\n",
    "model1.compile(loss= tf.keras.losses.mae, \n",
    "               optimizer= tf.keras.optimizers.SGD(),\n",
    "               metrics= ['mae'])\n",
    "model1.fit(X_train, y_train, epochs = 100, verbose = 1)"
   ]
  },
  {
   "cell_type": "code",
   "execution_count": 36,
   "metadata": {},
   "outputs": [
    {
     "name": "stdout",
     "output_type": "stream",
     "text": [
      "WARNING:tensorflow:5 out of the last 5 calls to <function Model.make_predict_function.<locals>.predict_function at 0x7fb852e8a020> triggered tf.function retracing. Tracing is expensive and the excessive number of tracings could be due to (1) creating @tf.function repeatedly in a loop, (2) passing tensors with different shapes, (3) passing Python objects instead of tensors. For (1), please define your @tf.function outside of the loop. For (2), @tf.function has reduce_retracing=True option that can avoid unnecessary retracing. For (3), please refer to https://www.tensorflow.org/guide/function#controlling_retracing and https://www.tensorflow.org/api_docs/python/tf/function for  more details.\n",
      "1/1 [==============================] - 0s 56ms/step\n"
     ]
    }
   ],
   "source": [
    "y_pred1 = model1.predict(X_test)"
   ]
  },
  {
   "cell_type": "code",
   "execution_count": 37,
   "metadata": {},
   "outputs": [
    {
     "data": {
      "image/png": "[encoded data removed]",
      "text/plain": [
       "<Figure size 1000x600 with 1 Axes>"
      ]
     },
     "metadata": {},
     "output_type": "display_data"
    }
   ],
   "source": [
    "plot_predictions(prdeictions=y_pred1)"
   ]
  },
  {
   "cell_type": "code",
   "execution_count": 38,
   "metadata": {},
   "outputs": [
    {
     "data": {
      "text/plain": [
       "(<tf.Tensor: shape=(), dtype=float32, numpy=35.67055>,\n",
       " <tf.Tensor: shape=(), dtype=float32, numpy=1288.2571>)"
      ]
     },
     "execution_count": 38,
     "metadata": {},
     "output_type": "execute_result"
    }
   ],
   "source": [
    "mae1 = Mae(y_test, (y_pred1))\n",
    "mse1 = mse(y_test, (y_pred1))\n",
    "mae1, mse1"
   ]
  },
  {
   "cell_type": "code",
   "execution_count": 39,
   "metadata": {},
   "outputs": [
    {
     "data": {
      "text/plain": [
       "<keras.src.callbacks.History at 0x7fb85ae16350>"
      ]
     },
     "execution_count": 39,
     "metadata": {},
     "output_type": "execute_result"
    }
   ],
   "source": [
    "tf.random.set_seed(32)\n",
    "model2 = tf.keras.Sequential([\n",
    "    tf.keras.layers.Dense(10, input_shape= ([1])),\n",
    "    tf.keras.layers.Dense(1)\n",
    "])\n",
    "\n",
    "model2.compile(loss= tf.keras.losses.mae, \n",
    "               optimizer= tf.keras.optimizers.SGD(),\n",
    "               metrics= ['mse'])\n",
    "model2.fit(X_train, y_train, epochs = 120, verbose =0)"
   ]
  },
  {
   "cell_type": "code",
   "execution_count": 40,
   "metadata": {},
   "outputs": [
    {
     "name": "stdout",
     "output_type": "stream",
     "text": [
      "WARNING:tensorflow:6 out of the last 6 calls to <function Model.make_predict_function.<locals>.predict_function at 0x7fb852e82520> triggered tf.function retracing. Tracing is expensive and the excessive number of tracings could be due to (1) creating @tf.function repeatedly in a loop, (2) passing tensors with different shapes, (3) passing Python objects instead of tensors. For (1), please define your @tf.function outside of the loop. For (2), @tf.function has reduce_retracing=True option that can avoid unnecessary retracing. For (3), please refer to https://www.tensorflow.org/guide/function#controlling_retracing and https://www.tensorflow.org/api_docs/python/tf/function for  more details.\n",
      "1/1 [==============================] - 0s 51ms/step\n"
     ]
    }
   ],
   "source": [
    "y_pred2= model2.predict(X_test)\n"
   ]
  },
  {
   "cell_type": "code",
   "execution_count": 41,
   "metadata": {},
   "outputs": [
    {
     "data": {
      "image/png": "[encoded data removed]",
      "text/plain": [
       "<Figure size 1000x600 with 1 Axes>"
      ]
     },
     "metadata": {},
     "output_type": "display_data"
    }
   ],
   "source": [
    "plot_predictions(prdeictions=y_pred2)\n"
   ]
  },
  {
   "cell_type": "code",
   "execution_count": 42,
   "metadata": {},
   "outputs": [
    {
     "data": {
      "text/plain": [
       "(<tf.Tensor: shape=(), dtype=float32, numpy=10.403114>,\n",
       " <tf.Tensor: shape=(), dtype=float32, numpy=115.54751>)"
      ]
     },
     "execution_count": 42,
     "metadata": {},
     "output_type": "execute_result"
    }
   ],
   "source": [
    "mae2 = Mae(y_test, (y_pred2))\n",
    "mse2 = mse(y_test, (y_pred2))\n",
    "mae2, mse2"
   ]
  },
  {
   "cell_type": "code",
   "execution_count": 43,
   "metadata": {},
   "outputs": [
    {
     "name": "stdout",
     "output_type": "stream",
     "text": [
      "Epoch 1/500\n",
      "2/2 [==============================] - 0s 8ms/step - loss: 38.4139 - mae: 38.4139\n",
      "Epoch 2/500\n",
      "2/2 [==============================] - 0s 3ms/step - loss: 21.9937 - mae: 21.9937\n",
      "Epoch 3/500\n",
      "2/2 [==============================] - 0s 5ms/step - loss: 29.0981 - mae: 29.0981\n",
      "Epoch 4/500\n",
      "2/2 [==============================] - 0s 3ms/step - loss: 9.1327 - mae: 9.1327\n",
      "Epoch 5/500\n",
      "2/2 [==============================] - 0s 6ms/step - loss: 11.2671 - mae: 11.2671\n",
      "Epoch 6/500\n",
      "2/2 [==============================] - 0s 3ms/step - loss: 30.9043 - mae: 30.9043\n",
      "Epoch 7/500\n",
      "2/2 [==============================] - 0s 5ms/step - loss: 14.1554 - mae: 14.1554\n",
      "Epoch 8/500\n",
      "2/2 [==============================] - 0s 4ms/step - loss: 10.0135 - mae: 10.0135\n",
      "Epoch 9/500\n",
      "2/2 [==============================] - 0s 4ms/step - loss: 11.5057 - mae: 11.5057\n",
      "Epoch 10/500\n",
      "2/2 [==============================] - 0s 3ms/step - loss: 17.6421 - mae: 17.6421\n",
      "Epoch 11/500\n",
      "2/2 [==============================] - 0s 3ms/step - loss: 10.9194 - mae: 10.9194\n",
      "Epoch 12/500\n",
      "2/2 [==============================] - 0s 4ms/step - loss: 12.0323 - mae: 12.0323\n",
      "Epoch 13/500\n",
      "2/2 [==============================] - 0s 3ms/step - loss: 12.6058 - mae: 12.6058\n",
      "Epoch 14/500\n",
      "2/2 [==============================] - 0s 4ms/step - loss: 9.8028 - mae: 9.8028\n",
      "Epoch 15/500\n",
      "2/2 [==============================] - 0s 3ms/step - loss: 22.0600 - mae: 22.0600\n",
      "Epoch 16/500\n",
      "2/2 [==============================] - 0s 4ms/step - loss: 10.9679 - mae: 10.9679\n",
      "Epoch 17/500\n",
      "2/2 [==============================] - 0s 3ms/step - loss: 10.9729 - mae: 10.9729\n",
      "Epoch 18/500\n",
      "2/2 [==============================] - 0s 4ms/step - loss: 10.0255 - mae: 10.0255\n",
      "Epoch 19/500\n",
      "2/2 [==============================] - 0s 3ms/step - loss: 34.3275 - mae: 34.3275\n",
      "Epoch 20/500\n",
      "2/2 [==============================] - 0s 3ms/step - loss: 17.2105 - mae: 17.2105\n",
      "Epoch 21/500\n",
      "2/2 [==============================] - 0s 4ms/step - loss: 7.7394 - mae: 7.7394\n",
      "Epoch 22/500\n",
      "2/2 [==============================] - 0s 14ms/step - loss: 10.8078 - mae: 10.8078\n",
      "Epoch 23/500\n",
      "2/2 [==============================] - 0s 6ms/step - loss: 10.9472 - mae: 10.9472\n",
      "Epoch 24/500\n",
      "2/2 [==============================] - 0s 4ms/step - loss: 12.7507 - mae: 12.7507\n",
      "Epoch 25/500\n",
      "2/2 [==============================] - 0s 7ms/step - loss: 18.1977 - mae: 18.1977\n",
      "Epoch 26/500\n",
      "2/2 [==============================] - 0s 4ms/step - loss: 15.3430 - mae: 15.3430\n",
      "Epoch 27/500\n",
      "2/2 [==============================] - 0s 5ms/step - loss: 12.2622 - mae: 12.2622\n",
      "Epoch 28/500\n",
      "2/2 [==============================] - 0s 3ms/step - loss: 14.5858 - mae: 14.5858\n",
      "Epoch 29/500\n",
      "2/2 [==============================] - 0s 6ms/step - loss: 18.9825 - mae: 18.9825\n",
      "Epoch 30/500\n",
      "2/2 [==============================] - 0s 4ms/step - loss: 13.5408 - mae: 13.5408\n",
      "Epoch 31/500\n",
      "2/2 [==============================] - 0s 4ms/step - loss: 14.9334 - mae: 14.9334\n",
      "Epoch 32/500\n",
      "2/2 [==============================] - 0s 3ms/step - loss: 10.4646 - mae: 10.4646\n",
      "Epoch 33/500\n",
      "2/2 [==============================] - 0s 4ms/step - loss: 21.3567 - mae: 21.3567\n",
      "Epoch 34/500\n",
      "2/2 [==============================] - 0s 3ms/step - loss: 11.7250 - mae: 11.7250\n",
      "Epoch 35/500\n",
      "2/2 [==============================] - 0s 5ms/step - loss: 19.8154 - mae: 19.8154\n",
      "Epoch 36/500\n",
      "2/2 [==============================] - 0s 3ms/step - loss: 13.9311 - mae: 13.9311\n",
      "Epoch 37/500\n",
      "2/2 [==============================] - 0s 5ms/step - loss: 22.2737 - mae: 22.2737\n",
      "Epoch 38/500\n",
      "2/2 [==============================] - 0s 3ms/step - loss: 21.4926 - mae: 21.4926\n",
      "Epoch 39/500\n",
      "2/2 [==============================] - 0s 4ms/step - loss: 9.8189 - mae: 9.8189\n",
      "Epoch 40/500\n",
      "2/2 [==============================] - 0s 4ms/step - loss: 14.3856 - mae: 14.3856\n",
      "Epoch 41/500\n",
      "2/2 [==============================] - 0s 3ms/step - loss: 16.6551 - mae: 16.6551\n",
      "Epoch 42/500\n",
      "2/2 [==============================] - 0s 5ms/step - loss: 26.7367 - mae: 26.7367\n",
      "Epoch 43/500\n",
      "2/2 [==============================] - 0s 4ms/step - loss: 13.0461 - mae: 13.0461\n",
      "Epoch 44/500\n",
      "2/2 [==============================] - 0s 4ms/step - loss: 10.7366 - mae: 10.7366\n",
      "Epoch 45/500\n",
      "2/2 [==============================] - 0s 3ms/step - loss: 11.3817 - mae: 11.3817\n",
      "Epoch 46/500\n",
      "2/2 [==============================] - 0s 4ms/step - loss: 31.7357 - mae: 31.7357\n",
      "Epoch 47/500\n",
      "2/2 [==============================] - 0s 3ms/step - loss: 15.2639 - mae: 15.2639\n",
      "Epoch 48/500\n",
      "2/2 [==============================] - 0s 5ms/step - loss: 20.0818 - mae: 20.0818\n",
      "Epoch 49/500\n",
      "2/2 [==============================] - 0s 3ms/step - loss: 16.8334 - mae: 16.8334\n",
      "Epoch 50/500\n",
      "2/2 [==============================] - 0s 5ms/step - loss: 11.6191 - mae: 11.6191\n",
      "Epoch 51/500\n",
      "2/2 [==============================] - 0s 3ms/step - loss: 16.1454 - mae: 16.1454\n",
      "Epoch 52/500\n",
      "2/2 [==============================] - 0s 3ms/step - loss: 10.5075 - mae: 10.5075\n",
      "Epoch 53/500\n",
      "2/2 [==============================] - 0s 4ms/step - loss: 19.4221 - mae: 19.4221\n",
      "Epoch 54/500\n",
      "2/2 [==============================] - 0s 3ms/step - loss: 24.1965 - mae: 24.1965\n",
      "Epoch 55/500\n",
      "2/2 [==============================] - 0s 3ms/step - loss: 9.1720 - mae: 9.1720\n",
      "Epoch 56/500\n",
      "2/2 [==============================] - 0s 4ms/step - loss: 24.7527 - mae: 24.7527\n",
      "Epoch 57/500\n",
      "2/2 [==============================] - 0s 4ms/step - loss: 23.5308 - mae: 23.5308\n",
      "Epoch 58/500\n",
      "2/2 [==============================] - 0s 3ms/step - loss: 9.2840 - mae: 9.2840\n",
      "Epoch 59/500\n",
      "2/2 [==============================] - 0s 5ms/step - loss: 18.0941 - mae: 18.0941\n",
      "Epoch 60/500\n",
      "2/2 [==============================] - 0s 3ms/step - loss: 29.8294 - mae: 29.8294\n",
      "Epoch 61/500\n",
      "2/2 [==============================] - 0s 3ms/step - loss: 22.3910 - mae: 22.3910\n",
      "Epoch 62/500\n",
      "2/2 [==============================] - 0s 3ms/step - loss: 10.7790 - mae: 10.7790\n",
      "Epoch 63/500\n",
      "2/2 [==============================] - 0s 3ms/step - loss: 11.7827 - mae: 11.7827\n",
      "Epoch 64/500\n",
      "2/2 [==============================] - 0s 5ms/step - loss: 12.7660 - mae: 12.7660\n",
      "Epoch 65/500\n",
      "2/2 [==============================] - 0s 3ms/step - loss: 11.7551 - mae: 11.7551\n",
      "Epoch 66/500\n",
      "2/2 [==============================] - 0s 4ms/step - loss: 18.3267 - mae: 18.3267\n",
      "Epoch 67/500\n",
      "2/2 [==============================] - 0s 3ms/step - loss: 14.3924 - mae: 14.3924\n",
      "Epoch 68/500\n",
      "2/2 [==============================] - 0s 4ms/step - loss: 17.2339 - mae: 17.2339\n",
      "Epoch 69/500\n",
      "2/2 [==============================] - 0s 3ms/step - loss: 16.3501 - mae: 16.3501\n",
      "Epoch 70/500\n",
      "2/2 [==============================] - 0s 3ms/step - loss: 12.3503 - mae: 12.3503\n",
      "Epoch 71/500\n",
      "2/2 [==============================] - 0s 3ms/step - loss: 19.5055 - mae: 19.5055\n",
      "Epoch 72/500\n",
      "2/2 [==============================] - 0s 3ms/step - loss: 29.6523 - mae: 29.6523\n",
      "Epoch 73/500\n",
      "2/2 [==============================] - 0s 4ms/step - loss: 13.7841 - mae: 13.7841\n",
      "Epoch 74/500\n",
      "2/2 [==============================] - 0s 3ms/step - loss: 22.1329 - mae: 22.1329\n",
      "Epoch 75/500\n",
      "2/2 [==============================] - 0s 3ms/step - loss: 18.4169 - mae: 18.4169\n",
      "Epoch 76/500\n",
      "2/2 [==============================] - 0s 3ms/step - loss: 9.4358 - mae: 9.4358\n",
      "Epoch 77/500\n",
      "2/2 [==============================] - 0s 3ms/step - loss: 12.5610 - mae: 12.5610\n",
      "Epoch 78/500\n",
      "2/2 [==============================] - 0s 5ms/step - loss: 23.2647 - mae: 23.2647\n",
      "Epoch 79/500\n",
      "2/2 [==============================] - 0s 3ms/step - loss: 13.8441 - mae: 13.8441\n",
      "Epoch 80/500\n",
      "2/2 [==============================] - 0s 2ms/step - loss: 17.5653 - mae: 17.5653\n",
      "Epoch 81/500\n",
      "2/2 [==============================] - 0s 4ms/step - loss: 9.1870 - mae: 9.1870\n",
      "Epoch 82/500\n",
      "2/2 [==============================] - 0s 3ms/step - loss: 21.1227 - mae: 21.1227\n",
      "Epoch 83/500\n",
      "2/2 [==============================] - 0s 4ms/step - loss: 22.4171 - mae: 22.4171\n",
      "Epoch 84/500\n",
      "2/2 [==============================] - 0s 4ms/step - loss: 11.3592 - mae: 11.3592\n",
      "Epoch 85/500\n",
      "2/2 [==============================] - 0s 3ms/step - loss: 19.7971 - mae: 19.7971\n",
      "Epoch 86/500\n",
      "2/2 [==============================] - 0s 3ms/step - loss: 14.6981 - mae: 14.6981\n",
      "Epoch 87/500\n",
      "2/2 [==============================] - 0s 3ms/step - loss: 15.1281 - mae: 15.1281\n",
      "Epoch 88/500\n",
      "2/2 [==============================] - 0s 4ms/step - loss: 11.1053 - mae: 11.1053\n",
      "Epoch 89/500\n",
      "2/2 [==============================] - 0s 3ms/step - loss: 16.2238 - mae: 16.2238\n",
      "Epoch 90/500\n",
      "2/2 [==============================] - 0s 3ms/step - loss: 11.6032 - mae: 11.6032\n",
      "Epoch 91/500\n",
      "2/2 [==============================] - 0s 3ms/step - loss: 23.9623 - mae: 23.9623\n",
      "Epoch 92/500\n",
      "2/2 [==============================] - 0s 3ms/step - loss: 7.6692 - mae: 7.6692\n",
      "Epoch 93/500\n",
      "2/2 [==============================] - 0s 3ms/step - loss: 19.1688 - mae: 19.1688\n",
      "Epoch 94/500\n",
      "2/2 [==============================] - 0s 4ms/step - loss: 9.2780 - mae: 9.2780\n",
      "Epoch 95/500\n",
      "2/2 [==============================] - 0s 4ms/step - loss: 11.3449 - mae: 11.3449\n",
      "Epoch 96/500\n",
      "2/2 [==============================] - 0s 3ms/step - loss: 11.8968 - mae: 11.8968\n",
      "Epoch 97/500\n",
      "2/2 [==============================] - 0s 3ms/step - loss: 10.5219 - mae: 10.5219\n",
      "Epoch 98/500\n",
      "2/2 [==============================] - 0s 3ms/step - loss: 12.1766 - mae: 12.1766\n",
      "Epoch 99/500\n",
      "2/2 [==============================] - 0s 3ms/step - loss: 8.4084 - mae: 8.4084\n",
      "Epoch 100/500\n",
      "2/2 [==============================] - 0s 4ms/step - loss: 17.9264 - mae: 17.9264\n",
      "Epoch 101/500\n",
      "2/2 [==============================] - 0s 3ms/step - loss: 8.2715 - mae: 8.2715\n",
      "Epoch 102/500\n",
      "2/2 [==============================] - 0s 3ms/step - loss: 14.6448 - mae: 14.6448\n",
      "Epoch 103/500\n",
      "2/2 [==============================] - 0s 3ms/step - loss: 18.4981 - mae: 18.4981\n",
      "Epoch 104/500\n",
      "2/2 [==============================] - 0s 3ms/step - loss: 17.5910 - mae: 17.5910\n",
      "Epoch 105/500\n",
      "2/2 [==============================] - 0s 4ms/step - loss: 19.0759 - mae: 19.0759\n",
      "Epoch 106/500\n",
      "2/2 [==============================] - 0s 3ms/step - loss: 24.0283 - mae: 24.0283\n",
      "Epoch 107/500\n",
      "2/2 [==============================] - 0s 3ms/step - loss: 9.9287 - mae: 9.9287\n",
      "Epoch 108/500\n",
      "2/2 [==============================] - 0s 3ms/step - loss: 22.2392 - mae: 22.2392\n",
      "Epoch 109/500\n",
      "2/2 [==============================] - 0s 3ms/step - loss: 13.6952 - mae: 13.6952\n",
      "Epoch 110/500\n",
      "2/2 [==============================] - 0s 5ms/step - loss: 19.9444 - mae: 19.9444\n",
      "Epoch 111/500\n",
      "2/2 [==============================] - 0s 3ms/step - loss: 10.5133 - mae: 10.5133\n",
      "Epoch 112/500\n",
      "2/2 [==============================] - 0s 3ms/step - loss: 17.6800 - mae: 17.6800\n",
      "Epoch 113/500\n",
      "2/2 [==============================] - 0s 3ms/step - loss: 18.6837 - mae: 18.6837\n",
      "Epoch 114/500\n",
      "2/2 [==============================] - 0s 2ms/step - loss: 24.2439 - mae: 24.2439\n",
      "Epoch 115/500\n",
      "2/2 [==============================] - 0s 4ms/step - loss: 7.3382 - mae: 7.3382\n",
      "Epoch 116/500\n",
      "2/2 [==============================] - 0s 3ms/step - loss: 19.1911 - mae: 19.1911\n",
      "Epoch 117/500\n",
      "2/2 [==============================] - 0s 3ms/step - loss: 12.1736 - mae: 12.1736\n",
      "Epoch 118/500\n",
      "2/2 [==============================] - 0s 4ms/step - loss: 15.2532 - mae: 15.2532\n",
      "Epoch 119/500\n",
      "2/2 [==============================] - 0s 3ms/step - loss: 10.7561 - mae: 10.7561\n",
      "Epoch 120/500\n",
      "2/2 [==============================] - 0s 5ms/step - loss: 25.3505 - mae: 25.3505\n",
      "Epoch 121/500\n",
      "2/2 [==============================] - 0s 4ms/step - loss: 16.6481 - mae: 16.6481\n",
      "Epoch 122/500\n",
      "2/2 [==============================] - 0s 4ms/step - loss: 9.0220 - mae: 9.0220\n",
      "Epoch 123/500\n",
      "2/2 [==============================] - 0s 3ms/step - loss: 11.8759 - mae: 11.8759\n",
      "Epoch 124/500\n",
      "2/2 [==============================] - 0s 4ms/step - loss: 11.0064 - mae: 11.0064\n",
      "Epoch 125/500\n",
      "2/2 [==============================] - 0s 3ms/step - loss: 18.8966 - mae: 18.8966\n",
      "Epoch 126/500\n",
      "2/2 [==============================] - 0s 4ms/step - loss: 30.7187 - mae: 30.7187\n",
      "Epoch 127/500\n",
      "2/2 [==============================] - 0s 3ms/step - loss: 16.6580 - mae: 16.6580\n",
      "Epoch 128/500\n",
      "2/2 [==============================] - 0s 3ms/step - loss: 11.8334 - mae: 11.8334\n",
      "Epoch 129/500\n",
      "2/2 [==============================] - 0s 3ms/step - loss: 19.8724 - mae: 19.8724\n",
      "Epoch 130/500\n",
      "2/2 [==============================] - 0s 3ms/step - loss: 7.7840 - mae: 7.7840\n",
      "Epoch 131/500\n",
      "2/2 [==============================] - 0s 3ms/step - loss: 11.0655 - mae: 11.0655\n",
      "Epoch 132/500\n",
      "2/2 [==============================] - 0s 3ms/step - loss: 16.5339 - mae: 16.5339\n",
      "Epoch 133/500\n",
      "2/2 [==============================] - 0s 4ms/step - loss: 9.7873 - mae: 9.7873\n",
      "Epoch 134/500\n",
      "2/2 [==============================] - 0s 3ms/step - loss: 8.4895 - mae: 8.4895\n",
      "Epoch 135/500\n",
      "2/2 [==============================] - 0s 3ms/step - loss: 8.9209 - mae: 8.9209\n",
      "Epoch 136/500\n",
      "2/2 [==============================] - 0s 3ms/step - loss: 16.3127 - mae: 16.3127\n",
      "Epoch 137/500\n",
      "2/2 [==============================] - 0s 3ms/step - loss: 12.5830 - mae: 12.5830\n",
      "Epoch 138/500\n",
      "2/2 [==============================] - 0s 3ms/step - loss: 9.0088 - mae: 9.0088\n",
      "Epoch 139/500\n",
      "2/2 [==============================] - 0s 3ms/step - loss: 5.9248 - mae: 5.9248\n",
      "Epoch 140/500\n",
      "2/2 [==============================] - 0s 3ms/step - loss: 9.1607 - mae: 9.1607\n",
      "Epoch 141/500\n",
      "2/2 [==============================] - 0s 4ms/step - loss: 18.2035 - mae: 18.2035\n",
      "Epoch 142/500\n",
      "2/2 [==============================] - 0s 3ms/step - loss: 9.6242 - mae: 9.6242\n",
      "Epoch 143/500\n",
      "2/2 [==============================] - 0s 3ms/step - loss: 16.0206 - mae: 16.0206\n",
      "Epoch 144/500\n",
      "2/2 [==============================] - 0s 3ms/step - loss: 7.7407 - mae: 7.7407\n",
      "Epoch 145/500\n",
      "2/2 [==============================] - 0s 3ms/step - loss: 17.4600 - mae: 17.4600\n",
      "Epoch 146/500\n",
      "2/2 [==============================] - 0s 4ms/step - loss: 14.4686 - mae: 14.4686\n",
      "Epoch 147/500\n",
      "2/2 [==============================] - 0s 3ms/step - loss: 15.6330 - mae: 15.6330\n",
      "Epoch 148/500\n",
      "2/2 [==============================] - 0s 3ms/step - loss: 15.8493 - mae: 15.8493\n",
      "Epoch 149/500\n",
      "2/2 [==============================] - 0s 3ms/step - loss: 13.4533 - mae: 13.4533\n",
      "Epoch 150/500\n",
      "2/2 [==============================] - 0s 3ms/step - loss: 13.0048 - mae: 13.0048\n",
      "Epoch 151/500\n",
      "2/2 [==============================] - 0s 4ms/step - loss: 25.0137 - mae: 25.0137\n",
      "Epoch 152/500\n",
      "2/2 [==============================] - 0s 4ms/step - loss: 15.3748 - mae: 15.3748\n",
      "Epoch 153/500\n",
      "2/2 [==============================] - 0s 6ms/step - loss: 14.3732 - mae: 14.3732\n",
      "Epoch 154/500\n",
      "2/2 [==============================] - 0s 4ms/step - loss: 9.6721 - mae: 9.6721\n",
      "Epoch 155/500\n",
      "2/2 [==============================] - 0s 4ms/step - loss: 16.5184 - mae: 16.5184\n",
      "Epoch 156/500\n",
      "2/2 [==============================] - 0s 3ms/step - loss: 9.7273 - mae: 9.7273\n",
      "Epoch 157/500\n",
      "2/2 [==============================] - 0s 6ms/step - loss: 14.1149 - mae: 14.1149\n",
      "Epoch 158/500\n",
      "2/2 [==============================] - 0s 3ms/step - loss: 19.6989 - mae: 19.6989\n",
      "Epoch 159/500\n",
      "2/2 [==============================] - 0s 4ms/step - loss: 17.7641 - mae: 17.7641\n",
      "Epoch 160/500\n",
      "2/2 [==============================] - 0s 3ms/step - loss: 9.5425 - mae: 9.5425\n",
      "Epoch 161/500\n",
      "2/2 [==============================] - 0s 5ms/step - loss: 12.8751 - mae: 12.8751\n",
      "Epoch 162/500\n",
      "2/2 [==============================] - 0s 3ms/step - loss: 8.6855 - mae: 8.6855\n",
      "Epoch 163/500\n",
      "2/2 [==============================] - 0s 4ms/step - loss: 26.9010 - mae: 26.9010\n",
      "Epoch 164/500\n",
      "2/2 [==============================] - 0s 3ms/step - loss: 17.4157 - mae: 17.4157\n",
      "Epoch 165/500\n",
      "2/2 [==============================] - 0s 4ms/step - loss: 9.3725 - mae: 9.3725\n",
      "Epoch 166/500\n",
      "2/2 [==============================] - 0s 3ms/step - loss: 10.2934 - mae: 10.2934\n",
      "Epoch 167/500\n",
      "2/2 [==============================] - 0s 4ms/step - loss: 8.5914 - mae: 8.5914\n",
      "Epoch 168/500\n",
      "2/2 [==============================] - 0s 3ms/step - loss: 14.3232 - mae: 14.3232\n",
      "Epoch 169/500\n",
      "2/2 [==============================] - 0s 6ms/step - loss: 12.4676 - mae: 12.4676\n",
      "Epoch 170/500\n",
      "2/2 [==============================] - 0s 4ms/step - loss: 30.8279 - mae: 30.8279\n",
      "Epoch 171/500\n",
      "2/2 [==============================] - 0s 5ms/step - loss: 13.2259 - mae: 13.2259\n",
      "Epoch 172/500\n",
      "2/2 [==============================] - 0s 3ms/step - loss: 15.7102 - mae: 15.7102\n",
      "Epoch 173/500\n",
      "2/2 [==============================] - 0s 5ms/step - loss: 10.8400 - mae: 10.8400\n",
      "Epoch 174/500\n",
      "2/2 [==============================] - 0s 3ms/step - loss: 18.6433 - mae: 18.6433\n",
      "Epoch 175/500\n",
      "2/2 [==============================] - 0s 4ms/step - loss: 12.9982 - mae: 12.9982\n",
      "Epoch 176/500\n",
      "2/2 [==============================] - 0s 4ms/step - loss: 19.3956 - mae: 19.3956\n",
      "Epoch 177/500\n",
      "2/2 [==============================] - 0s 4ms/step - loss: 31.7861 - mae: 31.7861\n",
      "Epoch 178/500\n",
      "2/2 [==============================] - 0s 4ms/step - loss: 8.9515 - mae: 8.9515\n",
      "Epoch 179/500\n",
      "2/2 [==============================] - 0s 4ms/step - loss: 11.1952 - mae: 11.1952\n",
      "Epoch 180/500\n",
      "2/2 [==============================] - 0s 3ms/step - loss: 6.8277 - mae: 6.8277\n",
      "Epoch 181/500\n",
      "2/2 [==============================] - 0s 5ms/step - loss: 13.9280 - mae: 13.9280\n",
      "Epoch 182/500\n",
      "2/2 [==============================] - 0s 4ms/step - loss: 26.7142 - mae: 26.7142\n",
      "Epoch 183/500\n",
      "2/2 [==============================] - 0s 5ms/step - loss: 9.3032 - mae: 9.3032\n",
      "Epoch 184/500\n",
      "2/2 [==============================] - 0s 4ms/step - loss: 22.9309 - mae: 22.9309\n",
      "Epoch 185/500\n",
      "2/2 [==============================] - 0s 5ms/step - loss: 20.9281 - mae: 20.9281\n",
      "Epoch 186/500\n",
      "2/2 [==============================] - 0s 4ms/step - loss: 9.6153 - mae: 9.6153\n",
      "Epoch 187/500\n",
      "2/2 [==============================] - 0s 5ms/step - loss: 19.9708 - mae: 19.9708\n",
      "Epoch 188/500\n",
      "2/2 [==============================] - 0s 4ms/step - loss: 21.3333 - mae: 21.3333\n",
      "Epoch 189/500\n",
      "2/2 [==============================] - 0s 5ms/step - loss: 11.1164 - mae: 11.1164\n",
      "Epoch 190/500\n",
      "2/2 [==============================] - 0s 4ms/step - loss: 17.2520 - mae: 17.2520\n",
      "Epoch 191/500\n",
      "2/2 [==============================] - 0s 4ms/step - loss: 10.2815 - mae: 10.2815\n",
      "Epoch 192/500\n",
      "2/2 [==============================] - 0s 6ms/step - loss: 18.7872 - mae: 18.7872\n",
      "Epoch 193/500\n",
      "2/2 [==============================] - 0s 3ms/step - loss: 13.3051 - mae: 13.3051\n",
      "Epoch 194/500\n",
      "2/2 [==============================] - 0s 4ms/step - loss: 18.5908 - mae: 18.5908\n",
      "Epoch 195/500\n",
      "2/2 [==============================] - 0s 4ms/step - loss: 8.2129 - mae: 8.2129\n",
      "Epoch 196/500\n",
      "2/2 [==============================] - 0s 5ms/step - loss: 9.0216 - mae: 9.0216\n",
      "Epoch 197/500\n",
      "2/2 [==============================] - 0s 4ms/step - loss: 18.0778 - mae: 18.0778\n",
      "Epoch 198/500\n",
      "2/2 [==============================] - 0s 5ms/step - loss: 9.1799 - mae: 9.1799\n",
      "Epoch 199/500\n",
      "2/2 [==============================] - 0s 4ms/step - loss: 10.0074 - mae: 10.0074\n",
      "Epoch 200/500\n",
      "2/2 [==============================] - 0s 4ms/step - loss: 19.4023 - mae: 19.4023\n",
      "Epoch 201/500\n",
      "2/2 [==============================] - 0s 4ms/step - loss: 8.2974 - mae: 8.2974\n",
      "Epoch 202/500\n",
      "2/2 [==============================] - 0s 5ms/step - loss: 18.3991 - mae: 18.3991\n",
      "Epoch 203/500\n",
      "2/2 [==============================] - 0s 4ms/step - loss: 16.5714 - mae: 16.5714\n",
      "Epoch 204/500\n",
      "2/2 [==============================] - 0s 4ms/step - loss: 10.6728 - mae: 10.6728\n",
      "Epoch 205/500\n",
      "2/2 [==============================] - 0s 4ms/step - loss: 18.0273 - mae: 18.0273\n",
      "Epoch 206/500\n",
      "2/2 [==============================] - 0s 4ms/step - loss: 7.1089 - mae: 7.1089\n",
      "Epoch 207/500\n",
      "2/2 [==============================] - 0s 5ms/step - loss: 16.7824 - mae: 16.7824\n",
      "Epoch 208/500\n",
      "2/2 [==============================] - 0s 4ms/step - loss: 27.6502 - mae: 27.6502\n",
      "Epoch 209/500\n",
      "2/2 [==============================] - 0s 4ms/step - loss: 10.4177 - mae: 10.4177\n",
      "Epoch 210/500\n",
      "2/2 [==============================] - 0s 4ms/step - loss: 7.8710 - mae: 7.8710\n",
      "Epoch 211/500\n",
      "2/2 [==============================] - 0s 6ms/step - loss: 8.3675 - mae: 8.3675\n",
      "Epoch 212/500\n",
      "2/2 [==============================] - 0s 4ms/step - loss: 37.3064 - mae: 37.3064\n",
      "Epoch 213/500\n",
      "2/2 [==============================] - 0s 4ms/step - loss: 11.6460 - mae: 11.6460\n",
      "Epoch 214/500\n",
      "2/2 [==============================] - 0s 5ms/step - loss: 20.9442 - mae: 20.9442\n",
      "Epoch 215/500\n",
      "2/2 [==============================] - 0s 4ms/step - loss: 26.5714 - mae: 26.5714\n",
      "Epoch 216/500\n",
      "2/2 [==============================] - 0s 6ms/step - loss: 21.1930 - mae: 21.1930\n",
      "Epoch 217/500\n",
      "2/2 [==============================] - 0s 4ms/step - loss: 7.8300 - mae: 7.8300\n",
      "Epoch 218/500\n",
      "2/2 [==============================] - 0s 5ms/step - loss: 29.5569 - mae: 29.5569\n",
      "Epoch 219/500\n",
      "2/2 [==============================] - 0s 5ms/step - loss: 22.0542 - mae: 22.0542\n",
      "Epoch 220/500\n",
      "2/2 [==============================] - 0s 5ms/step - loss: 8.6735 - mae: 8.6735\n",
      "Epoch 221/500\n",
      "2/2 [==============================] - 0s 5ms/step - loss: 21.7361 - mae: 21.7361\n",
      "Epoch 222/500\n",
      "2/2 [==============================] - 0s 4ms/step - loss: 7.6250 - mae: 7.6250\n",
      "Epoch 223/500\n",
      "2/2 [==============================] - 0s 5ms/step - loss: 10.7174 - mae: 10.7174\n",
      "Epoch 224/500\n",
      "2/2 [==============================] - 0s 4ms/step - loss: 24.8716 - mae: 24.8716\n",
      "Epoch 225/500\n",
      "2/2 [==============================] - 0s 5ms/step - loss: 10.7121 - mae: 10.7121\n",
      "Epoch 226/500\n",
      "2/2 [==============================] - 0s 5ms/step - loss: 9.7970 - mae: 9.7970\n",
      "Epoch 227/500\n",
      "2/2 [==============================] - 0s 5ms/step - loss: 21.3102 - mae: 21.3102\n",
      "Epoch 228/500\n",
      "2/2 [==============================] - 0s 4ms/step - loss: 10.1322 - mae: 10.1322\n",
      "Epoch 229/500\n",
      "2/2 [==============================] - 0s 5ms/step - loss: 20.4095 - mae: 20.4095\n",
      "Epoch 230/500\n",
      "2/2 [==============================] - 0s 5ms/step - loss: 12.1669 - mae: 12.1669\n",
      "Epoch 231/500\n",
      "2/2 [==============================] - 0s 7ms/step - loss: 11.8913 - mae: 11.8913\n",
      "Epoch 232/500\n",
      "2/2 [==============================] - 0s 6ms/step - loss: 9.5020 - mae: 9.5020\n",
      "Epoch 233/500\n",
      "2/2 [==============================] - 0s 6ms/step - loss: 14.9968 - mae: 14.9968\n",
      "Epoch 234/500\n",
      "2/2 [==============================] - 0s 5ms/step - loss: 23.4097 - mae: 23.4097\n",
      "Epoch 235/500\n",
      "2/2 [==============================] - 0s 6ms/step - loss: 25.0654 - mae: 25.0654\n",
      "Epoch 236/500\n",
      "2/2 [==============================] - 0s 5ms/step - loss: 12.4551 - mae: 12.4551\n",
      "Epoch 237/500\n",
      "2/2 [==============================] - 0s 5ms/step - loss: 15.1187 - mae: 15.1187\n",
      "Epoch 238/500\n",
      "2/2 [==============================] - 0s 5ms/step - loss: 9.1740 - mae: 9.1740\n",
      "Epoch 239/500\n",
      "2/2 [==============================] - 0s 4ms/step - loss: 15.1487 - mae: 15.1487\n",
      "Epoch 240/500\n",
      "2/2 [==============================] - 0s 6ms/step - loss: 18.6800 - mae: 18.6800\n",
      "Epoch 241/500\n",
      "2/2 [==============================] - 0s 5ms/step - loss: 16.5335 - mae: 16.5335\n",
      "Epoch 242/500\n",
      "2/2 [==============================] - 0s 5ms/step - loss: 9.7787 - mae: 9.7787\n",
      "Epoch 243/500\n",
      "2/2 [==============================] - 0s 6ms/step - loss: 15.1950 - mae: 15.1950\n",
      "Epoch 244/500\n",
      "2/2 [==============================] - 0s 7ms/step - loss: 13.2778 - mae: 13.2778\n",
      "Epoch 245/500\n",
      "2/2 [==============================] - 0s 9ms/step - loss: 11.3319 - mae: 11.3319\n",
      "Epoch 246/500\n",
      "2/2 [==============================] - 0s 6ms/step - loss: 27.9139 - mae: 27.9139\n",
      "Epoch 247/500\n",
      "2/2 [==============================] - 0s 5ms/step - loss: 10.5999 - mae: 10.5999\n",
      "Epoch 248/500\n",
      "2/2 [==============================] - 0s 5ms/step - loss: 18.5324 - mae: 18.5324\n",
      "Epoch 249/500\n",
      "2/2 [==============================] - 0s 5ms/step - loss: 20.2267 - mae: 20.2267\n",
      "Epoch 250/500\n",
      "2/2 [==============================] - 0s 5ms/step - loss: 11.4807 - mae: 11.4807\n",
      "Epoch 251/500\n",
      "2/2 [==============================] - 0s 5ms/step - loss: 14.7765 - mae: 14.7765\n",
      "Epoch 252/500\n",
      "2/2 [==============================] - 0s 7ms/step - loss: 16.2344 - mae: 16.2344\n",
      "Epoch 253/500\n",
      "2/2 [==============================] - 0s 4ms/step - loss: 4.8451 - mae: 4.8451\n",
      "Epoch 254/500\n",
      "2/2 [==============================] - 0s 6ms/step - loss: 25.3071 - mae: 25.3071\n",
      "Epoch 255/500\n",
      "2/2 [==============================] - 0s 7ms/step - loss: 9.4390 - mae: 9.4390\n",
      "Epoch 256/500\n",
      "2/2 [==============================] - 0s 6ms/step - loss: 16.6820 - mae: 16.6820\n",
      "Epoch 257/500\n",
      "2/2 [==============================] - 0s 4ms/step - loss: 22.6565 - mae: 22.6565\n",
      "Epoch 258/500\n",
      "2/2 [==============================] - 0s 7ms/step - loss: 25.7575 - mae: 25.7575\n",
      "Epoch 259/500\n",
      "2/2 [==============================] - 0s 6ms/step - loss: 11.7136 - mae: 11.7136\n",
      "Epoch 260/500\n",
      "2/2 [==============================] - 0s 4ms/step - loss: 6.6368 - mae: 6.6368\n",
      "Epoch 261/500\n",
      "2/2 [==============================] - 0s 6ms/step - loss: 38.1221 - mae: 38.1221\n",
      "Epoch 262/500\n",
      "2/2 [==============================] - 0s 5ms/step - loss: 8.9842 - mae: 8.9842\n",
      "Epoch 263/500\n",
      "2/2 [==============================] - 0s 5ms/step - loss: 9.2428 - mae: 9.2428\n",
      "Epoch 264/500\n",
      "2/2 [==============================] - 0s 7ms/step - loss: 7.1312 - mae: 7.1312\n",
      "Epoch 265/500\n",
      "2/2 [==============================] - 0s 5ms/step - loss: 13.1856 - mae: 13.1856\n",
      "Epoch 266/500\n",
      "2/2 [==============================] - 0s 6ms/step - loss: 14.6531 - mae: 14.6531\n",
      "Epoch 267/500\n",
      "2/2 [==============================] - 0s 5ms/step - loss: 8.4031 - mae: 8.4031\n",
      "Epoch 268/500\n",
      "2/2 [==============================] - 0s 4ms/step - loss: 14.2099 - mae: 14.2099\n",
      "Epoch 269/500\n",
      "2/2 [==============================] - 0s 4ms/step - loss: 7.1693 - mae: 7.1693\n",
      "Epoch 270/500\n",
      "2/2 [==============================] - 0s 5ms/step - loss: 24.4208 - mae: 24.4208\n",
      "Epoch 271/500\n",
      "2/2 [==============================] - 0s 5ms/step - loss: 10.0772 - mae: 10.0772\n",
      "Epoch 272/500\n",
      "2/2 [==============================] - 0s 5ms/step - loss: 21.3396 - mae: 21.3396\n",
      "Epoch 273/500\n",
      "2/2 [==============================] - 0s 4ms/step - loss: 18.6655 - mae: 18.6655\n",
      "Epoch 274/500\n",
      "2/2 [==============================] - 0s 6ms/step - loss: 7.8053 - mae: 7.8053\n",
      "Epoch 275/500\n",
      "2/2 [==============================] - 0s 4ms/step - loss: 8.5069 - mae: 8.5069\n",
      "Epoch 276/500\n",
      "2/2 [==============================] - 0s 6ms/step - loss: 14.3061 - mae: 14.3061\n",
      "Epoch 277/500\n",
      "2/2 [==============================] - 0s 5ms/step - loss: 11.0653 - mae: 11.0653\n",
      "Epoch 278/500\n",
      "2/2 [==============================] - 0s 4ms/step - loss: 27.6855 - mae: 27.6855\n",
      "Epoch 279/500\n",
      "2/2 [==============================] - 0s 6ms/step - loss: 13.0187 - mae: 13.0187\n",
      "Epoch 280/500\n",
      "2/2 [==============================] - 0s 5ms/step - loss: 8.0859 - mae: 8.0859\n",
      "Epoch 281/500\n",
      "2/2 [==============================] - 0s 6ms/step - loss: 34.7519 - mae: 34.7519\n",
      "Epoch 282/500\n",
      "2/2 [==============================] - 0s 6ms/step - loss: 8.1167 - mae: 8.1167\n",
      "Epoch 283/500\n",
      "2/2 [==============================] - 0s 5ms/step - loss: 21.0084 - mae: 21.0084\n",
      "Epoch 284/500\n",
      "2/2 [==============================] - 0s 5ms/step - loss: 9.4469 - mae: 9.4469\n",
      "Epoch 285/500\n",
      "2/2 [==============================] - 0s 5ms/step - loss: 22.3363 - mae: 22.3363\n",
      "Epoch 286/500\n",
      "2/2 [==============================] - 0s 5ms/step - loss: 17.6212 - mae: 17.6212\n",
      "Epoch 287/500\n",
      "2/2 [==============================] - 0s 5ms/step - loss: 11.5309 - mae: 11.5309\n",
      "Epoch 288/500\n",
      "2/2 [==============================] - 0s 6ms/step - loss: 7.7001 - mae: 7.7001\n",
      "Epoch 289/500\n",
      "2/2 [==============================] - 0s 5ms/step - loss: 17.4979 - mae: 17.4979\n",
      "Epoch 290/500\n",
      "2/2 [==============================] - 0s 4ms/step - loss: 9.7917 - mae: 9.7917\n",
      "Epoch 291/500\n",
      "2/2 [==============================] - 0s 6ms/step - loss: 6.5567 - mae: 6.5567\n",
      "Epoch 292/500\n",
      "2/2 [==============================] - 0s 4ms/step - loss: 33.2877 - mae: 33.2877\n",
      "Epoch 293/500\n",
      "2/2 [==============================] - 0s 6ms/step - loss: 30.6526 - mae: 30.6526\n",
      "Epoch 294/500\n",
      "2/2 [==============================] - 0s 5ms/step - loss: 7.4071 - mae: 7.4071\n",
      "Epoch 295/500\n",
      "2/2 [==============================] - 0s 5ms/step - loss: 10.2370 - mae: 10.2370\n",
      "Epoch 296/500\n",
      "2/2 [==============================] - 0s 6ms/step - loss: 17.4567 - mae: 17.4567\n",
      "Epoch 297/500\n",
      "2/2 [==============================] - 0s 4ms/step - loss: 13.0094 - mae: 13.0094\n",
      "Epoch 298/500\n",
      "2/2 [==============================] - 0s 5ms/step - loss: 15.4055 - mae: 15.4055\n",
      "Epoch 299/500\n",
      "2/2 [==============================] - 0s 4ms/step - loss: 20.8218 - mae: 20.8218\n",
      "Epoch 300/500\n",
      "2/2 [==============================] - 0s 4ms/step - loss: 13.4095 - mae: 13.4095\n",
      "Epoch 301/500\n",
      "2/2 [==============================] - 0s 5ms/step - loss: 11.5782 - mae: 11.5782\n",
      "Epoch 302/500\n",
      "2/2 [==============================] - 0s 4ms/step - loss: 10.8806 - mae: 10.8806\n",
      "Epoch 303/500\n",
      "2/2 [==============================] - 0s 7ms/step - loss: 8.4025 - mae: 8.4025\n",
      "Epoch 304/500\n",
      "2/2 [==============================] - 0s 4ms/step - loss: 18.1085 - mae: 18.1085\n",
      "Epoch 305/500\n",
      "2/2 [==============================] - 0s 5ms/step - loss: 12.6207 - mae: 12.6207\n",
      "Epoch 306/500\n",
      "2/2 [==============================] - 0s 6ms/step - loss: 15.1451 - mae: 15.1451\n",
      "Epoch 307/500\n",
      "2/2 [==============================] - 0s 4ms/step - loss: 20.0008 - mae: 20.0008\n",
      "Epoch 308/500\n",
      "2/2 [==============================] - 0s 5ms/step - loss: 27.0771 - mae: 27.0771\n",
      "Epoch 309/500\n",
      "2/2 [==============================] - 0s 4ms/step - loss: 18.3329 - mae: 18.3329\n",
      "Epoch 310/500\n",
      "2/2 [==============================] - 0s 5ms/step - loss: 24.5053 - mae: 24.5053\n",
      "Epoch 311/500\n",
      "2/2 [==============================] - 0s 5ms/step - loss: 12.9426 - mae: 12.9426\n",
      "Epoch 312/500\n",
      "2/2 [==============================] - 0s 5ms/step - loss: 15.7869 - mae: 15.7869\n",
      "Epoch 313/500\n",
      "2/2 [==============================] - 0s 5ms/step - loss: 15.7367 - mae: 15.7367\n",
      "Epoch 314/500\n",
      "2/2 [==============================] - 0s 6ms/step - loss: 10.7629 - mae: 10.7629\n",
      "Epoch 315/500\n",
      "2/2 [==============================] - 0s 5ms/step - loss: 14.6044 - mae: 14.6044\n",
      "Epoch 316/500\n",
      "2/2 [==============================] - 0s 5ms/step - loss: 24.2945 - mae: 24.2945\n",
      "Epoch 317/500\n",
      "2/2 [==============================] - 0s 4ms/step - loss: 20.4068 - mae: 20.4068\n",
      "Epoch 318/500\n",
      "2/2 [==============================] - 0s 4ms/step - loss: 18.9704 - mae: 18.9704\n",
      "Epoch 319/500\n",
      "2/2 [==============================] - 0s 5ms/step - loss: 10.2917 - mae: 10.2917\n",
      "Epoch 320/500\n",
      "2/2 [==============================] - 0s 6ms/step - loss: 30.1344 - mae: 30.1344\n",
      "Epoch 321/500\n",
      "2/2 [==============================] - 0s 5ms/step - loss: 6.7305 - mae: 6.7305\n",
      "Epoch 322/500\n",
      "2/2 [==============================] - 0s 5ms/step - loss: 12.6221 - mae: 12.6221\n",
      "Epoch 323/500\n",
      "2/2 [==============================] - 0s 5ms/step - loss: 15.2549 - mae: 15.2549\n",
      "Epoch 324/500\n",
      "2/2 [==============================] - 0s 4ms/step - loss: 21.0924 - mae: 21.0924\n",
      "Epoch 325/500\n",
      "2/2 [==============================] - 0s 6ms/step - loss: 22.0457 - mae: 22.0457\n",
      "Epoch 326/500\n",
      "2/2 [==============================] - 0s 5ms/step - loss: 11.4800 - mae: 11.4800\n",
      "Epoch 327/500\n",
      "2/2 [==============================] - 0s 6ms/step - loss: 30.2928 - mae: 30.2928\n",
      "Epoch 328/500\n",
      "2/2 [==============================] - 0s 6ms/step - loss: 8.1344 - mae: 8.1344\n",
      "Epoch 329/500\n",
      "2/2 [==============================] - 0s 8ms/step - loss: 13.8798 - mae: 13.8798\n",
      "Epoch 330/500\n",
      "2/2 [==============================] - 0s 5ms/step - loss: 20.1212 - mae: 20.1212\n",
      "Epoch 331/500\n",
      "2/2 [==============================] - 0s 5ms/step - loss: 9.5288 - mae: 9.5288\n",
      "Epoch 332/500\n",
      "2/2 [==============================] - 0s 7ms/step - loss: 25.2833 - mae: 25.2833\n",
      "Epoch 333/500\n",
      "2/2 [==============================] - 0s 5ms/step - loss: 13.6474 - mae: 13.6474\n",
      "Epoch 334/500\n",
      "2/2 [==============================] - 0s 5ms/step - loss: 15.7966 - mae: 15.7966\n",
      "Epoch 335/500\n",
      "2/2 [==============================] - 0s 6ms/step - loss: 21.6845 - mae: 21.6845\n",
      "Epoch 336/500\n",
      "2/2 [==============================] - 0s 5ms/step - loss: 20.7910 - mae: 20.7910\n",
      "Epoch 337/500\n",
      "2/2 [==============================] - 0s 7ms/step - loss: 5.2016 - mae: 5.2016\n",
      "Epoch 338/500\n",
      "2/2 [==============================] - 0s 7ms/step - loss: 32.2052 - mae: 32.2052\n",
      "Epoch 339/500\n",
      "2/2 [==============================] - 0s 6ms/step - loss: 7.0151 - mae: 7.0151\n",
      "Epoch 340/500\n",
      "2/2 [==============================] - 0s 5ms/step - loss: 7.4245 - mae: 7.4245\n",
      "Epoch 341/500\n",
      "2/2 [==============================] - 0s 6ms/step - loss: 21.0078 - mae: 21.0078\n",
      "Epoch 342/500\n",
      "2/2 [==============================] - 0s 6ms/step - loss: 11.4006 - mae: 11.4006\n",
      "Epoch 343/500\n",
      "2/2 [==============================] - 0s 4ms/step - loss: 13.2090 - mae: 13.2090\n",
      "Epoch 344/500\n",
      "2/2 [==============================] - 0s 6ms/step - loss: 18.3900 - mae: 18.3900\n",
      "Epoch 345/500\n",
      "2/2 [==============================] - 0s 4ms/step - loss: 15.6555 - mae: 15.6555\n",
      "Epoch 346/500\n",
      "2/2 [==============================] - 0s 5ms/step - loss: 12.3181 - mae: 12.3181\n",
      "Epoch 347/500\n",
      "2/2 [==============================] - 0s 6ms/step - loss: 21.2208 - mae: 21.2208\n",
      "Epoch 348/500\n",
      "2/2 [==============================] - 0s 5ms/step - loss: 4.7688 - mae: 4.7688\n",
      "Epoch 349/500\n",
      "2/2 [==============================] - 0s 4ms/step - loss: 31.4661 - mae: 31.4661\n",
      "Epoch 350/500\n",
      "2/2 [==============================] - 0s 6ms/step - loss: 24.0198 - mae: 24.0198\n",
      "Epoch 351/500\n",
      "2/2 [==============================] - 0s 4ms/step - loss: 13.0425 - mae: 13.0425\n",
      "Epoch 352/500\n",
      "2/2 [==============================] - 0s 5ms/step - loss: 23.3049 - mae: 23.3049\n",
      "Epoch 353/500\n",
      "2/2 [==============================] - 0s 6ms/step - loss: 22.1069 - mae: 22.1069\n",
      "Epoch 354/500\n",
      "2/2 [==============================] - 0s 4ms/step - loss: 6.8512 - mae: 6.8512\n",
      "Epoch 355/500\n",
      "2/2 [==============================] - 0s 5ms/step - loss: 23.2139 - mae: 23.2139\n",
      "Epoch 356/500\n",
      "2/2 [==============================] - 0s 6ms/step - loss: 9.1884 - mae: 9.1884\n",
      "Epoch 357/500\n",
      "2/2 [==============================] - 0s 4ms/step - loss: 8.5934 - mae: 8.5934\n",
      "Epoch 358/500\n",
      "2/2 [==============================] - 0s 5ms/step - loss: 18.6391 - mae: 18.6391\n",
      "Epoch 359/500\n",
      "2/2 [==============================] - 0s 6ms/step - loss: 11.2834 - mae: 11.2834\n",
      "Epoch 360/500\n",
      "2/2 [==============================] - 0s 5ms/step - loss: 28.7535 - mae: 28.7535\n",
      "Epoch 361/500\n",
      "2/2 [==============================] - 0s 5ms/step - loss: 8.1673 - mae: 8.1673\n",
      "Epoch 362/500\n",
      "2/2 [==============================] - 0s 7ms/step - loss: 14.6055 - mae: 14.6055\n",
      "Epoch 363/500\n",
      "2/2 [==============================] - 0s 6ms/step - loss: 10.8934 - mae: 10.8934\n",
      "Epoch 364/500\n",
      "2/2 [==============================] - 0s 9ms/step - loss: 13.7563 - mae: 13.7563\n",
      "Epoch 365/500\n",
      "2/2 [==============================] - 0s 7ms/step - loss: 14.8899 - mae: 14.8899\n",
      "Epoch 366/500\n",
      "2/2 [==============================] - 0s 6ms/step - loss: 23.5191 - mae: 23.5191\n",
      "Epoch 367/500\n",
      "2/2 [==============================] - 0s 6ms/step - loss: 23.6436 - mae: 23.6436\n",
      "Epoch 368/500\n",
      "2/2 [==============================] - 0s 7ms/step - loss: 6.1103 - mae: 6.1103\n",
      "Epoch 369/500\n",
      "2/2 [==============================] - 0s 9ms/step - loss: 13.5366 - mae: 13.5366\n",
      "Epoch 370/500\n",
      "2/2 [==============================] - 0s 8ms/step - loss: 5.9415 - mae: 5.9415\n",
      "Epoch 371/500\n",
      "2/2 [==============================] - 0s 6ms/step - loss: 17.6703 - mae: 17.6703\n",
      "Epoch 372/500\n",
      "2/2 [==============================] - 0s 6ms/step - loss: 9.0195 - mae: 9.0195\n",
      "Epoch 373/500\n",
      "2/2 [==============================] - 0s 6ms/step - loss: 14.8127 - mae: 14.8127\n",
      "Epoch 374/500\n",
      "2/2 [==============================] - 0s 7ms/step - loss: 9.7250 - mae: 9.7250\n",
      "Epoch 375/500\n",
      "2/2 [==============================] - 0s 5ms/step - loss: 13.3076 - mae: 13.3076\n",
      "Epoch 376/500\n",
      "2/2 [==============================] - 0s 5ms/step - loss: 17.7294 - mae: 17.7294\n",
      "Epoch 377/500\n",
      "2/2 [==============================] - 0s 5ms/step - loss: 13.9508 - mae: 13.9508\n",
      "Epoch 378/500\n",
      "2/2 [==============================] - 0s 6ms/step - loss: 29.2987 - mae: 29.2987\n",
      "Epoch 379/500\n",
      "2/2 [==============================] - 0s 4ms/step - loss: 10.2153 - mae: 10.2153\n",
      "Epoch 380/500\n",
      "2/2 [==============================] - 0s 5ms/step - loss: 7.0999 - mae: 7.0999\n",
      "Epoch 381/500\n",
      "2/2 [==============================] - 0s 5ms/step - loss: 6.1030 - mae: 6.1030\n",
      "Epoch 382/500\n",
      "2/2 [==============================] - 0s 4ms/step - loss: 22.7585 - mae: 22.7585\n",
      "Epoch 383/500\n",
      "2/2 [==============================] - 0s 6ms/step - loss: 6.7866 - mae: 6.7866\n",
      "Epoch 384/500\n",
      "2/2 [==============================] - 0s 4ms/step - loss: 27.1114 - mae: 27.1114\n",
      "Epoch 385/500\n",
      "2/2 [==============================] - 0s 5ms/step - loss: 9.4437 - mae: 9.4437\n",
      "Epoch 386/500\n",
      "2/2 [==============================] - 0s 6ms/step - loss: 7.3662 - mae: 7.3662\n",
      "Epoch 387/500\n",
      "2/2 [==============================] - 0s 5ms/step - loss: 20.5179 - mae: 20.5179\n",
      "Epoch 388/500\n",
      "2/2 [==============================] - 0s 4ms/step - loss: 16.7454 - mae: 16.7454\n",
      "Epoch 389/500\n",
      "2/2 [==============================] - 0s 6ms/step - loss: 6.2665 - mae: 6.2665\n",
      "Epoch 390/500\n",
      "2/2 [==============================] - 0s 5ms/step - loss: 25.4233 - mae: 25.4233\n",
      "Epoch 391/500\n",
      "2/2 [==============================] - 0s 5ms/step - loss: 8.9470 - mae: 8.9470\n",
      "Epoch 392/500\n",
      "2/2 [==============================] - 0s 5ms/step - loss: 12.9623 - mae: 12.9623\n",
      "Epoch 393/500\n",
      "2/2 [==============================] - 0s 5ms/step - loss: 14.4618 - mae: 14.4618\n",
      "Epoch 394/500\n",
      "2/2 [==============================] - 0s 6ms/step - loss: 26.2170 - mae: 26.2170\n",
      "Epoch 395/500\n",
      "2/2 [==============================] - 0s 7ms/step - loss: 10.7547 - mae: 10.7547\n",
      "Epoch 396/500\n",
      "2/2 [==============================] - 0s 5ms/step - loss: 9.8935 - mae: 9.8935\n",
      "Epoch 397/500\n",
      "2/2 [==============================] - 0s 6ms/step - loss: 14.3411 - mae: 14.3411\n",
      "Epoch 398/500\n",
      "2/2 [==============================] - 0s 6ms/step - loss: 18.3504 - mae: 18.3504\n",
      "Epoch 399/500\n",
      "2/2 [==============================] - 0s 5ms/step - loss: 36.7046 - mae: 36.7046\n",
      "Epoch 400/500\n",
      "2/2 [==============================] - 0s 4ms/step - loss: 4.2730 - mae: 4.2730\n",
      "Epoch 401/500\n",
      "2/2 [==============================] - 0s 7ms/step - loss: 14.9332 - mae: 14.9332\n",
      "Epoch 402/500\n",
      "2/2 [==============================] - 0s 5ms/step - loss: 14.2134 - mae: 14.2134\n",
      "Epoch 403/500\n",
      "2/2 [==============================] - 0s 4ms/step - loss: 12.2952 - mae: 12.2952\n",
      "Epoch 404/500\n",
      "2/2 [==============================] - 0s 8ms/step - loss: 24.8475 - mae: 24.8475\n",
      "Epoch 405/500\n",
      "2/2 [==============================] - 0s 5ms/step - loss: 11.9257 - mae: 11.9257\n",
      "Epoch 406/500\n",
      "2/2 [==============================] - 0s 5ms/step - loss: 11.4795 - mae: 11.4795\n",
      "Epoch 407/500\n",
      "2/2 [==============================] - 0s 6ms/step - loss: 13.5705 - mae: 13.5705\n",
      "Epoch 408/500\n",
      "2/2 [==============================] - 0s 4ms/step - loss: 23.9052 - mae: 23.9052\n",
      "Epoch 409/500\n",
      "2/2 [==============================] - 0s 4ms/step - loss: 13.2039 - mae: 13.2039\n",
      "Epoch 410/500\n",
      "2/2 [==============================] - 0s 7ms/step - loss: 6.5430 - mae: 6.5430\n",
      "Epoch 411/500\n",
      "2/2 [==============================] - 0s 6ms/step - loss: 14.2711 - mae: 14.2711\n",
      "Epoch 412/500\n",
      "2/2 [==============================] - 0s 15ms/step - loss: 28.6619 - mae: 28.6619\n",
      "Epoch 413/500\n",
      "2/2 [==============================] - 0s 16ms/step - loss: 8.3163 - mae: 8.3163\n",
      "Epoch 414/500\n",
      "2/2 [==============================] - 0s 6ms/step - loss: 8.0423 - mae: 8.0423\n",
      "Epoch 415/500\n",
      "2/2 [==============================] - 0s 4ms/step - loss: 22.8653 - mae: 22.8653\n",
      "Epoch 416/500\n",
      "2/2 [==============================] - 0s 5ms/step - loss: 6.0148 - mae: 6.0148\n",
      "Epoch 417/500\n",
      "2/2 [==============================] - 0s 7ms/step - loss: 6.5571 - mae: 6.5571\n",
      "Epoch 418/500\n",
      "2/2 [==============================] - 0s 7ms/step - loss: 29.6880 - mae: 29.6880\n",
      "Epoch 419/500\n",
      "2/2 [==============================] - 0s 8ms/step - loss: 6.8173 - mae: 6.8173\n",
      "Epoch 420/500\n",
      "2/2 [==============================] - 0s 5ms/step - loss: 15.7008 - mae: 15.7008\n",
      "Epoch 421/500\n",
      "2/2 [==============================] - 0s 6ms/step - loss: 12.7864 - mae: 12.7864\n",
      "Epoch 422/500\n",
      "2/2 [==============================] - 0s 5ms/step - loss: 9.5899 - mae: 9.5899\n",
      "Epoch 423/500\n",
      "2/2 [==============================] - 0s 5ms/step - loss: 14.8257 - mae: 14.8257\n",
      "Epoch 424/500\n",
      "2/2 [==============================] - 0s 5ms/step - loss: 14.8082 - mae: 14.8082\n",
      "Epoch 425/500\n",
      "2/2 [==============================] - 0s 7ms/step - loss: 16.6245 - mae: 16.6245\n",
      "Epoch 426/500\n",
      "2/2 [==============================] - 0s 6ms/step - loss: 12.8467 - mae: 12.8467\n",
      "Epoch 427/500\n",
      "2/2 [==============================] - 0s 8ms/step - loss: 15.4536 - mae: 15.4536\n",
      "Epoch 428/500\n",
      "2/2 [==============================] - 0s 5ms/step - loss: 23.6417 - mae: 23.6417\n",
      "Epoch 429/500\n",
      "2/2 [==============================] - 0s 5ms/step - loss: 19.6562 - mae: 19.6562\n",
      "Epoch 430/500\n",
      "2/2 [==============================] - 0s 7ms/step - loss: 9.8493 - mae: 9.8493\n",
      "Epoch 431/500\n",
      "2/2 [==============================] - 0s 6ms/step - loss: 12.7813 - mae: 12.7813\n",
      "Epoch 432/500\n",
      "2/2 [==============================] - 0s 4ms/step - loss: 15.0062 - mae: 15.0062\n",
      "Epoch 433/500\n",
      "2/2 [==============================] - 0s 7ms/step - loss: 19.7046 - mae: 19.7046\n",
      "Epoch 434/500\n",
      "2/2 [==============================] - 0s 4ms/step - loss: 33.5476 - mae: 33.5476\n",
      "Epoch 435/500\n",
      "2/2 [==============================] - 0s 6ms/step - loss: 30.6416 - mae: 30.6416\n",
      "Epoch 436/500\n",
      "2/2 [==============================] - 0s 7ms/step - loss: 15.6090 - mae: 15.6090\n",
      "Epoch 437/500\n",
      "2/2 [==============================] - 0s 6ms/step - loss: 6.4509 - mae: 6.4509\n",
      "Epoch 438/500\n",
      "2/2 [==============================] - 0s 6ms/step - loss: 6.5395 - mae: 6.5395\n",
      "Epoch 439/500\n",
      "2/2 [==============================] - 0s 6ms/step - loss: 10.8797 - mae: 10.8797\n",
      "Epoch 440/500\n",
      "2/2 [==============================] - 0s 10ms/step - loss: 7.1973 - mae: 7.1973\n",
      "Epoch 441/500\n",
      "2/2 [==============================] - 0s 6ms/step - loss: 20.1964 - mae: 20.1964\n",
      "Epoch 442/500\n",
      "2/2 [==============================] - 0s 6ms/step - loss: 10.1196 - mae: 10.1196\n",
      "Epoch 443/500\n",
      "2/2 [==============================] - 0s 8ms/step - loss: 9.7309 - mae: 9.7309\n",
      "Epoch 444/500\n",
      "2/2 [==============================] - 0s 7ms/step - loss: 13.7292 - mae: 13.7292\n",
      "Epoch 445/500\n",
      "2/2 [==============================] - 0s 6ms/step - loss: 15.6846 - mae: 15.6846\n",
      "Epoch 446/500\n",
      "2/2 [==============================] - 0s 5ms/step - loss: 13.5799 - mae: 13.5799\n",
      "Epoch 447/500\n",
      "2/2 [==============================] - 0s 6ms/step - loss: 16.4480 - mae: 16.4480\n",
      "Epoch 448/500\n",
      "2/2 [==============================] - 0s 7ms/step - loss: 29.4455 - mae: 29.4455\n",
      "Epoch 449/500\n",
      "2/2 [==============================] - 0s 6ms/step - loss: 5.9196 - mae: 5.9196\n",
      "Epoch 450/500\n",
      "2/2 [==============================] - 0s 5ms/step - loss: 15.2035 - mae: 15.2035\n",
      "Epoch 451/500\n",
      "2/2 [==============================] - 0s 7ms/step - loss: 6.3861 - mae: 6.3861\n",
      "Epoch 452/500\n",
      "2/2 [==============================] - 0s 10ms/step - loss: 6.6703 - mae: 6.6703\n",
      "Epoch 453/500\n",
      "2/2 [==============================] - 0s 13ms/step - loss: 17.0185 - mae: 17.0185\n",
      "Epoch 454/500\n",
      "2/2 [==============================] - 0s 10ms/step - loss: 10.5959 - mae: 10.5959\n",
      "Epoch 455/500\n",
      "2/2 [==============================] - 0s 6ms/step - loss: 15.1877 - mae: 15.1877\n",
      "Epoch 456/500\n",
      "2/2 [==============================] - 0s 7ms/step - loss: 28.7806 - mae: 28.7806\n",
      "Epoch 457/500\n",
      "2/2 [==============================] - 0s 7ms/step - loss: 7.1850 - mae: 7.1850\n",
      "Epoch 458/500\n",
      "2/2 [==============================] - 0s 6ms/step - loss: 10.5666 - mae: 10.5666\n",
      "Epoch 459/500\n",
      "2/2 [==============================] - 0s 8ms/step - loss: 11.5141 - mae: 11.5141\n",
      "Epoch 460/500\n",
      "2/2 [==============================] - 0s 7ms/step - loss: 21.2368 - mae: 21.2368\n",
      "Epoch 461/500\n",
      "2/2 [==============================] - 0s 7ms/step - loss: 21.1364 - mae: 21.1364\n",
      "Epoch 462/500\n",
      "2/2 [==============================] - 0s 8ms/step - loss: 10.6597 - mae: 10.6597\n",
      "Epoch 463/500\n",
      "2/2 [==============================] - 0s 9ms/step - loss: 14.4459 - mae: 14.4459\n",
      "Epoch 464/500\n",
      "2/2 [==============================] - 0s 8ms/step - loss: 14.9393 - mae: 14.9393\n",
      "Epoch 465/500\n",
      "2/2 [==============================] - 0s 6ms/step - loss: 25.4177 - mae: 25.4177\n",
      "Epoch 466/500\n",
      "2/2 [==============================] - 0s 6ms/step - loss: 19.3856 - mae: 19.3856\n",
      "Epoch 467/500\n",
      "2/2 [==============================] - 0s 6ms/step - loss: 10.5847 - mae: 10.5847\n",
      "Epoch 468/500\n",
      "2/2 [==============================] - 0s 7ms/step - loss: 5.9484 - mae: 5.9484\n",
      "Epoch 469/500\n",
      "2/2 [==============================] - 0s 6ms/step - loss: 9.9809 - mae: 9.9809\n",
      "Epoch 470/500\n",
      "2/2 [==============================] - 0s 4ms/step - loss: 29.3307 - mae: 29.3307\n",
      "Epoch 471/500\n",
      "2/2 [==============================] - 0s 7ms/step - loss: 8.0469 - mae: 8.0469\n",
      "Epoch 472/500\n",
      "2/2 [==============================] - 0s 6ms/step - loss: 8.8113 - mae: 8.8113\n",
      "Epoch 473/500\n",
      "2/2 [==============================] - 0s 4ms/step - loss: 13.8442 - mae: 13.8442\n",
      "Epoch 474/500\n",
      "2/2 [==============================] - 0s 6ms/step - loss: 29.9012 - mae: 29.9012\n",
      "Epoch 475/500\n",
      "2/2 [==============================] - 0s 6ms/step - loss: 5.1665 - mae: 5.1665\n",
      "Epoch 476/500\n",
      "2/2 [==============================] - 0s 5ms/step - loss: 11.5301 - mae: 11.5301\n",
      "Epoch 477/500\n",
      "2/2 [==============================] - 0s 6ms/step - loss: 13.7222 - mae: 13.7222\n",
      "Epoch 478/500\n",
      "2/2 [==============================] - 0s 6ms/step - loss: 18.9009 - mae: 18.9009\n",
      "Epoch 479/500\n",
      "2/2 [==============================] - 0s 4ms/step - loss: 17.1375 - mae: 17.1375\n",
      "Epoch 480/500\n",
      "2/2 [==============================] - 0s 7ms/step - loss: 10.0972 - mae: 10.0972\n",
      "Epoch 481/500\n",
      "2/2 [==============================] - 0s 6ms/step - loss: 12.2502 - mae: 12.2502\n",
      "Epoch 482/500\n",
      "2/2 [==============================] - 0s 4ms/step - loss: 14.1310 - mae: 14.1310\n",
      "Epoch 483/500\n",
      "2/2 [==============================] - 0s 6ms/step - loss: 30.0775 - mae: 30.0775\n",
      "Epoch 484/500\n",
      "2/2 [==============================] - 0s 23ms/step - loss: 10.8911 - mae: 10.8911\n",
      "Epoch 485/500\n",
      "2/2 [==============================] - 0s 8ms/step - loss: 20.2891 - mae: 20.2891\n",
      "Epoch 486/500\n",
      "2/2 [==============================] - 0s 7ms/step - loss: 38.7696 - mae: 38.7696\n",
      "Epoch 487/500\n",
      "2/2 [==============================] - 0s 5ms/step - loss: 11.4979 - mae: 11.4979\n",
      "Epoch 488/500\n",
      "2/2 [==============================] - 0s 6ms/step - loss: 5.9133 - mae: 5.9133\n",
      "Epoch 489/500\n",
      "2/2 [==============================] - 0s 13ms/step - loss: 13.5738 - mae: 13.5738\n",
      "Epoch 490/500\n",
      "2/2 [==============================] - 0s 7ms/step - loss: 10.0426 - mae: 10.0426\n",
      "Epoch 491/500\n",
      "2/2 [==============================] - 0s 5ms/step - loss: 28.2650 - mae: 28.2650\n",
      "Epoch 492/500\n",
      "2/2 [==============================] - 0s 4ms/step - loss: 8.2020 - mae: 8.2020\n",
      "Epoch 493/500\n",
      "2/2 [==============================] - 0s 6ms/step - loss: 14.4433 - mae: 14.4433\n",
      "Epoch 494/500\n",
      "2/2 [==============================] - 0s 7ms/step - loss: 11.8874 - mae: 11.8874\n",
      "Epoch 495/500\n",
      "2/2 [==============================] - 0s 7ms/step - loss: 6.9807 - mae: 6.9807\n",
      "Epoch 496/500\n",
      "2/2 [==============================] - 0s 6ms/step - loss: 12.7284 - mae: 12.7284\n",
      "Epoch 497/500\n",
      "2/2 [==============================] - 0s 8ms/step - loss: 29.4992 - mae: 29.4992\n",
      "Epoch 498/500\n",
      "2/2 [==============================] - 0s 7ms/step - loss: 7.9773 - mae: 7.9773\n",
      "Epoch 499/500\n",
      "2/2 [==============================] - 0s 5ms/step - loss: 20.5847 - mae: 20.5847\n",
      "Epoch 500/500\n",
      "2/2 [==============================] - 0s 6ms/step - loss: 6.4467 - mae: 6.4467\n"
     ]
    },
    {
     "data": {
      "text/plain": [
       "<keras.src.callbacks.History at 0x7fb852eb94d0>"
      ]
     },
     "execution_count": 43,
     "metadata": {},
     "output_type": "execute_result"
    }
   ],
   "source": [
    "tf.random.set_seed(32)\n",
    "model3= tf.keras.Sequential([\n",
    "    tf.keras.layers.Dense(10, input_shape= ([1])),\n",
    "    tf.keras.layers.Dense(1)\n",
    "])\n",
    "\n",
    "model3.compile(loss= tf.keras.losses.mae, \n",
    "               optimizer= tf.keras.optimizers.SGD(),\n",
    "               metrics= ['mae'])\n",
    "model3.fit(X_train, y_train, epochs = 500, verbose = 1)"
   ]
  },
  {
   "cell_type": "code",
   "execution_count": 44,
   "metadata": {},
   "outputs": [
    {
     "name": "stdout",
     "output_type": "stream",
     "text": [
      "1/1 [==============================] - 0s 72ms/step\n"
     ]
    }
   ],
   "source": [
    "y_pred3= model3.predict(X_test)\n"
   ]
  },
  {
   "cell_type": "code",
   "execution_count": 45,
   "metadata": {},
   "outputs": [
    {
     "data": {
      "image/png": "[encoded data removed]",
      "text/plain": [
       "<Figure size 1000x600 with 1 Axes>"
      ]
     },
     "metadata": {},
     "output_type": "display_data"
    }
   ],
   "source": [
    "plot_predictions(prdeictions=y_pred3)\n"
   ]
  },
  {
   "cell_type": "code",
   "execution_count": null,
   "metadata": {},
   "outputs": [],
   "source": []
  }
 ],
 "metadata": {
  "kernelspec": {
   "display_name": "Python 3",
   "language": "python",
   "name": "python3"
  },
  "language_info": {
   "codemirror_mode": {
    "name": "ipython",
    "version": 3
   },
   "file_extension": ".py",
   "mimetype": "text/x-python",
   "name": "python",
   "nbconvert_exporter": "python",
   "pygments_lexer": "ipython3",
   "version": "3.11.2"
  },
  "orig_nbformat": 4
 },
 "nbformat": 4,
 "nbformat_minor": 2
}
