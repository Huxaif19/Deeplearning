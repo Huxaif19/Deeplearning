{
 "cells": [
  {
   "cell_type": "markdown",
   "metadata": {},
   "source": [
    "# regression with neural network"
   ]
  },
  {
   "cell_type": "code",
   "execution_count": 1,
   "metadata": {},
   "outputs": [
    {
     "name": "stderr",
     "output_type": "stream",
     "text": [
      "2023-09-14 07:33:08.990615: I tensorflow/core/util/port.cc:110] oneDNN custom operations are on. You may see slightly different numerical results due to floating-point round-off errors from different computation orders. To turn them off, set the environment variable `TF_ENABLE_ONEDNN_OPTS=0`.\n",
      "2023-09-14 07:33:09.011687: I tensorflow/tsl/cuda/cudart_stub.cc:28] Could not find cuda drivers on your machine, GPU will not be used.\n",
      "2023-09-14 07:33:09.176448: I tensorflow/tsl/cuda/cudart_stub.cc:28] Could not find cuda drivers on your machine, GPU will not be used.\n",
      "2023-09-14 07:33:09.177804: I tensorflow/core/platform/cpu_feature_guard.cc:182] This TensorFlow binary is optimized to use available CPU instructions in performance-critical operations.\n",
      "To enable the following instructions: AVX2 AVX512F AVX512_VNNI FMA, in other operations, rebuild TensorFlow with the appropriate compiler flags.\n",
      "2023-09-14 07:33:10.448118: W tensorflow/compiler/tf2tensorrt/utils/py_utils.cc:38] TF-TRT Warning: Could not find TensorRT\n"
     ]
    }
   ],
   "source": [
    "import tensorflow as tf\n",
    "import numpy as np \n",
    "import matplotlib.pyplot as plt"
   ]
  },
  {
   "cell_type": "code",
   "execution_count": 2,
   "metadata": {},
   "outputs": [
    {
     "data": {
      "text/plain": [
       "<matplotlib.collections.PathCollection at 0x7f168d6cbe10>"
      ]
     },
     "execution_count": 2,
     "metadata": {},
     "output_type": "execute_result"
    },
    {
     "data": {
      "image/png": "[encoded data removed]",
      "text/plain": [
       "<Figure size 640x480 with 1 Axes>"
      ]
     },
     "metadata": {},
     "output_type": "display_data"
    }
   ],
   "source": [
    "X = np.array([-7., -4., -1., 2., 5., 8., 11., 14.])\n",
    "y = np.array([3., 6., 9., 12., 15., 18., 21., 24.])\n",
    "plt.scatter(X,y)"
   ]
  },
  {
   "cell_type": "code",
   "execution_count": 3,
   "metadata": {},
   "outputs": [],
   "source": [
    "X = X.reshape (-1,1)\n",
    "y = y.reshape(-1, 1)"
   ]
  },
  {
   "cell_type": "code",
   "execution_count": 4,
   "metadata": {},
   "outputs": [
    {
     "data": {
      "text/plain": [
       "(<tf.Tensor: shape=(1,), dtype=int32, numpy=array([900020], dtype=int32)>,\n",
       " <tf.Tensor: shape=(3,), dtype=string, numpy=array([b'bedroom', b'bathroom', b'garage'], dtype=object)>)"
      ]
     },
     "execution_count": 4,
     "metadata": {},
     "output_type": "execute_result"
    }
   ],
   "source": [
    "house_info = tf.constant(['bedroom', 'bathroom', 'garage'])\n",
    "house_price = tf.constant([900020])\n",
    "house_price, house_info"
   ]
  },
  {
   "cell_type": "code",
   "execution_count": 5,
   "metadata": {},
   "outputs": [
    {
     "data": {
      "text/plain": [
       "((8, 1), (8, 1))"
      ]
     },
     "execution_count": 5,
     "metadata": {},
     "output_type": "execute_result"
    }
   ],
   "source": [
    "X.shape, y.shape"
   ]
  },
  {
   "cell_type": "code",
   "execution_count": 6,
   "metadata": {},
   "outputs": [],
   "source": [
    "X = tf.cast(tf.constant(X), dtype = tf.float32)\n",
    "y = tf.cast(tf.constant(y), dtype = tf.float32)"
   ]
  },
  {
   "cell_type": "markdown",
   "metadata": {},
   "source": [
    "### steps in modelling with tensorflow "
   ]
  },
  {
   "cell_type": "code",
   "execution_count": 7,
   "metadata": {},
   "outputs": [
    {
     "name": "stdout",
     "output_type": "stream",
     "text": [
      "Epoch 1/5\n",
      "1/1 [==============================] - 0s 301ms/step - loss: 16.4333 - mae: 16.4333\n",
      "Epoch 2/5\n",
      "1/1 [==============================] - 0s 4ms/step - loss: 16.1520 - mae: 16.1520\n",
      "Epoch 3/5\n",
      "1/1 [==============================] - 0s 3ms/step - loss: 15.8707 - mae: 15.8707\n",
      "Epoch 4/5\n",
      "1/1 [==============================] - 0s 5ms/step - loss: 15.5895 - mae: 15.5895\n",
      "Epoch 5/5\n",
      "1/1 [==============================] - 0s 3ms/step - loss: 15.3082 - mae: 15.3082\n"
     ]
    },
    {
     "data": {
      "text/plain": [
       "<keras.src.callbacks.History at 0x7f168d458f50>"
      ]
     },
     "execution_count": 7,
     "metadata": {},
     "output_type": "execute_result"
    }
   ],
   "source": [
    "#!1) creating model\n",
    "model = tf.keras.Sequential([\n",
    "    tf.keras.layers.Dense(1)\n",
    "])\n",
    "\n",
    "#!2) compile model\n",
    "model.compile(loss=tf.keras.losses.mae, \n",
    "              optimizer=tf.keras.optimizers.SGD(),\n",
    "              metrics= [\"mae\"])\n",
    "\n",
    "\n",
    "#!3) fit the model\n",
    "model.fit(X, y, epochs = 5)"
   ]
  },
  {
   "cell_type": "code",
   "execution_count": 8,
   "metadata": {},
   "outputs": [
    {
     "name": "stdout",
     "output_type": "stream",
     "text": [
      "1/1 [==============================] - 0s 67ms/step\n"
     ]
    },
    {
     "data": {
      "text/plain": [
       "array([[-2.596928]], dtype=float32)"
      ]
     },
     "execution_count": 8,
     "metadata": {},
     "output_type": "execute_result"
    }
   ],
   "source": [
    "model.predict([[6]])\n"
   ]
  },
  {
   "cell_type": "markdown",
   "metadata": {},
   "source": [
    "improve the model"
   ]
  },
  {
   "cell_type": "code",
   "execution_count": 9,
   "metadata": {},
   "outputs": [
    {
     "name": "stdout",
     "output_type": "stream",
     "text": [
      "Epoch 1/100\n",
      "1/1 [==============================] - 0s 4ms/step - loss: 15.0270 - mae: 15.0270\n",
      "Epoch 2/100\n",
      "1/1 [==============================] - 0s 3ms/step - loss: 14.8080 - mae: 14.8080\n",
      "Epoch 3/100\n",
      "1/1 [==============================] - 0s 5ms/step - loss: 14.6755 - mae: 14.6755\n",
      "Epoch 4/100\n",
      "1/1 [==============================] - 0s 2ms/step - loss: 14.5430 - mae: 14.5430\n",
      "Epoch 5/100\n",
      "1/1 [==============================] - 0s 3ms/step - loss: 14.4105 - mae: 14.4105\n",
      "Epoch 6/100\n",
      "1/1 [==============================] - 0s 5ms/step - loss: 14.2780 - mae: 14.2780\n",
      "Epoch 7/100\n",
      "1/1 [==============================] - 0s 4ms/step - loss: 14.1455 - mae: 14.1455\n",
      "Epoch 8/100\n",
      "1/1 [==============================] - 0s 3ms/step - loss: 14.0130 - mae: 14.0130\n",
      "Epoch 9/100\n",
      "1/1 [==============================] - 0s 3ms/step - loss: 13.8805 - mae: 13.8805\n",
      "Epoch 10/100\n",
      "1/1 [==============================] - 0s 5ms/step - loss: 13.7480 - mae: 13.7480\n",
      "Epoch 11/100\n",
      "1/1 [==============================] - 0s 3ms/step - loss: 13.6155 - mae: 13.6155\n",
      "Epoch 12/100\n",
      "1/1 [==============================] - 0s 2ms/step - loss: 13.4830 - mae: 13.4830\n",
      "Epoch 13/100\n",
      "1/1 [==============================] - 0s 3ms/step - loss: 13.3505 - mae: 13.3505\n",
      "Epoch 14/100\n",
      "1/1 [==============================] - 0s 4ms/step - loss: 13.2180 - mae: 13.2180\n",
      "Epoch 15/100\n",
      "1/1 [==============================] - 0s 3ms/step - loss: 13.0855 - mae: 13.0855\n",
      "Epoch 16/100\n",
      "1/1 [==============================] - 0s 3ms/step - loss: 12.9530 - mae: 12.9530\n",
      "Epoch 17/100\n",
      "1/1 [==============================] - 0s 6ms/step - loss: 12.8205 - mae: 12.8205\n",
      "Epoch 18/100\n",
      "1/1 [==============================] - 0s 4ms/step - loss: 12.6880 - mae: 12.6880\n",
      "Epoch 19/100\n",
      "1/1 [==============================] - 0s 5ms/step - loss: 12.5555 - mae: 12.5555\n",
      "Epoch 20/100\n",
      "1/1 [==============================] - 0s 5ms/step - loss: 12.4230 - mae: 12.4230\n",
      "Epoch 21/100\n",
      "1/1 [==============================] - 0s 3ms/step - loss: 12.2905 - mae: 12.2905\n",
      "Epoch 22/100\n",
      "1/1 [==============================] - 0s 5ms/step - loss: 12.1580 - mae: 12.1580\n",
      "Epoch 23/100\n",
      "1/1 [==============================] - 0s 3ms/step - loss: 12.0255 - mae: 12.0255\n",
      "Epoch 24/100\n",
      "1/1 [==============================] - 0s 3ms/step - loss: 11.8930 - mae: 11.8930\n",
      "Epoch 25/100\n",
      "1/1 [==============================] - 0s 5ms/step - loss: 11.7605 - mae: 11.7605\n",
      "Epoch 26/100\n",
      "1/1 [==============================] - 0s 4ms/step - loss: 11.6280 - mae: 11.6280\n",
      "Epoch 27/100\n",
      "1/1 [==============================] - 0s 3ms/step - loss: 11.4955 - mae: 11.4955\n",
      "Epoch 28/100\n",
      "1/1 [==============================] - 0s 5ms/step - loss: 11.3630 - mae: 11.3630\n",
      "Epoch 29/100\n",
      "1/1 [==============================] - 0s 4ms/step - loss: 11.2305 - mae: 11.2305\n",
      "Epoch 30/100\n",
      "1/1 [==============================] - 0s 3ms/step - loss: 11.0980 - mae: 11.0980\n",
      "Epoch 31/100\n",
      "1/1 [==============================] - 0s 2ms/step - loss: 10.9655 - mae: 10.9655\n",
      "Epoch 32/100\n",
      "1/1 [==============================] - 0s 4ms/step - loss: 10.8330 - mae: 10.8330\n",
      "Epoch 33/100\n",
      "1/1 [==============================] - 0s 3ms/step - loss: 10.7005 - mae: 10.7005\n",
      "Epoch 34/100\n",
      "1/1 [==============================] - 0s 3ms/step - loss: 10.5680 - mae: 10.5680\n",
      "Epoch 35/100\n",
      "1/1 [==============================] - 0s 3ms/step - loss: 10.4355 - mae: 10.4355\n",
      "Epoch 36/100\n",
      "1/1 [==============================] - 0s 5ms/step - loss: 10.3030 - mae: 10.3030\n",
      "Epoch 37/100\n",
      "1/1 [==============================] - 0s 3ms/step - loss: 10.1705 - mae: 10.1705\n",
      "Epoch 38/100\n",
      "1/1 [==============================] - 0s 3ms/step - loss: 10.0380 - mae: 10.0380\n",
      "Epoch 39/100\n",
      "1/1 [==============================] - 0s 4ms/step - loss: 9.9055 - mae: 9.9055\n",
      "Epoch 40/100\n",
      "1/1 [==============================] - 0s 4ms/step - loss: 9.7730 - mae: 9.7730\n",
      "Epoch 41/100\n",
      "1/1 [==============================] - 0s 4ms/step - loss: 9.6405 - mae: 9.6405\n",
      "Epoch 42/100\n",
      "1/1 [==============================] - 0s 3ms/step - loss: 9.5080 - mae: 9.5080\n",
      "Epoch 43/100\n",
      "1/1 [==============================] - 0s 4ms/step - loss: 9.3755 - mae: 9.3755\n",
      "Epoch 44/100\n",
      "1/1 [==============================] - 0s 3ms/step - loss: 9.2430 - mae: 9.2430\n",
      "Epoch 45/100\n",
      "1/1 [==============================] - 0s 2ms/step - loss: 9.1105 - mae: 9.1105\n",
      "Epoch 46/100\n",
      "1/1 [==============================] - 0s 3ms/step - loss: 8.9780 - mae: 8.9780\n",
      "Epoch 47/100\n",
      "1/1 [==============================] - 0s 4ms/step - loss: 8.8455 - mae: 8.8455\n",
      "Epoch 48/100\n",
      "1/1 [==============================] - 0s 3ms/step - loss: 8.7130 - mae: 8.7130\n",
      "Epoch 49/100\n",
      "1/1 [==============================] - 0s 3ms/step - loss: 8.5805 - mae: 8.5805\n",
      "Epoch 50/100\n",
      "1/1 [==============================] - 0s 4ms/step - loss: 8.4480 - mae: 8.4480\n",
      "Epoch 51/100\n",
      "1/1 [==============================] - 0s 3ms/step - loss: 8.3155 - mae: 8.3155\n",
      "Epoch 52/100\n",
      "1/1 [==============================] - 0s 3ms/step - loss: 8.1830 - mae: 8.1830\n",
      "Epoch 53/100\n",
      "1/1 [==============================] - 0s 3ms/step - loss: 8.0505 - mae: 8.0505\n",
      "Epoch 54/100\n",
      "1/1 [==============================] - 0s 5ms/step - loss: 7.9180 - mae: 7.9180\n",
      "Epoch 55/100\n",
      "1/1 [==============================] - 0s 3ms/step - loss: 7.7855 - mae: 7.7855\n",
      "Epoch 56/100\n",
      "1/1 [==============================] - 0s 2ms/step - loss: 7.6530 - mae: 7.6530\n",
      "Epoch 57/100\n",
      "1/1 [==============================] - 0s 3ms/step - loss: 7.5205 - mae: 7.5205\n",
      "Epoch 58/100\n",
      "1/1 [==============================] - 0s 6ms/step - loss: 7.3880 - mae: 7.3880\n",
      "Epoch 59/100\n",
      "1/1 [==============================] - 0s 8ms/step - loss: 7.2555 - mae: 7.2555\n",
      "Epoch 60/100\n",
      "1/1 [==============================] - 0s 5ms/step - loss: 7.1230 - mae: 7.1230\n",
      "Epoch 61/100\n",
      "1/1 [==============================] - 0s 5ms/step - loss: 7.0238 - mae: 7.0238\n",
      "Epoch 62/100\n",
      "1/1 [==============================] - 0s 5ms/step - loss: 7.0181 - mae: 7.0181\n",
      "Epoch 63/100\n",
      "1/1 [==============================] - 0s 4ms/step - loss: 7.0125 - mae: 7.0125\n",
      "Epoch 64/100\n",
      "1/1 [==============================] - 0s 3ms/step - loss: 7.0069 - mae: 7.0069\n",
      "Epoch 65/100\n",
      "1/1 [==============================] - 0s 4ms/step - loss: 7.0013 - mae: 7.0013\n",
      "Epoch 66/100\n",
      "1/1 [==============================] - 0s 3ms/step - loss: 6.9956 - mae: 6.9956\n",
      "Epoch 67/100\n",
      "1/1 [==============================] - 0s 2ms/step - loss: 6.9900 - mae: 6.9900\n",
      "Epoch 68/100\n",
      "1/1 [==============================] - 0s 3ms/step - loss: 6.9844 - mae: 6.9844\n",
      "Epoch 69/100\n",
      "1/1 [==============================] - 0s 4ms/step - loss: 6.9788 - mae: 6.9788\n",
      "Epoch 70/100\n",
      "1/1 [==============================] - 0s 4ms/step - loss: 6.9731 - mae: 6.9731\n",
      "Epoch 71/100\n",
      "1/1 [==============================] - 0s 3ms/step - loss: 6.9675 - mae: 6.9675\n",
      "Epoch 72/100\n",
      "1/1 [==============================] - 0s 3ms/step - loss: 6.9619 - mae: 6.9619\n",
      "Epoch 73/100\n",
      "1/1 [==============================] - 0s 4ms/step - loss: 6.9563 - mae: 6.9563\n",
      "Epoch 74/100\n",
      "1/1 [==============================] - 0s 3ms/step - loss: 6.9506 - mae: 6.9506\n",
      "Epoch 75/100\n",
      "1/1 [==============================] - 0s 3ms/step - loss: 6.9450 - mae: 6.9450\n",
      "Epoch 76/100\n",
      "1/1 [==============================] - 0s 3ms/step - loss: 6.9394 - mae: 6.9394\n",
      "Epoch 77/100\n",
      "1/1 [==============================] - 0s 4ms/step - loss: 6.9338 - mae: 6.9338\n",
      "Epoch 78/100\n",
      "1/1 [==============================] - 0s 3ms/step - loss: 6.9281 - mae: 6.9281\n",
      "Epoch 79/100\n",
      "1/1 [==============================] - 0s 3ms/step - loss: 6.9225 - mae: 6.9225\n",
      "Epoch 80/100\n",
      "1/1 [==============================] - 0s 4ms/step - loss: 6.9169 - mae: 6.9169\n",
      "Epoch 81/100\n",
      "1/1 [==============================] - 0s 3ms/step - loss: 6.9113 - mae: 6.9113\n",
      "Epoch 82/100\n",
      "1/1 [==============================] - 0s 3ms/step - loss: 6.9056 - mae: 6.9056\n",
      "Epoch 83/100\n",
      "1/1 [==============================] - 0s 3ms/step - loss: 6.9000 - mae: 6.9000\n",
      "Epoch 84/100\n",
      "1/1 [==============================] - 0s 5ms/step - loss: 6.8944 - mae: 6.8944\n",
      "Epoch 85/100\n",
      "1/1 [==============================] - 0s 2ms/step - loss: 6.8888 - mae: 6.8888\n",
      "Epoch 86/100\n",
      "1/1 [==============================] - 0s 3ms/step - loss: 6.8831 - mae: 6.8831\n",
      "Epoch 87/100\n",
      "1/1 [==============================] - 0s 5ms/step - loss: 6.8775 - mae: 6.8775\n",
      "Epoch 88/100\n",
      "1/1 [==============================] - 0s 3ms/step - loss: 6.8719 - mae: 6.8719\n",
      "Epoch 89/100\n",
      "1/1 [==============================] - 0s 3ms/step - loss: 6.8663 - mae: 6.8663\n",
      "Epoch 90/100\n",
      "1/1 [==============================] - 0s 2ms/step - loss: 6.8606 - mae: 6.8606\n",
      "Epoch 91/100\n",
      "1/1 [==============================] - 0s 5ms/step - loss: 6.8550 - mae: 6.8550\n",
      "Epoch 92/100\n",
      "1/1 [==============================] - 0s 3ms/step - loss: 6.8494 - mae: 6.8494\n",
      "Epoch 93/100\n",
      "1/1 [==============================] - 0s 3ms/step - loss: 6.8438 - mae: 6.8438\n",
      "Epoch 94/100\n",
      "1/1 [==============================] - 0s 3ms/step - loss: 6.8381 - mae: 6.8381\n",
      "Epoch 95/100\n",
      "1/1 [==============================] - 0s 4ms/step - loss: 6.8325 - mae: 6.8325\n",
      "Epoch 96/100\n",
      "1/1 [==============================] - 0s 3ms/step - loss: 6.8269 - mae: 6.8269\n",
      "Epoch 97/100\n",
      "1/1 [==============================] - 0s 2ms/step - loss: 6.8212 - mae: 6.8212\n",
      "Epoch 98/100\n",
      "1/1 [==============================] - 0s 3ms/step - loss: 6.8156 - mae: 6.8156\n",
      "Epoch 99/100\n",
      "1/1 [==============================] - 0s 4ms/step - loss: 6.8100 - mae: 6.8100\n",
      "Epoch 100/100\n",
      "1/1 [==============================] - 0s 3ms/step - loss: 6.8044 - mae: 6.8044\n"
     ]
    },
    {
     "data": {
      "text/plain": [
       "<keras.src.callbacks.History at 0x7f168018a350>"
      ]
     },
     "execution_count": 9,
     "metadata": {},
     "output_type": "execute_result"
    }
   ],
   "source": [
    "# imporving using epochs\n",
    "\n",
    "model.fit(X,y, epochs = 100)"
   ]
  },
  {
   "cell_type": "code",
   "execution_count": 10,
   "metadata": {},
   "outputs": [
    {
     "name": "stdout",
     "output_type": "stream",
     "text": [
      "1/1 [==============================] - 0s 46ms/step\n"
     ]
    },
    {
     "data": {
      "text/plain": [
       "array([[29.468283]], dtype=float32)"
      ]
     },
     "execution_count": 10,
     "metadata": {},
     "output_type": "execute_result"
    }
   ],
   "source": [
    "model.predict([[17.]])"
   ]
  },
  {
   "cell_type": "code",
   "execution_count": 11,
   "metadata": {},
   "outputs": [
    {
     "name": "stdout",
     "output_type": "stream",
     "text": [
      "Epoch 1/100\n",
      "1/1 [==============================] - 0s 386ms/step - loss: 13.9413 - mae: 13.9413\n",
      "Epoch 2/100\n",
      "1/1 [==============================] - 0s 5ms/step - loss: 12.9685 - mae: 12.9685\n",
      "Epoch 3/100\n",
      "1/1 [==============================] - 0s 4ms/step - loss: 11.9949 - mae: 11.9949\n",
      "Epoch 4/100\n",
      "1/1 [==============================] - 0s 3ms/step - loss: 11.0142 - mae: 11.0142\n",
      "Epoch 5/100\n",
      "1/1 [==============================] - 0s 3ms/step - loss: 10.0230 - mae: 10.0230\n",
      "Epoch 6/100\n",
      "1/1 [==============================] - 0s 4ms/step - loss: 9.0177 - mae: 9.0177\n",
      "Epoch 7/100\n",
      "1/1 [==============================] - 0s 3ms/step - loss: 7.9937 - mae: 7.9937\n",
      "Epoch 8/100\n",
      "1/1 [==============================] - 0s 3ms/step - loss: 6.9454 - mae: 6.9454\n",
      "Epoch 9/100\n",
      "1/1 [==============================] - 0s 4ms/step - loss: 6.7699 - mae: 6.7699\n",
      "Epoch 10/100\n",
      "1/1 [==============================] - 0s 3ms/step - loss: 7.2047 - mae: 7.2047\n",
      "Epoch 11/100\n",
      "1/1 [==============================] - 0s 3ms/step - loss: 7.6503 - mae: 7.6503\n",
      "Epoch 12/100\n",
      "1/1 [==============================] - 0s 3ms/step - loss: 7.7877 - mae: 7.7877\n",
      "Epoch 13/100\n",
      "1/1 [==============================] - 0s 4ms/step - loss: 7.6400 - mae: 7.6400\n",
      "Epoch 14/100\n",
      "1/1 [==============================] - 0s 3ms/step - loss: 7.2877 - mae: 7.2877\n",
      "Epoch 15/100\n",
      "1/1 [==============================] - 0s 3ms/step - loss: 6.8260 - mae: 6.8260\n",
      "Epoch 16/100\n",
      "1/1 [==============================] - 0s 2ms/step - loss: 6.4871 - mae: 6.4871\n",
      "Epoch 17/100\n",
      "1/1 [==============================] - 0s 4ms/step - loss: 6.1315 - mae: 6.1315\n",
      "Epoch 18/100\n",
      "1/1 [==============================] - 0s 3ms/step - loss: 5.9653 - mae: 5.9653\n",
      "Epoch 19/100\n",
      "1/1 [==============================] - 0s 3ms/step - loss: 5.9764 - mae: 5.9764\n",
      "Epoch 20/100\n",
      "1/1 [==============================] - 0s 3ms/step - loss: 6.1015 - mae: 6.1015\n",
      "Epoch 21/100\n",
      "1/1 [==============================] - 0s 4ms/step - loss: 6.0818 - mae: 6.0818\n",
      "Epoch 22/100\n",
      "1/1 [==============================] - 0s 3ms/step - loss: 5.9367 - mae: 5.9367\n",
      "Epoch 23/100\n",
      "1/1 [==============================] - 0s 3ms/step - loss: 5.6793 - mae: 5.6793\n",
      "Epoch 24/100\n",
      "1/1 [==============================] - 0s 3ms/step - loss: 5.3716 - mae: 5.3716\n",
      "Epoch 25/100\n",
      "1/1 [==============================] - 0s 4ms/step - loss: 5.2238 - mae: 5.2238\n",
      "Epoch 26/100\n",
      "1/1 [==============================] - 0s 3ms/step - loss: 5.0880 - mae: 5.0880\n",
      "Epoch 27/100\n",
      "1/1 [==============================] - 0s 3ms/step - loss: 5.0553 - mae: 5.0553\n",
      "Epoch 28/100\n",
      "1/1 [==============================] - 0s 4ms/step - loss: 4.9680 - mae: 4.9680\n",
      "Epoch 29/100\n",
      "1/1 [==============================] - 0s 3ms/step - loss: 4.8297 - mae: 4.8297\n",
      "Epoch 30/100\n",
      "1/1 [==============================] - 0s 3ms/step - loss: 4.6437 - mae: 4.6437\n",
      "Epoch 31/100\n",
      "1/1 [==============================] - 0s 3ms/step - loss: 4.4135 - mae: 4.4135\n",
      "Epoch 32/100\n",
      "1/1 [==============================] - 0s 4ms/step - loss: 4.2417 - mae: 4.2417\n",
      "Epoch 33/100\n",
      "1/1 [==============================] - 0s 3ms/step - loss: 4.0983 - mae: 4.0983\n",
      "Epoch 34/100\n",
      "1/1 [==============================] - 0s 2ms/step - loss: 3.9767 - mae: 3.9767\n",
      "Epoch 35/100\n",
      "1/1 [==============================] - 0s 4ms/step - loss: 3.7836 - mae: 3.7836\n",
      "Epoch 36/100\n",
      "1/1 [==============================] - 0s 3ms/step - loss: 3.5359 - mae: 3.5359\n",
      "Epoch 37/100\n",
      "1/1 [==============================] - 0s 3ms/step - loss: 3.3052 - mae: 3.3052\n",
      "Epoch 38/100\n",
      "1/1 [==============================] - 0s 3ms/step - loss: 3.1526 - mae: 3.1526\n",
      "Epoch 39/100\n",
      "1/1 [==============================] - 0s 4ms/step - loss: 2.9705 - mae: 2.9705\n",
      "Epoch 40/100\n",
      "1/1 [==============================] - 0s 3ms/step - loss: 2.7167 - mae: 2.7167\n",
      "Epoch 41/100\n",
      "1/1 [==============================] - 0s 3ms/step - loss: 2.3928 - mae: 2.3928\n",
      "Epoch 42/100\n",
      "1/1 [==============================] - 0s 3ms/step - loss: 2.0876 - mae: 2.0876\n",
      "Epoch 43/100\n",
      "1/1 [==============================] - 0s 4ms/step - loss: 1.9244 - mae: 1.9244\n",
      "Epoch 44/100\n",
      "1/1 [==============================] - 0s 3ms/step - loss: 1.6139 - mae: 1.6139\n",
      "Epoch 45/100\n",
      "1/1 [==============================] - 0s 3ms/step - loss: 1.1718 - mae: 1.1718\n",
      "Epoch 46/100\n",
      "1/1 [==============================] - 0s 5ms/step - loss: 0.9990 - mae: 0.9990\n",
      "Epoch 47/100\n",
      "1/1 [==============================] - 0s 3ms/step - loss: 0.6796 - mae: 0.6796\n",
      "Epoch 48/100\n",
      "1/1 [==============================] - 0s 3ms/step - loss: 0.1316 - mae: 0.1316\n",
      "Epoch 49/100\n",
      "1/1 [==============================] - 0s 3ms/step - loss: 0.2504 - mae: 0.2504\n",
      "Epoch 50/100\n",
      "1/1 [==============================] - 0s 4ms/step - loss: 0.6170 - mae: 0.6170\n",
      "Epoch 51/100\n",
      "1/1 [==============================] - 0s 3ms/step - loss: 0.7476 - mae: 0.7476\n",
      "Epoch 52/100\n",
      "1/1 [==============================] - 0s 3ms/step - loss: 0.9539 - mae: 0.9539\n",
      "Epoch 53/100\n",
      "1/1 [==============================] - 0s 4ms/step - loss: 1.0147 - mae: 1.0147\n",
      "Epoch 54/100\n",
      "1/1 [==============================] - 0s 4ms/step - loss: 0.9414 - mae: 0.9414\n",
      "Epoch 55/100\n",
      "1/1 [==============================] - 0s 3ms/step - loss: 0.8980 - mae: 0.8980\n",
      "Epoch 56/100\n",
      "1/1 [==============================] - 0s 3ms/step - loss: 0.8467 - mae: 0.8467\n",
      "Epoch 57/100\n",
      "1/1 [==============================] - 0s 4ms/step - loss: 0.6756 - mae: 0.6756\n",
      "Epoch 58/100\n",
      "1/1 [==============================] - 0s 3ms/step - loss: 0.5417 - mae: 0.5417\n",
      "Epoch 59/100\n",
      "1/1 [==============================] - 0s 3ms/step - loss: 0.3187 - mae: 0.3187\n",
      "Epoch 60/100\n",
      "1/1 [==============================] - 0s 4ms/step - loss: 0.0648 - mae: 0.0648\n",
      "Epoch 61/100\n",
      "1/1 [==============================] - 0s 4ms/step - loss: 0.3985 - mae: 0.3985\n",
      "Epoch 62/100\n",
      "1/1 [==============================] - 0s 3ms/step - loss: 0.5724 - mae: 0.5724\n",
      "Epoch 63/100\n",
      "1/1 [==============================] - 0s 4ms/step - loss: 0.5015 - mae: 0.5015\n",
      "Epoch 64/100\n",
      "1/1 [==============================] - 0s 4ms/step - loss: 0.6916 - mae: 0.6916\n",
      "Epoch 65/100\n",
      "1/1 [==============================] - 0s 3ms/step - loss: 0.8351 - mae: 0.8351\n",
      "Epoch 66/100\n",
      "1/1 [==============================] - 0s 3ms/step - loss: 0.6438 - mae: 0.6438\n",
      "Epoch 67/100\n",
      "1/1 [==============================] - 0s 4ms/step - loss: 0.5485 - mae: 0.5485\n",
      "Epoch 68/100\n",
      "1/1 [==============================] - 0s 4ms/step - loss: 0.5859 - mae: 0.5859\n",
      "Epoch 69/100\n",
      "1/1 [==============================] - 0s 3ms/step - loss: 0.4075 - mae: 0.4075\n",
      "Epoch 70/100\n",
      "1/1 [==============================] - 0s 3ms/step - loss: 0.2242 - mae: 0.2242\n",
      "Epoch 71/100\n",
      "1/1 [==============================] - 0s 4ms/step - loss: 0.1146 - mae: 0.1146\n",
      "Epoch 72/100\n",
      "1/1 [==============================] - 0s 3ms/step - loss: 0.3944 - mae: 0.3944\n",
      "Epoch 73/100\n",
      "1/1 [==============================] - 0s 3ms/step - loss: 0.4827 - mae: 0.4827\n",
      "Epoch 74/100\n",
      "1/1 [==============================] - 0s 3ms/step - loss: 0.3044 - mae: 0.3044\n",
      "Epoch 75/100\n",
      "1/1 [==============================] - 0s 4ms/step - loss: 0.4583 - mae: 0.4583\n",
      "Epoch 76/100\n",
      "1/1 [==============================] - 0s 3ms/step - loss: 0.4014 - mae: 0.4014\n",
      "Epoch 77/100\n",
      "1/1 [==============================] - 0s 3ms/step - loss: 0.2297 - mae: 0.2297\n",
      "Epoch 78/100\n",
      "1/1 [==============================] - 0s 3ms/step - loss: 0.1400 - mae: 0.1400\n",
      "Epoch 79/100\n",
      "1/1 [==============================] - 0s 4ms/step - loss: 0.1879 - mae: 0.1879\n",
      "Epoch 80/100\n",
      "1/1 [==============================] - 0s 3ms/step - loss: 0.1328 - mae: 0.1328\n",
      "Epoch 81/100\n",
      "1/1 [==============================] - 0s 3ms/step - loss: 0.3258 - mae: 0.3258\n",
      "Epoch 82/100\n",
      "1/1 [==============================] - 0s 3ms/step - loss: 0.3236 - mae: 0.3236\n",
      "Epoch 83/100\n",
      "1/1 [==============================] - 0s 4ms/step - loss: 0.1566 - mae: 0.1566\n",
      "Epoch 84/100\n",
      "1/1 [==============================] - 0s 3ms/step - loss: 0.1761 - mae: 0.1761\n",
      "Epoch 85/100\n",
      "1/1 [==============================] - 0s 3ms/step - loss: 0.0983 - mae: 0.0983\n",
      "Epoch 86/100\n",
      "1/1 [==============================] - 0s 5ms/step - loss: 0.1091 - mae: 0.1091\n",
      "Epoch 87/100\n",
      "1/1 [==============================] - 0s 3ms/step - loss: 0.1022 - mae: 0.1022\n",
      "Epoch 88/100\n",
      "1/1 [==============================] - 0s 3ms/step - loss: 0.1413 - mae: 0.1413\n",
      "Epoch 89/100\n",
      "1/1 [==============================] - 0s 3ms/step - loss: 0.0161 - mae: 0.0161\n",
      "Epoch 90/100\n",
      "1/1 [==============================] - 0s 4ms/step - loss: 0.3276 - mae: 0.3276\n",
      "Epoch 91/100\n",
      "1/1 [==============================] - 0s 3ms/step - loss: 0.3320 - mae: 0.3320\n",
      "Epoch 92/100\n",
      "1/1 [==============================] - 0s 3ms/step - loss: 0.1903 - mae: 0.1903\n",
      "Epoch 93/100\n",
      "1/1 [==============================] - 0s 4ms/step - loss: 0.3830 - mae: 0.3830\n",
      "Epoch 94/100\n",
      "1/1 [==============================] - 0s 3ms/step - loss: 0.3193 - mae: 0.3193\n",
      "Epoch 95/100\n",
      "1/1 [==============================] - 0s 2ms/step - loss: 0.1599 - mae: 0.1599\n",
      "Epoch 96/100\n",
      "1/1 [==============================] - 0s 3ms/step - loss: 0.1859 - mae: 0.1859\n",
      "Epoch 97/100\n",
      "1/1 [==============================] - 0s 5ms/step - loss: 0.1200 - mae: 0.1200\n",
      "Epoch 98/100\n",
      "1/1 [==============================] - 0s 3ms/step - loss: 0.1562 - mae: 0.1562\n",
      "Epoch 99/100\n",
      "1/1 [==============================] - 0s 3ms/step - loss: 0.1735 - mae: 0.1735\n",
      "Epoch 100/100\n",
      "1/1 [==============================] - 0s 4ms/step - loss: 0.0608 - mae: 0.0608\n"
     ]
    },
    {
     "data": {
      "text/plain": [
       "<keras.src.callbacks.History at 0x7f169465cc50>"
      ]
     },
     "execution_count": 11,
     "metadata": {},
     "output_type": "execute_result"
    }
   ],
   "source": [
    "## using hidden neurons and optimizers\n",
    "model = tf.keras.Sequential([\n",
    "    tf.keras.layers.Dense(100, activation= None),\n",
    "    tf.keras.layers.Dense(1)\n",
    "])\n",
    "\n",
    "#!2) compile model\n",
    "model.compile(loss=tf.keras.losses.mae, \n",
    "              optimizer=tf.keras.optimizers.Adam(learning_rate = 0.01),\n",
    "              metrics= [\"mae\"])\n",
    "\n",
    "\n",
    "#!3) fit the model\n",
    "model.fit(X, y, epochs = 100)"
   ]
  },
  {
   "cell_type": "code",
   "execution_count": 12,
   "metadata": {},
   "outputs": [
    {
     "name": "stdout",
     "output_type": "stream",
     "text": [
      "1/1 [==============================] - 0s 52ms/step\n"
     ]
    },
    {
     "data": {
      "text/plain": [
       "array([[27.793772]], dtype=float32)"
      ]
     },
     "execution_count": 12,
     "metadata": {},
     "output_type": "execute_result"
    }
   ],
   "source": [
    "model.predict([[17]])"
   ]
  },
  {
   "cell_type": "markdown",
   "metadata": {},
   "source": [
    "evaluvating the model"
   ]
  },
  {
   "cell_type": "code",
   "execution_count": 13,
   "metadata": {},
   "outputs": [
    {
     "data": {
      "text/plain": [
       "tf.float32"
      ]
     },
     "execution_count": 13,
     "metadata": {},
     "output_type": "execute_result"
    }
   ],
   "source": [
    "X = tf.cast(tf.range (-100, 100, 4), dtype= tf.float32)\n",
    "X.dtype"
   ]
  },
  {
   "cell_type": "code",
   "execution_count": 14,
   "metadata": {},
   "outputs": [
    {
     "data": {
      "text/plain": [
       "<tf.Tensor: shape=(50,), dtype=float32, numpy=\n",
       "array([-90., -86., -82., -78., -74., -70., -66., -62., -58., -54., -50.,\n",
       "       -46., -42., -38., -34., -30., -26., -22., -18., -14., -10.,  -6.,\n",
       "        -2.,   2.,   6.,  10.,  14.,  18.,  22.,  26.,  30.,  34.,  38.,\n",
       "        42.,  46.,  50.,  54.,  58.,  62.,  66.,  70.,  74.,  78.,  82.,\n",
       "        86.,  90.,  94.,  98., 102., 106.], dtype=float32)>"
      ]
     },
     "execution_count": 14,
     "metadata": {},
     "output_type": "execute_result"
    }
   ],
   "source": [
    "y = X + 10\n",
    "y"
   ]
  },
  {
   "cell_type": "code",
   "execution_count": 15,
   "metadata": {},
   "outputs": [
    {
     "data": {
      "text/plain": [
       "<matplotlib.collections.PathCollection at 0x7f168019b990>"
      ]
     },
     "execution_count": 15,
     "metadata": {},
     "output_type": "execute_result"
    },
    {
     "data": {
      "image/png": "[encoded data removed]",
      "text/plain": [
       "<Figure size 640x480 with 1 Axes>"
      ]
     },
     "metadata": {},
     "output_type": "display_data"
    }
   ],
   "source": [
    "plt.scatter(X,y)"
   ]
  },
  {
   "cell_type": "code",
   "execution_count": 16,
   "metadata": {},
   "outputs": [
    {
     "data": {
      "text/plain": [
       "50"
      ]
     },
     "execution_count": 16,
     "metadata": {},
     "output_type": "execute_result"
    }
   ],
   "source": [
    "len(X)"
   ]
  },
  {
   "cell_type": "code",
   "execution_count": 17,
   "metadata": {},
   "outputs": [],
   "source": [
    "X_train =  X [:40]\n",
    "X_test =  X [40:]\n",
    "y_train =  y [:40]\n",
    "y_test =  y [40:]"
   ]
  },
  {
   "cell_type": "markdown",
   "metadata": {},
   "source": []
  },
  {
   "cell_type": "code",
   "execution_count": 18,
   "metadata": {},
   "outputs": [
    {
     "data": {
      "image/png": "[encoded data removed]",
      "text/plain": [
       "<Figure size 1000x700 with 1 Axes>"
      ]
     },
     "metadata": {},
     "output_type": "display_data"
    }
   ],
   "source": [
    "plt.figure(figsize = (10,7))\n",
    "plt.scatter(X_train , y_train, c = \"g\", label = \"Training data\")\n",
    "plt.scatter(X_test , y_test, c = \"b\", label = \"testing data\")\n",
    "plt.legend();"
   ]
  },
  {
   "cell_type": "code",
   "execution_count": 19,
   "metadata": {},
   "outputs": [
    {
     "data": {
      "text/plain": [
       "TensorShape([])"
      ]
     },
     "execution_count": 19,
     "metadata": {},
     "output_type": "execute_result"
    }
   ],
   "source": [
    "X[0].shape"
   ]
  },
  {
   "cell_type": "code",
   "execution_count": 20,
   "metadata": {},
   "outputs": [
    {
     "data": {
      "text/plain": [
       "<keras.src.callbacks.History at 0x7f1680204a50>"
      ]
     },
     "execution_count": 20,
     "metadata": {},
     "output_type": "execute_result"
    }
   ],
   "source": [
    "model = tf.keras.Sequential([\n",
    "    tf.keras.layers.Dense(10, input_shape = [1], name = \"input_layer\"),\n",
    "  \n",
    "    tf.keras.layers.Dense(1, name = \"output_layer\")\n",
    "], name = \"model\")\n",
    "\n",
    "\n",
    "model.compile(loss = tf.keras.losses.mae,\n",
    "            optimizer= tf.keras.optimizers.SGD(), \n",
    "            metrics=['accuracy']\n",
    "            )\n",
    "\n",
    "\n",
    "model.fit(X_train, y_train, epochs = 50, verbose= 0)  # if set 1 it will show model training like a progress bar"
   ]
  },
  {
   "cell_type": "code",
   "execution_count": 21,
   "metadata": {},
   "outputs": [
    {
     "name": "stdout",
     "output_type": "stream",
     "text": [
      "Model: \"model\"\n",
      "_________________________________________________________________\n",
      " Layer (type)                Output Shape              Param #   \n",
      "=================================================================\n",
      " input_layer (Dense)         (None, 10)                20        \n",
      "                                                                 \n",
      " output_layer (Dense)        (None, 1)                 11        \n",
      "                                                                 \n",
      "=================================================================\n",
      "Total params: 31 (124.00 Byte)\n",
      "Trainable params: 31 (124.00 Byte)\n",
      "Non-trainable params: 0 (0.00 Byte)\n",
      "_________________________________________________________________\n"
     ]
    }
   ],
   "source": [
    "model.summary()"
   ]
  },
  {
   "cell_type": "code",
   "execution_count": 22,
   "metadata": {},
   "outputs": [
    {
     "data": {
      "image/png": "[encoded data removed]",
      "text/plain": [
       "<IPython.core.display.Image object>"
      ]
     },
     "execution_count": 22,
     "metadata": {},
     "output_type": "execute_result"
    }
   ],
   "source": [
    "from tensorflow.keras.utils import plot_model\n",
    "plot_model(model = model, show_shapes = True)"
   ]
  },
  {
   "cell_type": "markdown",
   "metadata": {},
   "source": [
    "visualize model predictions"
   ]
  },
  {
   "cell_type": "code",
   "execution_count": null,
   "metadata": {},
   "outputs": [],
   "source": []
  },
  {
   "cell_type": "code",
   "execution_count": 23,
   "metadata": {},
   "outputs": [
    {
     "name": "stdout",
     "output_type": "stream",
     "text": [
      "1/1 [==============================] - 0s 43ms/step\n"
     ]
    },
    {
     "data": {
      "text/plain": [
       "array([[ 66.44145 ],\n",
       "       [ 70.81525 ],\n",
       "       [ 75.18904 ],\n",
       "       [ 79.56283 ],\n",
       "       [ 83.93663 ],\n",
       "       [ 88.31042 ],\n",
       "       [ 92.68422 ],\n",
       "       [ 97.058014],\n",
       "       [101.4318  ],\n",
       "       [105.8056  ]], dtype=float32)"
      ]
     },
     "execution_count": 23,
     "metadata": {},
     "output_type": "execute_result"
    }
   ],
   "source": [
    "y_pred = model.predict(X_test)\n",
    "y_pred"
   ]
  },
  {
   "cell_type": "code",
   "execution_count": 24,
   "metadata": {},
   "outputs": [
    {
     "data": {
      "text/plain": [
       "<tf.Tensor: shape=(10,), dtype=float32, numpy=\n",
       "array([ 70.,  74.,  78.,  82.,  86.,  90.,  94.,  98., 102., 106.],\n",
       "      dtype=float32)>"
      ]
     },
     "execution_count": 24,
     "metadata": {},
     "output_type": "execute_result"
    }
   ],
   "source": [
    "y_test"
   ]
  },
  {
   "cell_type": "code",
   "execution_count": 25,
   "metadata": {},
   "outputs": [],
   "source": [
    "def plot_predictions(train_data = X_train, train_labels = y_train ,test_data = X_test, test_labels = y_test, prdeictions = y_pred):\n",
    "    plt.figure(figsize=(10,6))\n",
    "    plt.scatter(train_data, train_labels, c = \"b\", label = \"Traning data\")\n",
    "    plt.scatter(test_data, test_labels, c = \"g\", label = \"Testing data\")\n",
    "    plt.scatter(test_data, prdeictions, c = 'r', label = \"predictions\")\n",
    "    plt.legend()"
   ]
  },
  {
   "cell_type": "code",
   "execution_count": 26,
   "metadata": {},
   "outputs": [
    {
     "data": {
      "image/png": "[encoded data removed]",
      "text/plain": [
       "<Figure size 1000x600 with 1 Axes>"
      ]
     },
     "metadata": {},
     "output_type": "display_data"
    }
   ],
   "source": [
    "plot_predictions()"
   ]
  },
  {
   "cell_type": "markdown",
   "metadata": {},
   "source": [
    "### evaluvating using regression evaluation mertics"
   ]
  },
  {
   "cell_type": "code",
   "execution_count": 27,
   "metadata": {},
   "outputs": [
    {
     "name": "stdout",
     "output_type": "stream",
     "text": [
      "1/1 [==============================] - 0s 92ms/step - loss: 1.8765 - accuracy: 0.0000e+00\n"
     ]
    },
    {
     "data": {
      "text/plain": [
       "[1.8764747381210327, 0.0]"
      ]
     },
     "execution_count": 27,
     "metadata": {},
     "output_type": "execute_result"
    }
   ],
   "source": [
    "model.evaluate(X_test, y_test)"
   ]
  },
  {
   "cell_type": "code",
   "execution_count": 28,
   "metadata": {},
   "outputs": [
    {
     "data": {
      "text/plain": [
       "(array([[ 66.44145 ],\n",
       "        [ 70.81525 ],\n",
       "        [ 75.18904 ],\n",
       "        [ 79.56283 ],\n",
       "        [ 83.93663 ],\n",
       "        [ 88.31042 ],\n",
       "        [ 92.68422 ],\n",
       "        [ 97.058014],\n",
       "        [101.4318  ],\n",
       "        [105.8056  ]], dtype=float32),\n",
       " <tf.Tensor: shape=(10,), dtype=float32, numpy=\n",
       " array([ 70.,  74.,  78.,  82.,  86.,  90.,  94.,  98., 102., 106.],\n",
       "       dtype=float32)>)"
      ]
     },
     "execution_count": 28,
     "metadata": {},
     "output_type": "execute_result"
    }
   ],
   "source": [
    "y_pred, y_test\n"
   ]
  },
  {
   "cell_type": "code",
   "execution_count": 29,
   "metadata": {},
   "outputs": [],
   "source": [
    "y_pred = tf.squeeze(y_pred)"
   ]
  },
  {
   "cell_type": "code",
   "execution_count": 30,
   "metadata": {},
   "outputs": [
    {
     "data": {
      "text/plain": [
       "<tf.Tensor: shape=(), dtype=float32, numpy=1.8764747>"
      ]
     },
     "execution_count": 30,
     "metadata": {},
     "output_type": "execute_result"
    }
   ],
   "source": [
    "mae = tf.metrics.mean_absolute_error(y_test, y_pred)\n",
    "mae "
   ]
  },
  {
   "cell_type": "code",
   "execution_count": 31,
   "metadata": {},
   "outputs": [
    {
     "data": {
      "text/plain": [
       "<tf.Tensor: shape=(), dtype=float32, numpy=4.6738653>"
      ]
     },
     "execution_count": 31,
     "metadata": {},
     "output_type": "execute_result"
    }
   ],
   "source": [
    "mse = tf.metrics.mean_squared_error(y_test, y_pred)\n",
    "mse"
   ]
  },
  {
   "cell_type": "code",
   "execution_count": 32,
   "metadata": {},
   "outputs": [
    {
     "data": {
      "text/plain": [
       "<tf.Tensor: shape=(), dtype=float32, numpy=1.4184153>"
      ]
     },
     "execution_count": 32,
     "metadata": {},
     "output_type": "execute_result"
    }
   ],
   "source": [
    "huber = tf.keras.losses.Huber(delta= 1)\n",
    "huber(y_test, y_pred)"
   ]
  },
  {
   "cell_type": "code",
   "execution_count": 33,
   "metadata": {},
   "outputs": [],
   "source": [
    "def Mae(y_true, y_pred):\n",
    "    return tf.keras.losses.mae(y_true, tf.squeeze(y_pred))\n",
    "def mse(y_true, y_pred):\n",
    "    return tf.keras.losses.mse(y_true, tf.squeeze(y_pred))"
   ]
  },
  {
   "cell_type": "code",
   "execution_count": 34,
   "metadata": {},
   "outputs": [
    {
     "data": {
      "text/plain": [
       "(<tf.Tensor: shape=(40,), dtype=float32, numpy=\n",
       " array([-100.,  -96.,  -92.,  -88.,  -84.,  -80.,  -76.,  -72.,  -68.,\n",
       "         -64.,  -60.,  -56.,  -52.,  -48.,  -44.,  -40.,  -36.,  -32.,\n",
       "         -28.,  -24.,  -20.,  -16.,  -12.,   -8.,   -4.,    0.,    4.,\n",
       "           8.,   12.,   16.,   20.,   24.,   28.,   32.,   36.,   40.,\n",
       "          44.,   48.,   52.,   56.], dtype=float32)>,\n",
       " <tf.Tensor: shape=(40,), dtype=float32, numpy=\n",
       " array([-90., -86., -82., -78., -74., -70., -66., -62., -58., -54., -50.,\n",
       "        -46., -42., -38., -34., -30., -26., -22., -18., -14., -10.,  -6.,\n",
       "         -2.,   2.,   6.,  10.,  14.,  18.,  22.,  26.,  30.,  34.,  38.,\n",
       "         42.,  46.,  50.,  54.,  58.,  62.,  66.], dtype=float32)>)"
      ]
     },
     "execution_count": 34,
     "metadata": {},
     "output_type": "execute_result"
    }
   ],
   "source": [
    "X_train, y_train"
   ]
  },
  {
   "cell_type": "code",
   "execution_count": 35,
   "metadata": {},
   "outputs": [
    {
     "name": "stdout",
     "output_type": "stream",
     "text": [
      "Epoch 1/100\n"
     ]
    },
    {
     "name": "stdout",
     "output_type": "stream",
     "text": [
      "2/2 [==============================] - 0s 7ms/step - loss: 110.4813 - mae: 110.4813\n",
      "Epoch 2/100\n",
      "2/2 [==============================] - 0s 2ms/step - loss: 73.9370 - mae: 73.9370\n",
      "Epoch 3/100\n",
      "2/2 [==============================] - 0s 4ms/step - loss: 36.7998 - mae: 36.7998\n",
      "Epoch 4/100\n",
      "2/2 [==============================] - 0s 2ms/step - loss: 12.4433 - mae: 12.4433\n",
      "Epoch 5/100\n",
      "2/2 [==============================] - 0s 2ms/step - loss: 10.3075 - mae: 10.3075\n",
      "Epoch 6/100\n",
      "2/2 [==============================] - 0s 4ms/step - loss: 9.4371 - mae: 9.4371\n",
      "Epoch 7/100\n",
      "2/2 [==============================] - 0s 2ms/step - loss: 9.0259 - mae: 9.0259\n",
      "Epoch 8/100\n",
      "2/2 [==============================] - 0s 2ms/step - loss: 9.8197 - mae: 9.8197\n",
      "Epoch 9/100\n",
      "2/2 [==============================] - 0s 4ms/step - loss: 9.9681 - mae: 9.9681\n",
      "Epoch 10/100\n",
      "2/2 [==============================] - 0s 2ms/step - loss: 11.7511 - mae: 11.7511\n",
      "Epoch 11/100\n",
      "2/2 [==============================] - 0s 2ms/step - loss: 14.8884 - mae: 14.8884\n",
      "Epoch 12/100\n",
      "2/2 [==============================] - 0s 4ms/step - loss: 8.4251 - mae: 8.4251\n",
      "Epoch 13/100\n",
      "2/2 [==============================] - 0s 3ms/step - loss: 9.7060 - mae: 9.7060\n",
      "Epoch 14/100\n",
      "2/2 [==============================] - 0s 2ms/step - loss: 8.8260 - mae: 8.8260\n",
      "Epoch 15/100\n",
      "2/2 [==============================] - 0s 4ms/step - loss: 11.2952 - mae: 11.2952\n",
      "Epoch 16/100\n",
      "2/2 [==============================] - 0s 2ms/step - loss: 16.0416 - mae: 16.0416\n",
      "Epoch 17/100\n",
      "2/2 [==============================] - 0s 2ms/step - loss: 9.9807 - mae: 9.9807\n",
      "Epoch 18/100\n",
      "2/2 [==============================] - 0s 4ms/step - loss: 12.1179 - mae: 12.1179\n",
      "Epoch 19/100\n",
      "2/2 [==============================] - 0s 3ms/step - loss: 19.6779 - mae: 19.6779\n",
      "Epoch 20/100\n",
      "2/2 [==============================] - 0s 2ms/step - loss: 12.6385 - mae: 12.6385\n",
      "Epoch 21/100\n",
      "2/2 [==============================] - 0s 3ms/step - loss: 9.7342 - mae: 9.7342\n",
      "Epoch 22/100\n",
      "2/2 [==============================] - 0s 3ms/step - loss: 11.8715 - mae: 11.8715\n",
      "Epoch 23/100\n",
      "2/2 [==============================] - 0s 3ms/step - loss: 10.1786 - mae: 10.1786\n",
      "Epoch 24/100\n",
      "2/2 [==============================] - 0s 3ms/step - loss: 9.8165 - mae: 9.8165\n",
      "Epoch 25/100\n",
      "2/2 [==============================] - 0s 2ms/step - loss: 9.2742 - mae: 9.2742\n",
      "Epoch 26/100\n",
      "2/2 [==============================] - 0s 2ms/step - loss: 8.3967 - mae: 8.3967\n",
      "Epoch 27/100\n",
      "2/2 [==============================] - 0s 3ms/step - loss: 7.4035 - mae: 7.4035\n",
      "Epoch 28/100\n",
      "2/2 [==============================] - 0s 3ms/step - loss: 8.7826 - mae: 8.7826\n",
      "Epoch 29/100\n",
      "2/2 [==============================] - 0s 3ms/step - loss: 12.1529 - mae: 12.1529\n",
      "Epoch 30/100\n",
      "2/2 [==============================] - 0s 3ms/step - loss: 10.4295 - mae: 10.4295\n",
      "Epoch 31/100\n",
      "2/2 [==============================] - 0s 2ms/step - loss: 7.3300 - mae: 7.3300\n",
      "Epoch 32/100\n",
      "2/2 [==============================] - 0s 3ms/step - loss: 8.5911 - mae: 8.5911\n",
      "Epoch 33/100\n",
      "2/2 [==============================] - 0s 3ms/step - loss: 12.2167 - mae: 12.2167\n",
      "Epoch 34/100\n",
      "2/2 [==============================] - 0s 3ms/step - loss: 7.3563 - mae: 7.3563\n",
      "Epoch 35/100\n",
      "2/2 [==============================] - 0s 3ms/step - loss: 16.3672 - mae: 16.3672\n",
      "Epoch 36/100\n",
      "2/2 [==============================] - 0s 3ms/step - loss: 11.5522 - mae: 11.5522\n",
      "Epoch 37/100\n",
      "2/2 [==============================] - 0s 2ms/step - loss: 10.1796 - mae: 10.1796\n",
      "Epoch 38/100\n",
      "2/2 [==============================] - 0s 2ms/step - loss: 7.2288 - mae: 7.2288\n",
      "Epoch 39/100\n",
      "2/2 [==============================] - 0s 3ms/step - loss: 9.3941 - mae: 9.3941\n",
      "Epoch 40/100\n",
      "2/2 [==============================] - 0s 2ms/step - loss: 10.7516 - mae: 10.7516\n",
      "Epoch 41/100\n",
      "2/2 [==============================] - 0s 3ms/step - loss: 7.3030 - mae: 7.3030\n",
      "Epoch 42/100\n",
      "2/2 [==============================] - 0s 3ms/step - loss: 14.1325 - mae: 14.1325\n",
      "Epoch 43/100\n",
      "2/2 [==============================] - 0s 2ms/step - loss: 8.9898 - mae: 8.9898\n",
      "Epoch 44/100\n",
      "2/2 [==============================] - 0s 2ms/step - loss: 9.1409 - mae: 9.1409\n",
      "Epoch 45/100\n",
      "2/2 [==============================] - 0s 4ms/step - loss: 7.3517 - mae: 7.3517\n",
      "Epoch 46/100\n",
      "2/2 [==============================] - 0s 2ms/step - loss: 13.4025 - mae: 13.4025\n",
      "Epoch 47/100\n",
      "2/2 [==============================] - 0s 3ms/step - loss: 12.6923 - mae: 12.6923\n",
      "Epoch 48/100\n",
      "2/2 [==============================] - 0s 3ms/step - loss: 7.8684 - mae: 7.8684\n",
      "Epoch 49/100\n",
      "2/2 [==============================] - 0s 2ms/step - loss: 7.8211 - mae: 7.8211\n",
      "Epoch 50/100\n",
      "2/2 [==============================] - 0s 2ms/step - loss: 11.9258 - mae: 11.9258\n",
      "Epoch 51/100\n",
      "2/2 [==============================] - 0s 3ms/step - loss: 8.9149 - mae: 8.9149\n",
      "Epoch 52/100\n",
      "2/2 [==============================] - 0s 2ms/step - loss: 10.9610 - mae: 10.9610\n",
      "Epoch 53/100\n",
      "2/2 [==============================] - 0s 2ms/step - loss: 7.1226 - mae: 7.1226\n",
      "Epoch 54/100\n",
      "2/2 [==============================] - 0s 3ms/step - loss: 11.9617 - mae: 11.9617\n",
      "Epoch 55/100\n",
      "2/2 [==============================] - 0s 2ms/step - loss: 11.4173 - mae: 11.4173\n",
      "Epoch 56/100\n",
      "2/2 [==============================] - 0s 2ms/step - loss: 13.4419 - mae: 13.4419\n",
      "Epoch 57/100\n",
      "2/2 [==============================] - 0s 3ms/step - loss: 11.2422 - mae: 11.2422\n",
      "Epoch 58/100\n",
      "2/2 [==============================] - 0s 2ms/step - loss: 9.8867 - mae: 9.8867\n",
      "Epoch 59/100\n",
      "2/2 [==============================] - 0s 3ms/step - loss: 9.4082 - mae: 9.4082\n",
      "Epoch 60/100\n",
      "2/2 [==============================] - 0s 3ms/step - loss: 12.6426 - mae: 12.6426\n",
      "Epoch 61/100\n",
      "2/2 [==============================] - 0s 2ms/step - loss: 19.5974 - mae: 19.5974\n",
      "Epoch 62/100\n",
      "2/2 [==============================] - 0s 2ms/step - loss: 11.3252 - mae: 11.3252\n",
      "Epoch 63/100\n",
      "2/2 [==============================] - 0s 3ms/step - loss: 11.0790 - mae: 11.0790\n",
      "Epoch 64/100\n",
      "2/2 [==============================] - 0s 2ms/step - loss: 8.1746 - mae: 8.1746\n",
      "Epoch 65/100\n",
      "2/2 [==============================] - 0s 3ms/step - loss: 9.7057 - mae: 9.7057\n",
      "Epoch 66/100\n",
      "2/2 [==============================] - 0s 3ms/step - loss: 9.2988 - mae: 9.2988\n",
      "Epoch 67/100\n",
      "2/2 [==============================] - 0s 3ms/step - loss: 7.7808 - mae: 7.7808\n",
      "Epoch 68/100\n",
      "2/2 [==============================] - 0s 4ms/step - loss: 8.3709 - mae: 8.3709\n",
      "Epoch 69/100\n",
      "2/2 [==============================] - 0s 3ms/step - loss: 11.1912 - mae: 11.1912\n",
      "Epoch 70/100\n",
      "2/2 [==============================] - 0s 2ms/step - loss: 12.4553 - mae: 12.4553\n",
      "Epoch 71/100\n",
      "2/2 [==============================] - 0s 3ms/step - loss: 12.8169 - mae: 12.8169\n",
      "Epoch 72/100\n",
      "2/2 [==============================] - 0s 3ms/step - loss: 8.0439 - mae: 8.0439\n",
      "Epoch 73/100\n",
      "2/2 [==============================] - 0s 2ms/step - loss: 6.8776 - mae: 6.8776\n",
      "Epoch 74/100\n",
      "2/2 [==============================] - 0s 3ms/step - loss: 8.7222 - mae: 8.7222\n",
      "Epoch 75/100\n",
      "2/2 [==============================] - 0s 3ms/step - loss: 8.5193 - mae: 8.5193\n",
      "Epoch 76/100\n",
      "2/2 [==============================] - 0s 3ms/step - loss: 9.5145 - mae: 9.5145\n",
      "Epoch 77/100\n",
      "2/2 [==============================] - 0s 3ms/step - loss: 8.8834 - mae: 8.8834\n",
      "Epoch 78/100\n",
      "2/2 [==============================] - 0s 2ms/step - loss: 13.0778 - mae: 13.0778\n",
      "Epoch 79/100\n",
      "2/2 [==============================] - 0s 3ms/step - loss: 14.0937 - mae: 14.0937\n",
      "Epoch 80/100\n",
      "2/2 [==============================] - 0s 3ms/step - loss: 13.6448 - mae: 13.6448\n",
      "Epoch 81/100\n",
      "2/2 [==============================] - 0s 3ms/step - loss: 8.2746 - mae: 8.2746\n",
      "Epoch 82/100\n",
      "2/2 [==============================] - 0s 4ms/step - loss: 9.0508 - mae: 9.0508\n",
      "Epoch 83/100\n",
      "2/2 [==============================] - 0s 2ms/step - loss: 12.7900 - mae: 12.7900\n",
      "Epoch 84/100\n",
      "2/2 [==============================] - 0s 3ms/step - loss: 6.8342 - mae: 6.8342\n",
      "Epoch 85/100\n",
      "2/2 [==============================] - 0s 3ms/step - loss: 8.0038 - mae: 8.0038\n",
      "Epoch 86/100\n",
      "2/2 [==============================] - 0s 2ms/step - loss: 8.4668 - mae: 8.4668\n",
      "Epoch 87/100\n",
      "2/2 [==============================] - 0s 4ms/step - loss: 9.6664 - mae: 9.6664\n",
      "Epoch 88/100\n",
      "2/2 [==============================] - 0s 3ms/step - loss: 9.6313 - mae: 9.6313\n",
      "Epoch 89/100\n",
      "2/2 [==============================] - 0s 2ms/step - loss: 11.5677 - mae: 11.5677\n",
      "Epoch 90/100\n",
      "2/2 [==============================] - 0s 4ms/step - loss: 9.9187 - mae: 9.9187\n",
      "Epoch 91/100\n",
      "2/2 [==============================] - 0s 3ms/step - loss: 13.9744 - mae: 13.9744\n",
      "Epoch 92/100\n",
      "2/2 [==============================] - 0s 3ms/step - loss: 9.3008 - mae: 9.3008\n",
      "Epoch 93/100\n",
      "2/2 [==============================] - 0s 4ms/step - loss: 16.8195 - mae: 16.8195\n",
      "Epoch 94/100\n",
      "2/2 [==============================] - 0s 3ms/step - loss: 11.7139 - mae: 11.7139\n",
      "Epoch 95/100\n",
      "2/2 [==============================] - 0s 4ms/step - loss: 7.9907 - mae: 7.9907\n",
      "Epoch 96/100\n",
      "2/2 [==============================] - 0s 3ms/step - loss: 8.6431 - mae: 8.6431\n",
      "Epoch 97/100\n",
      "2/2 [==============================] - 0s 2ms/step - loss: 9.1078 - mae: 9.1078\n",
      "Epoch 98/100\n",
      "2/2 [==============================] - 0s 3ms/step - loss: 11.4778 - mae: 11.4778\n",
      "Epoch 99/100\n",
      "2/2 [==============================] - 0s 3ms/step - loss: 8.1569 - mae: 8.1569\n",
      "Epoch 100/100\n",
      "2/2 [==============================] - 0s 2ms/step - loss: 11.4108 - mae: 11.4108\n"
     ]
    },
    {
     "data": {
      "text/plain": [
       "<keras.src.callbacks.History at 0x7f167097e2d0>"
      ]
     },
     "execution_count": 35,
     "metadata": {},
     "output_type": "execute_result"
    }
   ],
   "source": [
    "tf.random.set_seed(32)\n",
    "model1 = tf.keras.Sequential([\n",
    "    tf.keras.layers.Dense(1, input_shape = ([1]))\n",
    "])\n",
    "\n",
    "model1.compile(loss= tf.keras.losses.mae, \n",
    "               optimizer= tf.keras.optimizers.SGD(),\n",
    "               metrics= ['mae'])\n",
    "model1.fit(X_train, y_train, epochs = 100, verbose = 1)"
   ]
  },
  {
   "cell_type": "code",
   "execution_count": 36,
   "metadata": {},
   "outputs": [
    {
     "name": "stdout",
     "output_type": "stream",
     "text": [
      "WARNING:tensorflow:5 out of the last 5 calls to <function Model.make_predict_function.<locals>.predict_function at 0x7f1670e3a200> triggered tf.function retracing. Tracing is expensive and the excessive number of tracings could be due to (1) creating @tf.function repeatedly in a loop, (2) passing tensors with different shapes, (3) passing Python objects instead of tensors. For (1), please define your @tf.function outside of the loop. For (2), @tf.function has reduce_retracing=True option that can avoid unnecessary retracing. For (3), please refer to https://www.tensorflow.org/guide/function#controlling_retracing and https://www.tensorflow.org/api_docs/python/tf/function for  more details.\n",
      "1/1 [==============================] - 0s 38ms/step\n"
     ]
    }
   ],
   "source": [
    "y_pred1 = model1.predict(X_test)"
   ]
  },
  {
   "cell_type": "code",
   "execution_count": 37,
   "metadata": {},
   "outputs": [
    {
     "data": {
      "image/png": "[encoded data removed]",
      "text/plain": [
       "<Figure size 1000x600 with 1 Axes>"
      ]
     },
     "metadata": {},
     "output_type": "display_data"
    }
   ],
   "source": [
    "plot_predictions(prdeictions=y_pred1)"
   ]
  },
  {
   "cell_type": "code",
   "execution_count": 38,
   "metadata": {},
   "outputs": [
    {
     "data": {
      "text/plain": [
       "(<tf.Tensor: shape=(), dtype=float32, numpy=19.986902>,\n",
       " <tf.Tensor: shape=(), dtype=float32, numpy=402.25616>)"
      ]
     },
     "execution_count": 38,
     "metadata": {},
     "output_type": "execute_result"
    }
   ],
   "source": [
    "mae1 = Mae(y_test, (y_pred1))\n",
    "mse1 = mse(y_test, (y_pred1))\n",
    "mae1, mse1"
   ]
  },
  {
   "cell_type": "code",
   "execution_count": 39,
   "metadata": {},
   "outputs": [
    {
     "data": {
      "text/plain": [
       "<keras.src.callbacks.History at 0x7f1678e23e90>"
      ]
     },
     "execution_count": 39,
     "metadata": {},
     "output_type": "execute_result"
    }
   ],
   "source": [
    "tf.random.set_seed(32)\n",
    "model2 = tf.keras.Sequential([\n",
    "    tf.keras.layers.Dense(10, input_shape= ([1])),\n",
    "    tf.keras.layers.Dense(1)\n",
    "])\n",
    "\n",
    "model2.compile(loss= tf.keras.losses.mae, \n",
    "               optimizer= tf.keras.optimizers.SGD(),\n",
    "               metrics= ['mse'])\n",
    "model2.fit(X_train, y_train, epochs = 120, verbose =0)"
   ]
  },
  {
   "cell_type": "code",
   "execution_count": 40,
   "metadata": {},
   "outputs": [
    {
     "name": "stdout",
     "output_type": "stream",
     "text": [
      "WARNING:tensorflow:6 out of the last 6 calls to <function Model.make_predict_function.<locals>.predict_function at 0x7f1670e2e020> triggered tf.function retracing. Tracing is expensive and the excessive number of tracings could be due to (1) creating @tf.function repeatedly in a loop, (2) passing tensors with different shapes, (3) passing Python objects instead of tensors. For (1), please define your @tf.function outside of the loop. For (2), @tf.function has reduce_retracing=True option that can avoid unnecessary retracing. For (3), please refer to https://www.tensorflow.org/guide/function#controlling_retracing and https://www.tensorflow.org/api_docs/python/tf/function for  more details.\n",
      "1/1 [==============================] - 0s 50ms/step\n"
     ]
    }
   ],
   "source": [
    "y_pred2= model2.predict(X_test)\n"
   ]
  },
  {
   "cell_type": "code",
   "execution_count": 41,
   "metadata": {},
   "outputs": [
    {
     "data": {
      "image/png": "[encoded data removed]",
      "text/plain": [
       "<Figure size 1000x600 with 1 Axes>"
      ]
     },
     "metadata": {},
     "output_type": "display_data"
    }
   ],
   "source": [
    "plot_predictions(prdeictions=y_pred2)\n"
   ]
  },
  {
   "cell_type": "code",
   "execution_count": 42,
   "metadata": {},
   "outputs": [
    {
     "data": {
      "text/plain": [
       "(<tf.Tensor: shape=(), dtype=float32, numpy=18.179623>,\n",
       " <tf.Tensor: shape=(), dtype=float32, numpy=345.27237>)"
      ]
     },
     "execution_count": 42,
     "metadata": {},
     "output_type": "execute_result"
    }
   ],
   "source": [
    "mae2 = Mae(y_test, (y_pred2))\n",
    "mse2 = mse(y_test, (y_pred2))\n",
    "mae2, mse2"
   ]
  },
  {
   "cell_type": "code",
   "execution_count": 43,
   "metadata": {},
   "outputs": [
    {
     "name": "stdout",
     "output_type": "stream",
     "text": [
      "Epoch 1/500\n",
      "2/2 [==============================] - 0s 6ms/step - loss: 57.9193 - mae: 57.9193\n",
      "Epoch 2/500\n",
      "2/2 [==============================] - 0s 4ms/step - loss: 34.6209 - mae: 34.6209\n",
      "Epoch 3/500\n",
      "2/2 [==============================] - 0s 3ms/step - loss: 45.3564 - mae: 45.3564\n",
      "Epoch 4/500\n",
      "2/2 [==============================] - 0s 5ms/step - loss: 11.2530 - mae: 11.2530\n",
      "Epoch 5/500\n",
      "2/2 [==============================] - 0s 4ms/step - loss: 7.7750 - mae: 7.7750\n",
      "Epoch 6/500\n",
      "2/2 [==============================] - 0s 5ms/step - loss: 25.1332 - mae: 25.1332\n",
      "Epoch 7/500\n",
      "2/2 [==============================] - 0s 3ms/step - loss: 23.6059 - mae: 23.6059\n",
      "Epoch 8/500\n",
      "2/2 [==============================] - 0s 4ms/step - loss: 13.0953 - mae: 13.0953\n",
      "Epoch 9/500\n",
      "2/2 [==============================] - 0s 4ms/step - loss: 15.9031 - mae: 15.9031\n",
      "Epoch 10/500\n",
      "2/2 [==============================] - 0s 3ms/step - loss: 16.9703 - mae: 16.9703\n",
      "Epoch 11/500\n",
      "2/2 [==============================] - 0s 4ms/step - loss: 18.5633 - mae: 18.5633\n",
      "Epoch 12/500\n",
      "2/2 [==============================] - 0s 3ms/step - loss: 12.6919 - mae: 12.6919\n",
      "Epoch 13/500\n",
      "2/2 [==============================] - 0s 5ms/step - loss: 16.3273 - mae: 16.3273\n",
      "Epoch 14/500\n",
      "2/2 [==============================] - 0s 3ms/step - loss: 10.5144 - mae: 10.5144\n",
      "Epoch 15/500\n",
      "2/2 [==============================] - 0s 4ms/step - loss: 26.8789 - mae: 26.8789\n",
      "Epoch 16/500\n",
      "2/2 [==============================] - 0s 2ms/step - loss: 12.0113 - mae: 12.0113\n",
      "Epoch 17/500\n",
      "2/2 [==============================] - 0s 4ms/step - loss: 11.6727 - mae: 11.6727\n",
      "Epoch 18/500\n",
      "2/2 [==============================] - 0s 3ms/step - loss: 12.0937 - mae: 12.0937\n",
      "Epoch 19/500\n",
      "2/2 [==============================] - 0s 2ms/step - loss: 30.6498 - mae: 30.6498\n",
      "Epoch 20/500\n",
      "2/2 [==============================] - 0s 4ms/step - loss: 14.8358 - mae: 14.8358\n",
      "Epoch 21/500\n",
      "2/2 [==============================] - 0s 2ms/step - loss: 8.6912 - mae: 8.6912\n",
      "Epoch 22/500\n",
      "2/2 [==============================] - 0s 5ms/step - loss: 11.9997 - mae: 11.9997\n",
      "Epoch 23/500\n",
      "2/2 [==============================] - 0s 3ms/step - loss: 8.9582 - mae: 8.9582\n",
      "Epoch 24/500\n",
      "2/2 [==============================] - 0s 2ms/step - loss: 10.4729 - mae: 10.4729\n",
      "Epoch 25/500\n",
      "2/2 [==============================] - 0s 5ms/step - loss: 18.2442 - mae: 18.2442\n",
      "Epoch 26/500\n",
      "2/2 [==============================] - 0s 2ms/step - loss: 15.3988 - mae: 15.3988\n",
      "Epoch 27/500\n",
      "2/2 [==============================] - 0s 5ms/step - loss: 12.3231 - mae: 12.3231\n",
      "Epoch 28/500\n",
      "2/2 [==============================] - 0s 3ms/step - loss: 14.6456 - mae: 14.6456\n",
      "Epoch 29/500\n",
      "2/2 [==============================] - 0s 4ms/step - loss: 19.0446 - mae: 19.0446\n",
      "Epoch 30/500\n",
      "2/2 [==============================] - 0s 5ms/step - loss: 13.6111 - mae: 13.6111\n",
      "Epoch 31/500\n",
      "2/2 [==============================] - 0s 2ms/step - loss: 15.0252 - mae: 15.0252\n",
      "Epoch 32/500\n",
      "2/2 [==============================] - 0s 4ms/step - loss: 10.4688 - mae: 10.4688\n",
      "Epoch 33/500\n",
      "2/2 [==============================] - 0s 2ms/step - loss: 21.1597 - mae: 21.1597\n",
      "Epoch 34/500\n",
      "2/2 [==============================] - 0s 4ms/step - loss: 11.7844 - mae: 11.7844\n",
      "Epoch 35/500\n",
      "2/2 [==============================] - 0s 2ms/step - loss: 19.9035 - mae: 19.9035\n",
      "Epoch 36/500\n",
      "2/2 [==============================] - 0s 2ms/step - loss: 13.9995 - mae: 13.9995\n",
      "Epoch 37/500\n",
      "2/2 [==============================] - 0s 3ms/step - loss: 22.3905 - mae: 22.3905\n",
      "Epoch 38/500\n",
      "2/2 [==============================] - 0s 4ms/step - loss: 21.2753 - mae: 21.2753\n",
      "Epoch 39/500\n",
      "2/2 [==============================] - 0s 4ms/step - loss: 9.8049 - mae: 9.8049\n",
      "Epoch 40/500\n",
      "2/2 [==============================] - 0s 3ms/step - loss: 13.8404 - mae: 13.8404\n",
      "Epoch 41/500\n",
      "2/2 [==============================] - 0s 5ms/step - loss: 19.6078 - mae: 19.6078\n",
      "Epoch 42/500\n",
      "2/2 [==============================] - 0s 3ms/step - loss: 24.9658 - mae: 24.9658\n",
      "Epoch 43/500\n",
      "2/2 [==============================] - 0s 2ms/step - loss: 12.9806 - mae: 12.9806\n",
      "Epoch 44/500\n",
      "2/2 [==============================] - 0s 4ms/step - loss: 10.7274 - mae: 10.7274\n",
      "Epoch 45/500\n",
      "2/2 [==============================] - 0s 3ms/step - loss: 11.3928 - mae: 11.3928\n",
      "Epoch 46/500\n",
      "2/2 [==============================] - 0s 5ms/step - loss: 31.4903 - mae: 31.4903\n",
      "Epoch 47/500\n",
      "2/2 [==============================] - 0s 3ms/step - loss: 14.7491 - mae: 14.7491\n",
      "Epoch 48/500\n",
      "2/2 [==============================] - 0s 2ms/step - loss: 22.5715 - mae: 22.5715\n",
      "Epoch 49/500\n",
      "2/2 [==============================] - 0s 4ms/step - loss: 19.9044 - mae: 19.9044\n",
      "Epoch 50/500\n",
      "2/2 [==============================] - 0s 3ms/step - loss: 10.9689 - mae: 10.9689\n",
      "Epoch 51/500\n",
      "2/2 [==============================] - 0s 5ms/step - loss: 13.6075 - mae: 13.6075\n",
      "Epoch 52/500\n",
      "2/2 [==============================] - 0s 3ms/step - loss: 11.7927 - mae: 11.7927\n",
      "Epoch 53/500\n",
      "2/2 [==============================] - 0s 5ms/step - loss: 19.5442 - mae: 19.5442\n",
      "Epoch 54/500\n",
      "2/2 [==============================] - 0s 2ms/step - loss: 24.3585 - mae: 24.3585\n",
      "Epoch 55/500\n",
      "2/2 [==============================] - 0s 3ms/step - loss: 9.2309 - mae: 9.2309\n",
      "Epoch 56/500\n",
      "2/2 [==============================] - 0s 3ms/step - loss: 24.8807 - mae: 24.8807\n",
      "Epoch 57/500\n",
      "2/2 [==============================] - 0s 2ms/step - loss: 23.6758 - mae: 23.6758\n",
      "Epoch 58/500\n",
      "2/2 [==============================] - 0s 4ms/step - loss: 9.3066 - mae: 9.3066\n",
      "Epoch 59/500\n",
      "2/2 [==============================] - 0s 3ms/step - loss: 18.0577 - mae: 18.0577\n",
      "Epoch 60/500\n",
      "2/2 [==============================] - 0s 4ms/step - loss: 29.9280 - mae: 29.9280\n",
      "Epoch 61/500\n",
      "2/2 [==============================] - 0s 4ms/step - loss: 22.4908 - mae: 22.4908\n",
      "Epoch 62/500\n",
      "2/2 [==============================] - 0s 5ms/step - loss: 10.8516 - mae: 10.8516\n",
      "Epoch 63/500\n",
      "2/2 [==============================] - 0s 4ms/step - loss: 11.8563 - mae: 11.8563\n",
      "Epoch 64/500\n",
      "2/2 [==============================] - 0s 7ms/step - loss: 12.8381 - mae: 12.8381\n",
      "Epoch 65/500\n",
      "2/2 [==============================] - 0s 6ms/step - loss: 11.8120 - mae: 11.8120\n",
      "Epoch 66/500\n",
      "2/2 [==============================] - 0s 4ms/step - loss: 18.3622 - mae: 18.3622\n",
      "Epoch 67/500\n",
      "2/2 [==============================] - 0s 8ms/step - loss: 14.4080 - mae: 14.4080\n",
      "Epoch 68/500\n",
      "2/2 [==============================] - 0s 3ms/step - loss: 17.2495 - mae: 17.2495\n",
      "Epoch 69/500\n",
      "2/2 [==============================] - 0s 5ms/step - loss: 16.3666 - mae: 16.3666\n",
      "Epoch 70/500\n",
      "2/2 [==============================] - 0s 3ms/step - loss: 12.3753 - mae: 12.3753\n",
      "Epoch 71/500\n",
      "2/2 [==============================] - 0s 6ms/step - loss: 19.5274 - mae: 19.5274\n",
      "Epoch 72/500\n",
      "2/2 [==============================] - 0s 4ms/step - loss: 29.6071 - mae: 29.6071\n",
      "Epoch 73/500\n",
      "2/2 [==============================] - 0s 3ms/step - loss: 13.8211 - mae: 13.8211\n",
      "Epoch 74/500\n",
      "2/2 [==============================] - 0s 6ms/step - loss: 22.1646 - mae: 22.1646\n",
      "Epoch 75/500\n",
      "2/2 [==============================] - 0s 5ms/step - loss: 18.3886 - mae: 18.3886\n",
      "Epoch 76/500\n",
      "2/2 [==============================] - 0s 6ms/step - loss: 9.4611 - mae: 9.4611\n",
      "Epoch 77/500\n",
      "2/2 [==============================] - 0s 6ms/step - loss: 12.5722 - mae: 12.5722\n",
      "Epoch 78/500\n",
      "2/2 [==============================] - 0s 3ms/step - loss: 23.1735 - mae: 23.1735\n",
      "Epoch 79/500\n",
      "2/2 [==============================] - 0s 4ms/step - loss: 13.8114 - mae: 13.8114\n",
      "Epoch 80/500\n",
      "2/2 [==============================] - 0s 3ms/step - loss: 17.4980 - mae: 17.4980\n",
      "Epoch 81/500\n",
      "2/2 [==============================] - 0s 4ms/step - loss: 9.2309 - mae: 9.2309\n",
      "Epoch 82/500\n",
      "2/2 [==============================] - 0s 4ms/step - loss: 21.1912 - mae: 21.1912\n",
      "Epoch 83/500\n",
      "2/2 [==============================] - 0s 5ms/step - loss: 22.2714 - mae: 22.2714\n",
      "Epoch 84/500\n",
      "2/2 [==============================] - 0s 4ms/step - loss: 11.4049 - mae: 11.4049\n",
      "Epoch 85/500\n",
      "2/2 [==============================] - 0s 7ms/step - loss: 19.8603 - mae: 19.8603\n",
      "Epoch 86/500\n",
      "2/2 [==============================] - 0s 3ms/step - loss: 14.7746 - mae: 14.7746\n",
      "Epoch 87/500\n",
      "2/2 [==============================] - 0s 4ms/step - loss: 15.2114 - mae: 15.2114\n",
      "Epoch 88/500\n",
      "2/2 [==============================] - 0s 6ms/step - loss: 11.1811 - mae: 11.1811\n",
      "Epoch 89/500\n",
      "2/2 [==============================] - 0s 4ms/step - loss: 13.3055 - mae: 13.3055\n",
      "Epoch 90/500\n",
      "2/2 [==============================] - 0s 6ms/step - loss: 10.1360 - mae: 10.1360\n",
      "Epoch 91/500\n",
      "2/2 [==============================] - 0s 4ms/step - loss: 26.0330 - mae: 26.0330\n",
      "Epoch 92/500\n",
      "2/2 [==============================] - 0s 5ms/step - loss: 10.3415 - mae: 10.3415\n",
      "Epoch 93/500\n",
      "2/2 [==============================] - 0s 4ms/step - loss: 21.8286 - mae: 21.8286\n",
      "Epoch 94/500\n",
      "2/2 [==============================] - 0s 4ms/step - loss: 9.5997 - mae: 9.5997\n",
      "Epoch 95/500\n",
      "2/2 [==============================] - 0s 5ms/step - loss: 11.7554 - mae: 11.7554\n",
      "Epoch 96/500\n",
      "2/2 [==============================] - 0s 4ms/step - loss: 12.3429 - mae: 12.3429\n",
      "Epoch 97/500\n",
      "2/2 [==============================] - 0s 5ms/step - loss: 10.8695 - mae: 10.8695\n",
      "Epoch 98/500\n",
      "2/2 [==============================] - 0s 4ms/step - loss: 12.6192 - mae: 12.6192\n",
      "Epoch 99/500\n",
      "2/2 [==============================] - 0s 6ms/step - loss: 8.5894 - mae: 8.5894\n",
      "Epoch 100/500\n",
      "2/2 [==============================] - 0s 3ms/step - loss: 18.6021 - mae: 18.6021\n",
      "Epoch 101/500\n",
      "2/2 [==============================] - 0s 4ms/step - loss: 6.7403 - mae: 6.7403\n",
      "Epoch 102/500\n",
      "2/2 [==============================] - 0s 3ms/step - loss: 18.0979 - mae: 18.0979\n",
      "Epoch 103/500\n",
      "2/2 [==============================] - 0s 5ms/step - loss: 18.2325 - mae: 18.2325\n",
      "Epoch 104/500\n",
      "2/2 [==============================] - 0s 4ms/step - loss: 17.3847 - mae: 17.3847\n",
      "Epoch 105/500\n",
      "2/2 [==============================] - 0s 5ms/step - loss: 18.6807 - mae: 18.6807\n",
      "Epoch 106/500\n",
      "2/2 [==============================] - 0s 3ms/step - loss: 8.7103 - mae: 8.7103\n",
      "Epoch 107/500\n",
      "2/2 [==============================] - 0s 5ms/step - loss: 16.1394 - mae: 16.1394\n",
      "Epoch 108/500\n",
      "2/2 [==============================] - 0s 5ms/step - loss: 12.6397 - mae: 12.6397\n",
      "Epoch 109/500\n",
      "2/2 [==============================] - 0s 3ms/step - loss: 16.8124 - mae: 16.8124\n",
      "Epoch 110/500\n",
      "2/2 [==============================] - 0s 3ms/step - loss: 15.1612 - mae: 15.1612\n",
      "Epoch 111/500\n",
      "2/2 [==============================] - 0s 5ms/step - loss: 9.0482 - mae: 9.0482\n",
      "Epoch 112/500\n",
      "2/2 [==============================] - 0s 4ms/step - loss: 17.6904 - mae: 17.6904\n",
      "Epoch 113/500\n",
      "2/2 [==============================] - 0s 4ms/step - loss: 18.6830 - mae: 18.6830\n",
      "Epoch 114/500\n",
      "2/2 [==============================] - 0s 4ms/step - loss: 24.2752 - mae: 24.2752\n",
      "Epoch 115/500\n",
      "2/2 [==============================] - 0s 3ms/step - loss: 7.3788 - mae: 7.3788\n",
      "Epoch 116/500\n",
      "2/2 [==============================] - 0s 5ms/step - loss: 19.2129 - mae: 19.2129\n",
      "Epoch 117/500\n",
      "2/2 [==============================] - 0s 4ms/step - loss: 12.1960 - mae: 12.1960\n",
      "Epoch 118/500\n",
      "2/2 [==============================] - 0s 5ms/step - loss: 15.2822 - mae: 15.2822\n",
      "Epoch 119/500\n",
      "2/2 [==============================] - 0s 4ms/step - loss: 10.7887 - mae: 10.7887\n",
      "Epoch 120/500\n",
      "2/2 [==============================] - 0s 5ms/step - loss: 25.3775 - mae: 25.3775\n",
      "Epoch 121/500\n",
      "2/2 [==============================] - 0s 30ms/step - loss: 16.3964 - mae: 16.3964\n",
      "Epoch 122/500\n",
      "2/2 [==============================] - 0s 5ms/step - loss: 9.8117 - mae: 9.8117\n",
      "Epoch 123/500\n",
      "2/2 [==============================] - 0s 5ms/step - loss: 13.5171 - mae: 13.5171\n",
      "Epoch 124/500\n",
      "2/2 [==============================] - 0s 10ms/step - loss: 11.4094 - mae: 11.4094\n",
      "Epoch 125/500\n",
      "2/2 [==============================] - 0s 3ms/step - loss: 19.7856 - mae: 19.7856\n",
      "Epoch 126/500\n",
      "2/2 [==============================] - 0s 5ms/step - loss: 34.6936 - mae: 34.6936\n",
      "Epoch 127/500\n",
      "2/2 [==============================] - 0s 3ms/step - loss: 16.0570 - mae: 16.0570\n",
      "Epoch 128/500\n",
      "2/2 [==============================] - 0s 5ms/step - loss: 12.5689 - mae: 12.5689\n",
      "Epoch 129/500\n",
      "2/2 [==============================] - 0s 4ms/step - loss: 21.8450 - mae: 21.8450\n",
      "Epoch 130/500\n",
      "2/2 [==============================] - 0s 4ms/step - loss: 5.8828 - mae: 5.8828\n",
      "Epoch 131/500\n",
      "2/2 [==============================] - 0s 3ms/step - loss: 17.8679 - mae: 17.8679\n",
      "Epoch 132/500\n",
      "2/2 [==============================] - 0s 4ms/step - loss: 6.8332 - mae: 6.8332\n",
      "Epoch 133/500\n",
      "2/2 [==============================] - 0s 4ms/step - loss: 11.3514 - mae: 11.3514\n",
      "Epoch 134/500\n",
      "2/2 [==============================] - 0s 4ms/step - loss: 12.9599 - mae: 12.9599\n",
      "Epoch 135/500\n",
      "2/2 [==============================] - 0s 4ms/step - loss: 14.8311 - mae: 14.8311\n",
      "Epoch 136/500\n",
      "2/2 [==============================] - 0s 5ms/step - loss: 17.6144 - mae: 17.6144\n",
      "Epoch 137/500\n",
      "2/2 [==============================] - 0s 4ms/step - loss: 18.3795 - mae: 18.3795\n",
      "Epoch 138/500\n",
      "2/2 [==============================] - 0s 4ms/step - loss: 14.8274 - mae: 14.8274\n",
      "Epoch 139/500\n",
      "2/2 [==============================] - 0s 4ms/step - loss: 12.7684 - mae: 12.7684\n",
      "Epoch 140/500\n",
      "2/2 [==============================] - 0s 3ms/step - loss: 19.7962 - mae: 19.7962\n",
      "Epoch 141/500\n",
      "2/2 [==============================] - 0s 4ms/step - loss: 21.9258 - mae: 21.9258\n",
      "Epoch 142/500\n",
      "2/2 [==============================] - 0s 4ms/step - loss: 11.7181 - mae: 11.7181\n",
      "Epoch 143/500\n",
      "2/2 [==============================] - 0s 4ms/step - loss: 9.0266 - mae: 9.0266\n",
      "Epoch 144/500\n",
      "2/2 [==============================] - 0s 3ms/step - loss: 11.3922 - mae: 11.3922\n",
      "Epoch 145/500\n",
      "2/2 [==============================] - 0s 3ms/step - loss: 10.4903 - mae: 10.4903\n",
      "Epoch 146/500\n",
      "2/2 [==============================] - 0s 4ms/step - loss: 19.5150 - mae: 19.5150\n",
      "Epoch 147/500\n",
      "2/2 [==============================] - 0s 5ms/step - loss: 11.5945 - mae: 11.5945\n",
      "Epoch 148/500\n",
      "2/2 [==============================] - 0s 5ms/step - loss: 16.6593 - mae: 16.6593\n",
      "Epoch 149/500\n",
      "2/2 [==============================] - 0s 5ms/step - loss: 14.2437 - mae: 14.2437\n",
      "Epoch 150/500\n",
      "2/2 [==============================] - 0s 3ms/step - loss: 11.4650 - mae: 11.4650\n",
      "Epoch 151/500\n",
      "2/2 [==============================] - 0s 5ms/step - loss: 24.1043 - mae: 24.1043\n",
      "Epoch 152/500\n",
      "2/2 [==============================] - 0s 3ms/step - loss: 17.1473 - mae: 17.1473\n",
      "Epoch 153/500\n",
      "2/2 [==============================] - 0s 5ms/step - loss: 14.4162 - mae: 14.4162\n",
      "Epoch 154/500\n",
      "2/2 [==============================] - 0s 4ms/step - loss: 9.6995 - mae: 9.6995\n",
      "Epoch 155/500\n",
      "2/2 [==============================] - 0s 5ms/step - loss: 16.5679 - mae: 16.5679\n",
      "Epoch 156/500\n",
      "2/2 [==============================] - 0s 4ms/step - loss: 9.7202 - mae: 9.7202\n",
      "Epoch 157/500\n",
      "2/2 [==============================] - 0s 4ms/step - loss: 14.1067 - mae: 14.1067\n",
      "Epoch 158/500\n",
      "2/2 [==============================] - 0s 3ms/step - loss: 19.6822 - mae: 19.6822\n",
      "Epoch 159/500\n",
      "2/2 [==============================] - 0s 4ms/step - loss: 17.8094 - mae: 17.8094\n",
      "Epoch 160/500\n",
      "2/2 [==============================] - 0s 4ms/step - loss: 9.5686 - mae: 9.5686\n",
      "Epoch 161/500\n",
      "2/2 [==============================] - 0s 4ms/step - loss: 12.9087 - mae: 12.9087\n",
      "Epoch 162/500\n",
      "2/2 [==============================] - 0s 4ms/step - loss: 8.7030 - mae: 8.7030\n",
      "Epoch 163/500\n",
      "2/2 [==============================] - 0s 3ms/step - loss: 26.9440 - mae: 26.9440\n",
      "Epoch 164/500\n",
      "2/2 [==============================] - 0s 5ms/step - loss: 17.4485 - mae: 17.4485\n",
      "Epoch 165/500\n",
      "2/2 [==============================] - 0s 5ms/step - loss: 9.3974 - mae: 9.3974\n",
      "Epoch 166/500\n",
      "2/2 [==============================] - 0s 4ms/step - loss: 10.3212 - mae: 10.3212\n",
      "Epoch 167/500\n",
      "2/2 [==============================] - 0s 4ms/step - loss: 8.6111 - mae: 8.6111\n",
      "Epoch 168/500\n",
      "2/2 [==============================] - 0s 3ms/step - loss: 14.3511 - mae: 14.3511\n",
      "Epoch 169/500\n",
      "2/2 [==============================] - 0s 4ms/step - loss: 12.4705 - mae: 12.4705\n",
      "Epoch 170/500\n",
      "2/2 [==============================] - 0s 3ms/step - loss: 30.8217 - mae: 30.8217\n",
      "Epoch 171/500\n",
      "2/2 [==============================] - 0s 4ms/step - loss: 13.2215 - mae: 13.2215\n",
      "Epoch 172/500\n",
      "2/2 [==============================] - 0s 2ms/step - loss: 15.7071 - mae: 15.7071\n",
      "Epoch 173/500\n",
      "2/2 [==============================] - 0s 6ms/step - loss: 10.8401 - mae: 10.8401\n",
      "Epoch 174/500\n",
      "2/2 [==============================] - 0s 4ms/step - loss: 18.6400 - mae: 18.6400\n",
      "Epoch 175/500\n",
      "2/2 [==============================] - 0s 4ms/step - loss: 12.9977 - mae: 12.9977\n",
      "Epoch 176/500\n",
      "2/2 [==============================] - 0s 4ms/step - loss: 19.3891 - mae: 19.3891\n",
      "Epoch 177/500\n",
      "2/2 [==============================] - 0s 5ms/step - loss: 31.8086 - mae: 31.8086\n",
      "Epoch 178/500\n",
      "2/2 [==============================] - 0s 5ms/step - loss: 8.9682 - mae: 8.9682\n",
      "Epoch 179/500\n",
      "2/2 [==============================] - 0s 3ms/step - loss: 11.2110 - mae: 11.2110\n",
      "Epoch 180/500\n",
      "2/2 [==============================] - 0s 5ms/step - loss: 6.8341 - mae: 6.8341\n",
      "Epoch 181/500\n",
      "2/2 [==============================] - 0s 3ms/step - loss: 13.9322 - mae: 13.9322\n",
      "Epoch 182/500\n",
      "2/2 [==============================] - 0s 6ms/step - loss: 26.7121 - mae: 26.7121\n",
      "Epoch 183/500\n",
      "2/2 [==============================] - 0s 4ms/step - loss: 9.3158 - mae: 9.3158\n",
      "Epoch 184/500\n",
      "2/2 [==============================] - 0s 5ms/step - loss: 22.9350 - mae: 22.9350\n",
      "Epoch 185/500\n",
      "2/2 [==============================] - 0s 4ms/step - loss: 20.9369 - mae: 20.9369\n",
      "Epoch 186/500\n",
      "2/2 [==============================] - 0s 7ms/step - loss: 8.9815 - mae: 8.9815\n",
      "Epoch 187/500\n",
      "2/2 [==============================] - 0s 5ms/step - loss: 20.9785 - mae: 20.9785\n",
      "Epoch 188/500\n",
      "2/2 [==============================] - 0s 5ms/step - loss: 26.1581 - mae: 26.1581\n",
      "Epoch 189/500\n",
      "2/2 [==============================] - 0s 5ms/step - loss: 14.7492 - mae: 14.7492\n",
      "Epoch 190/500\n",
      "2/2 [==============================] - 0s 4ms/step - loss: 10.2078 - mae: 10.2078\n",
      "Epoch 191/500\n",
      "2/2 [==============================] - 0s 4ms/step - loss: 8.9317 - mae: 8.9317\n",
      "Epoch 192/500\n",
      "2/2 [==============================] - 0s 4ms/step - loss: 30.3666 - mae: 30.3666\n",
      "Epoch 193/500\n",
      "2/2 [==============================] - 0s 5ms/step - loss: 8.8758 - mae: 8.8758\n",
      "Epoch 194/500\n",
      "2/2 [==============================] - 0s 4ms/step - loss: 17.8981 - mae: 17.8981\n",
      "Epoch 195/500\n",
      "2/2 [==============================] - 0s 5ms/step - loss: 9.3717 - mae: 9.3717\n",
      "Epoch 196/500\n",
      "2/2 [==============================] - 0s 3ms/step - loss: 12.0056 - mae: 12.0056\n",
      "Epoch 197/500\n",
      "2/2 [==============================] - 0s 5ms/step - loss: 15.7406 - mae: 15.7406\n",
      "Epoch 198/500\n",
      "2/2 [==============================] - 0s 3ms/step - loss: 11.4853 - mae: 11.4853\n",
      "Epoch 199/500\n",
      "2/2 [==============================] - 0s 6ms/step - loss: 15.4347 - mae: 15.4347\n",
      "Epoch 200/500\n",
      "2/2 [==============================] - 0s 3ms/step - loss: 19.3621 - mae: 19.3621\n",
      "Epoch 201/500\n",
      "2/2 [==============================] - 0s 5ms/step - loss: 11.3052 - mae: 11.3052\n",
      "Epoch 202/500\n",
      "2/2 [==============================] - 0s 4ms/step - loss: 12.2610 - mae: 12.2610\n",
      "Epoch 203/500\n",
      "2/2 [==============================] - 0s 5ms/step - loss: 18.5626 - mae: 18.5626\n",
      "Epoch 204/500\n",
      "2/2 [==============================] - 0s 3ms/step - loss: 11.2747 - mae: 11.2747\n",
      "Epoch 205/500\n",
      "2/2 [==============================] - 0s 5ms/step - loss: 14.8406 - mae: 14.8406\n",
      "Epoch 206/500\n",
      "2/2 [==============================] - 0s 4ms/step - loss: 5.6168 - mae: 5.6168\n",
      "Epoch 207/500\n",
      "2/2 [==============================] - 0s 5ms/step - loss: 15.5997 - mae: 15.5997\n",
      "Epoch 208/500\n",
      "2/2 [==============================] - 0s 2ms/step - loss: 25.2293 - mae: 25.2293\n",
      "Epoch 209/500\n",
      "2/2 [==============================] - 0s 5ms/step - loss: 14.7529 - mae: 14.7529\n",
      "Epoch 210/500\n",
      "2/2 [==============================] - 0s 4ms/step - loss: 11.6476 - mae: 11.6476\n",
      "Epoch 211/500\n",
      "2/2 [==============================] - 0s 7ms/step - loss: 14.9569 - mae: 14.9569\n",
      "Epoch 212/500\n",
      "2/2 [==============================] - 0s 4ms/step - loss: 24.6556 - mae: 24.6556\n",
      "Epoch 213/500\n",
      "2/2 [==============================] - 0s 5ms/step - loss: 7.9461 - mae: 7.9461\n",
      "Epoch 214/500\n",
      "2/2 [==============================] - 0s 4ms/step - loss: 20.5102 - mae: 20.5102\n",
      "Epoch 215/500\n",
      "2/2 [==============================] - 0s 5ms/step - loss: 10.6166 - mae: 10.6166\n",
      "Epoch 216/500\n",
      "2/2 [==============================] - 0s 5ms/step - loss: 21.8189 - mae: 21.8189\n",
      "Epoch 217/500\n",
      "2/2 [==============================] - 0s 4ms/step - loss: 7.8817 - mae: 7.8817\n",
      "Epoch 218/500\n",
      "2/2 [==============================] - 0s 6ms/step - loss: 30.3623 - mae: 30.3623\n",
      "Epoch 219/500\n",
      "2/2 [==============================] - 0s 4ms/step - loss: 21.8748 - mae: 21.8748\n",
      "Epoch 220/500\n",
      "2/2 [==============================] - 0s 6ms/step - loss: 8.6420 - mae: 8.6420\n",
      "Epoch 221/500\n",
      "2/2 [==============================] - 0s 3ms/step - loss: 21.5666 - mae: 21.5666\n",
      "Epoch 222/500\n",
      "2/2 [==============================] - 0s 5ms/step - loss: 7.5888 - mae: 7.5888\n",
      "Epoch 223/500\n",
      "2/2 [==============================] - 0s 3ms/step - loss: 10.6768 - mae: 10.6768\n",
      "Epoch 224/500\n",
      "2/2 [==============================] - 0s 6ms/step - loss: 24.6868 - mae: 24.6868\n",
      "Epoch 225/500\n",
      "2/2 [==============================] - 0s 4ms/step - loss: 10.6509 - mae: 10.6509\n",
      "Epoch 226/500\n",
      "2/2 [==============================] - 0s 4ms/step - loss: 9.7593 - mae: 9.7593\n",
      "Epoch 227/500\n",
      "2/2 [==============================] - 0s 3ms/step - loss: 21.1398 - mae: 21.1398\n",
      "Epoch 228/500\n",
      "2/2 [==============================] - 0s 5ms/step - loss: 10.0890 - mae: 10.0890\n",
      "Epoch 229/500\n",
      "2/2 [==============================] - 0s 4ms/step - loss: 20.2576 - mae: 20.2576\n",
      "Epoch 230/500\n",
      "2/2 [==============================] - 0s 4ms/step - loss: 12.0823 - mae: 12.0823\n",
      "Epoch 231/500\n",
      "2/2 [==============================] - 0s 3ms/step - loss: 11.7738 - mae: 11.7738\n",
      "Epoch 232/500\n",
      "2/2 [==============================] - 0s 4ms/step - loss: 10.0527 - mae: 10.0527\n",
      "Epoch 233/500\n",
      "2/2 [==============================] - 0s 3ms/step - loss: 14.6855 - mae: 14.6855\n",
      "Epoch 234/500\n",
      "2/2 [==============================] - 0s 5ms/step - loss: 22.6804 - mae: 22.6804\n",
      "Epoch 235/500\n",
      "2/2 [==============================] - 0s 21ms/step - loss: 27.3049 - mae: 27.3049\n",
      "Epoch 236/500\n",
      "2/2 [==============================] - 0s 6ms/step - loss: 12.3241 - mae: 12.3241\n",
      "Epoch 237/500\n",
      "2/2 [==============================] - 0s 6ms/step - loss: 14.9594 - mae: 14.9594\n",
      "Epoch 238/500\n",
      "2/2 [==============================] - 0s 4ms/step - loss: 8.4778 - mae: 8.4778\n",
      "Epoch 239/500\n",
      "2/2 [==============================] - 0s 5ms/step - loss: 15.5857 - mae: 15.5857\n",
      "Epoch 240/500\n",
      "2/2 [==============================] - 0s 3ms/step - loss: 19.1660 - mae: 19.1660\n",
      "Epoch 241/500\n",
      "2/2 [==============================] - 0s 4ms/step - loss: 17.1697 - mae: 17.1697\n",
      "Epoch 242/500\n",
      "2/2 [==============================] - 0s 3ms/step - loss: 11.1600 - mae: 11.1600\n",
      "Epoch 243/500\n",
      "2/2 [==============================] - 0s 5ms/step - loss: 14.7310 - mae: 14.7310\n",
      "Epoch 244/500\n",
      "2/2 [==============================] - 0s 5ms/step - loss: 20.1178 - mae: 20.1178\n",
      "Epoch 245/500\n",
      "2/2 [==============================] - 0s 3ms/step - loss: 9.9797 - mae: 9.9797\n",
      "Epoch 246/500\n",
      "2/2 [==============================] - 0s 4ms/step - loss: 28.0010 - mae: 28.0010\n",
      "Epoch 247/500\n",
      "2/2 [==============================] - 0s 5ms/step - loss: 10.5268 - mae: 10.5268\n",
      "Epoch 248/500\n",
      "2/2 [==============================] - 0s 6ms/step - loss: 18.3512 - mae: 18.3512\n",
      "Epoch 249/500\n",
      "2/2 [==============================] - 0s 4ms/step - loss: 19.9866 - mae: 19.9866\n",
      "Epoch 250/500\n",
      "2/2 [==============================] - 0s 5ms/step - loss: 11.5534 - mae: 11.5534\n",
      "Epoch 251/500\n",
      "2/2 [==============================] - 0s 3ms/step - loss: 14.8363 - mae: 14.8363\n",
      "Epoch 252/500\n",
      "2/2 [==============================] - 0s 5ms/step - loss: 16.3154 - mae: 16.3154\n",
      "Epoch 253/500\n",
      "2/2 [==============================] - 0s 4ms/step - loss: 20.3755 - mae: 20.3755\n",
      "Epoch 254/500\n",
      "2/2 [==============================] - 0s 4ms/step - loss: 7.2273 - mae: 7.2273\n",
      "Epoch 255/500\n",
      "2/2 [==============================] - 0s 4ms/step - loss: 8.0338 - mae: 8.0338\n",
      "Epoch 256/500\n",
      "2/2 [==============================] - 0s 4ms/step - loss: 13.5964 - mae: 13.5964\n",
      "Epoch 257/500\n",
      "2/2 [==============================] - 0s 3ms/step - loss: 8.5931 - mae: 8.5931\n",
      "Epoch 258/500\n",
      "2/2 [==============================] - 0s 4ms/step - loss: 26.4455 - mae: 26.4455\n",
      "Epoch 259/500\n",
      "2/2 [==============================] - 0s 4ms/step - loss: 12.4114 - mae: 12.4114\n",
      "Epoch 260/500\n",
      "2/2 [==============================] - 0s 6ms/step - loss: 6.5215 - mae: 6.5215\n",
      "Epoch 261/500\n",
      "2/2 [==============================] - 0s 4ms/step - loss: 34.1722 - mae: 34.1722\n",
      "Epoch 262/500\n",
      "2/2 [==============================] - 0s 5ms/step - loss: 7.9842 - mae: 7.9842\n",
      "Epoch 263/500\n",
      "2/2 [==============================] - 0s 3ms/step - loss: 8.0627 - mae: 8.0627\n",
      "Epoch 264/500\n",
      "2/2 [==============================] - 0s 5ms/step - loss: 7.0044 - mae: 7.0044\n",
      "Epoch 265/500\n",
      "2/2 [==============================] - 0s 8ms/step - loss: 15.0531 - mae: 15.0531\n",
      "Epoch 266/500\n",
      "2/2 [==============================] - 0s 3ms/step - loss: 12.5581 - mae: 12.5581\n",
      "Epoch 267/500\n",
      "2/2 [==============================] - 0s 4ms/step - loss: 21.0755 - mae: 21.0755\n",
      "Epoch 268/500\n",
      "2/2 [==============================] - 0s 10ms/step - loss: 23.9623 - mae: 23.9623\n",
      "Epoch 269/500\n",
      "2/2 [==============================] - 0s 4ms/step - loss: 7.7184 - mae: 7.7184\n",
      "Epoch 270/500\n",
      "2/2 [==============================] - 0s 3ms/step - loss: 28.3066 - mae: 28.3066\n",
      "Epoch 271/500\n",
      "2/2 [==============================] - 0s 4ms/step - loss: 7.5395 - mae: 7.5395\n",
      "Epoch 272/500\n",
      "2/2 [==============================] - 0s 5ms/step - loss: 22.9081 - mae: 22.9081\n",
      "Epoch 273/500\n",
      "2/2 [==============================] - 0s 4ms/step - loss: 15.0548 - mae: 15.0548\n",
      "Epoch 274/500\n",
      "2/2 [==============================] - 0s 4ms/step - loss: 7.6669 - mae: 7.6669\n",
      "Epoch 275/500\n",
      "2/2 [==============================] - 0s 3ms/step - loss: 8.3895 - mae: 8.3895\n",
      "Epoch 276/500\n",
      "2/2 [==============================] - 0s 6ms/step - loss: 13.8532 - mae: 13.8532\n",
      "Epoch 277/500\n",
      "2/2 [==============================] - 0s 3ms/step - loss: 9.1455 - mae: 9.1455\n",
      "Epoch 278/500\n",
      "2/2 [==============================] - 0s 4ms/step - loss: 28.6434 - mae: 28.6434\n",
      "Epoch 279/500\n",
      "2/2 [==============================] - 0s 4ms/step - loss: 9.8292 - mae: 9.8292\n",
      "Epoch 280/500\n",
      "2/2 [==============================] - 0s 5ms/step - loss: 17.9703 - mae: 17.9703\n",
      "Epoch 281/500\n",
      "2/2 [==============================] - 0s 3ms/step - loss: 23.3206 - mae: 23.3206\n",
      "Epoch 282/500\n",
      "2/2 [==============================] - 0s 4ms/step - loss: 9.3977 - mae: 9.3977\n",
      "Epoch 283/500\n",
      "2/2 [==============================] - 0s 3ms/step - loss: 16.5600 - mae: 16.5600\n",
      "Epoch 284/500\n",
      "2/2 [==============================] - 0s 5ms/step - loss: 8.4340 - mae: 8.4340\n",
      "Epoch 285/500\n",
      "2/2 [==============================] - 0s 4ms/step - loss: 24.8507 - mae: 24.8507\n",
      "Epoch 286/500\n",
      "2/2 [==============================] - 0s 5ms/step - loss: 19.3032 - mae: 19.3032\n",
      "Epoch 287/500\n",
      "2/2 [==============================] - 0s 4ms/step - loss: 11.5895 - mae: 11.5895\n",
      "Epoch 288/500\n",
      "2/2 [==============================] - 0s 22ms/step - loss: 7.6774 - mae: 7.6774\n",
      "Epoch 289/500\n",
      "2/2 [==============================] - 0s 5ms/step - loss: 17.3963 - mae: 17.3963\n",
      "Epoch 290/500\n",
      "2/2 [==============================] - 0s 5ms/step - loss: 9.7478 - mae: 9.7478\n",
      "Epoch 291/500\n",
      "2/2 [==============================] - 0s 4ms/step - loss: 6.5587 - mae: 6.5587\n",
      "Epoch 292/500\n",
      "2/2 [==============================] - 0s 5ms/step - loss: 33.1435 - mae: 33.1435\n",
      "Epoch 293/500\n",
      "2/2 [==============================] - 0s 5ms/step - loss: 30.4971 - mae: 30.4971\n",
      "Epoch 294/500\n",
      "2/2 [==============================] - 0s 6ms/step - loss: 7.3663 - mae: 7.3663\n",
      "Epoch 295/500\n",
      "2/2 [==============================] - 0s 3ms/step - loss: 10.2702 - mae: 10.2702\n",
      "Epoch 296/500\n",
      "2/2 [==============================] - 0s 6ms/step - loss: 17.4972 - mae: 17.4972\n",
      "Epoch 297/500\n",
      "2/2 [==============================] - 0s 5ms/step - loss: 13.0473 - mae: 13.0473\n",
      "Epoch 298/500\n",
      "2/2 [==============================] - 0s 4ms/step - loss: 15.4351 - mae: 15.4351\n",
      "Epoch 299/500\n",
      "2/2 [==============================] - 0s 5ms/step - loss: 15.9181 - mae: 15.9181\n",
      "Epoch 300/500\n",
      "2/2 [==============================] - 0s 4ms/step - loss: 14.2388 - mae: 14.2388\n",
      "Epoch 301/500\n",
      "2/2 [==============================] - 0s 6ms/step - loss: 25.1898 - mae: 25.1898\n",
      "Epoch 302/500\n",
      "2/2 [==============================] - 0s 3ms/step - loss: 12.2525 - mae: 12.2525\n",
      "Epoch 303/500\n",
      "2/2 [==============================] - 0s 5ms/step - loss: 14.3505 - mae: 14.3505\n",
      "Epoch 304/500\n",
      "2/2 [==============================] - 0s 4ms/step - loss: 20.5662 - mae: 20.5662\n",
      "Epoch 305/500\n",
      "2/2 [==============================] - 0s 6ms/step - loss: 28.7955 - mae: 28.7955\n",
      "Epoch 306/500\n",
      "2/2 [==============================] - 0s 3ms/step - loss: 7.5511 - mae: 7.5511\n",
      "Epoch 307/500\n",
      "2/2 [==============================] - 0s 5ms/step - loss: 18.2303 - mae: 18.2303\n",
      "Epoch 308/500\n",
      "2/2 [==============================] - 0s 3ms/step - loss: 10.8319 - mae: 10.8319\n",
      "Epoch 309/500\n",
      "2/2 [==============================] - 0s 5ms/step - loss: 16.3905 - mae: 16.3905\n",
      "Epoch 310/500\n",
      "2/2 [==============================] - 0s 3ms/step - loss: 21.2843 - mae: 21.2843\n",
      "Epoch 311/500\n",
      "2/2 [==============================] - 0s 5ms/step - loss: 13.7184 - mae: 13.7184\n",
      "Epoch 312/500\n",
      "2/2 [==============================] - 0s 4ms/step - loss: 16.5808 - mae: 16.5808\n",
      "Epoch 313/500\n",
      "2/2 [==============================] - 0s 3ms/step - loss: 10.8343 - mae: 10.8343\n",
      "Epoch 314/500\n",
      "2/2 [==============================] - 0s 5ms/step - loss: 12.3260 - mae: 12.3260\n",
      "Epoch 315/500\n",
      "2/2 [==============================] - 0s 4ms/step - loss: 15.4239 - mae: 15.4239\n",
      "Epoch 316/500\n",
      "2/2 [==============================] - 0s 5ms/step - loss: 19.1948 - mae: 19.1948\n",
      "Epoch 317/500\n",
      "2/2 [==============================] - 0s 4ms/step - loss: 32.2161 - mae: 32.2161\n",
      "Epoch 318/500\n",
      "2/2 [==============================] - 0s 4ms/step - loss: 31.8182 - mae: 31.8182\n",
      "Epoch 319/500\n",
      "2/2 [==============================] - 0s 3ms/step - loss: 8.1384 - mae: 8.1384\n",
      "Epoch 320/500\n",
      "2/2 [==============================] - 0s 4ms/step - loss: 27.4521 - mae: 27.4521\n",
      "Epoch 321/500\n",
      "2/2 [==============================] - 0s 3ms/step - loss: 22.8391 - mae: 22.8391\n",
      "Epoch 322/500\n",
      "2/2 [==============================] - 0s 6ms/step - loss: 15.8023 - mae: 15.8023\n",
      "Epoch 323/500\n",
      "2/2 [==============================] - 0s 5ms/step - loss: 14.2171 - mae: 14.2171\n",
      "Epoch 324/500\n",
      "2/2 [==============================] - 0s 3ms/step - loss: 19.5673 - mae: 19.5673\n",
      "Epoch 325/500\n",
      "2/2 [==============================] - 0s 3ms/step - loss: 25.9870 - mae: 25.9870\n",
      "Epoch 326/500\n",
      "2/2 [==============================] - 0s 4ms/step - loss: 10.2735 - mae: 10.2735\n",
      "Epoch 327/500\n",
      "2/2 [==============================] - 0s 3ms/step - loss: 30.0811 - mae: 30.0811\n",
      "Epoch 328/500\n",
      "2/2 [==============================] - 0s 4ms/step - loss: 6.8184 - mae: 6.8184\n",
      "Epoch 329/500\n",
      "2/2 [==============================] - 0s 3ms/step - loss: 14.9357 - mae: 14.9357\n",
      "Epoch 330/500\n",
      "2/2 [==============================] - 0s 5ms/step - loss: 21.5779 - mae: 21.5779\n",
      "Epoch 331/500\n",
      "2/2 [==============================] - 0s 9ms/step - loss: 17.3319 - mae: 17.3319\n",
      "Epoch 332/500\n",
      "2/2 [==============================] - 0s 6ms/step - loss: 10.8855 - mae: 10.8855\n",
      "Epoch 333/500\n",
      "2/2 [==============================] - 0s 3ms/step - loss: 7.0318 - mae: 7.0318\n",
      "Epoch 334/500\n",
      "2/2 [==============================] - 0s 4ms/step - loss: 5.9470 - mae: 5.9470\n",
      "Epoch 335/500\n",
      "2/2 [==============================] - 0s 4ms/step - loss: 20.5223 - mae: 20.5223\n",
      "Epoch 336/500\n",
      "2/2 [==============================] - 0s 3ms/step - loss: 9.0627 - mae: 9.0627\n",
      "Epoch 337/500\n",
      "2/2 [==============================] - 0s 3ms/step - loss: 14.7586 - mae: 14.7586\n",
      "Epoch 338/500\n",
      "2/2 [==============================] - 0s 4ms/step - loss: 21.6788 - mae: 21.6788\n",
      "Epoch 339/500\n",
      "2/2 [==============================] - 0s 3ms/step - loss: 12.8920 - mae: 12.8920\n",
      "Epoch 340/500\n",
      "2/2 [==============================] - 0s 3ms/step - loss: 11.1349 - mae: 11.1349\n",
      "Epoch 341/500\n",
      "2/2 [==============================] - 0s 3ms/step - loss: 22.2585 - mae: 22.2585\n",
      "Epoch 342/500\n",
      "2/2 [==============================] - 0s 3ms/step - loss: 24.8287 - mae: 24.8287\n",
      "Epoch 343/500\n",
      "2/2 [==============================] - 0s 4ms/step - loss: 12.1846 - mae: 12.1846\n",
      "Epoch 344/500\n",
      "2/2 [==============================] - 0s 3ms/step - loss: 17.8764 - mae: 17.8764\n",
      "Epoch 345/500\n",
      "2/2 [==============================] - 0s 3ms/step - loss: 26.0721 - mae: 26.0721\n",
      "Epoch 346/500\n",
      "2/2 [==============================] - 0s 5ms/step - loss: 9.3916 - mae: 9.3916\n",
      "Epoch 347/500\n",
      "2/2 [==============================] - 0s 3ms/step - loss: 18.7116 - mae: 18.7116\n",
      "Epoch 348/500\n",
      "2/2 [==============================] - 0s 5ms/step - loss: 10.9349 - mae: 10.9349\n",
      "Epoch 349/500\n",
      "2/2 [==============================] - 0s 3ms/step - loss: 18.6133 - mae: 18.6133\n",
      "Epoch 350/500\n",
      "2/2 [==============================] - 0s 2ms/step - loss: 28.3063 - mae: 28.3063\n",
      "Epoch 351/500\n",
      "2/2 [==============================] - 0s 3ms/step - loss: 15.9854 - mae: 15.9854\n",
      "Epoch 352/500\n",
      "2/2 [==============================] - 0s 3ms/step - loss: 23.9577 - mae: 23.9577\n",
      "Epoch 353/500\n",
      "2/2 [==============================] - 0s 4ms/step - loss: 22.8273 - mae: 22.8273\n",
      "Epoch 354/500\n",
      "2/2 [==============================] - 0s 3ms/step - loss: 6.9674 - mae: 6.9674\n",
      "Epoch 355/500\n",
      "2/2 [==============================] - 0s 2ms/step - loss: 24.0227 - mae: 24.0227\n",
      "Epoch 356/500\n",
      "2/2 [==============================] - 0s 4ms/step - loss: 9.1300 - mae: 9.1300\n",
      "Epoch 357/500\n",
      "2/2 [==============================] - 0s 3ms/step - loss: 8.0208 - mae: 8.0208\n",
      "Epoch 358/500\n",
      "2/2 [==============================] - 0s 3ms/step - loss: 22.4393 - mae: 22.4393\n",
      "Epoch 359/500\n",
      "2/2 [==============================] - 0s 4ms/step - loss: 9.2354 - mae: 9.2354\n",
      "Epoch 360/500\n",
      "2/2 [==============================] - 0s 3ms/step - loss: 28.9904 - mae: 28.9904\n",
      "Epoch 361/500\n",
      "2/2 [==============================] - 0s 4ms/step - loss: 8.7582 - mae: 8.7582\n",
      "Epoch 362/500\n",
      "2/2 [==============================] - 0s 3ms/step - loss: 14.3687 - mae: 14.3687\n",
      "Epoch 363/500\n",
      "2/2 [==============================] - 0s 3ms/step - loss: 10.4173 - mae: 10.4173\n",
      "Epoch 364/500\n",
      "2/2 [==============================] - 0s 3ms/step - loss: 13.9007 - mae: 13.9007\n",
      "Epoch 365/500\n",
      "2/2 [==============================] - 0s 3ms/step - loss: 13.7271 - mae: 13.7271\n",
      "Epoch 366/500\n",
      "2/2 [==============================] - 0s 4ms/step - loss: 21.6989 - mae: 21.6989\n",
      "Epoch 367/500\n",
      "2/2 [==============================] - 0s 3ms/step - loss: 25.5089 - mae: 25.5089\n",
      "Epoch 368/500\n",
      "2/2 [==============================] - 0s 3ms/step - loss: 6.2743 - mae: 6.2743\n",
      "Epoch 369/500\n",
      "2/2 [==============================] - 0s 3ms/step - loss: 14.0534 - mae: 14.0534\n",
      "Epoch 370/500\n",
      "2/2 [==============================] - 0s 2ms/step - loss: 6.0691 - mae: 6.0691\n",
      "Epoch 371/500\n",
      "2/2 [==============================] - 0s 4ms/step - loss: 16.3539 - mae: 16.3539\n",
      "Epoch 372/500\n",
      "2/2 [==============================] - 0s 3ms/step - loss: 7.0980 - mae: 7.0980\n",
      "Epoch 373/500\n",
      "2/2 [==============================] - 0s 2ms/step - loss: 24.9321 - mae: 24.9321\n",
      "Epoch 374/500\n",
      "2/2 [==============================] - 0s 3ms/step - loss: 5.0220 - mae: 5.0220\n",
      "Epoch 375/500\n",
      "2/2 [==============================] - 0s 2ms/step - loss: 16.1173 - mae: 16.1173\n",
      "Epoch 376/500\n",
      "2/2 [==============================] - 0s 3ms/step - loss: 8.1118 - mae: 8.1118\n",
      "Epoch 377/500\n",
      "2/2 [==============================] - 0s 3ms/step - loss: 14.2791 - mae: 14.2791\n",
      "Epoch 378/500\n",
      "2/2 [==============================] - 0s 3ms/step - loss: 29.9993 - mae: 29.9993\n",
      "Epoch 379/500\n",
      "2/2 [==============================] - 0s 3ms/step - loss: 8.6769 - mae: 8.6769\n",
      "Epoch 380/500\n",
      "2/2 [==============================] - 0s 4ms/step - loss: 7.8466 - mae: 7.8466\n",
      "Epoch 381/500\n",
      "2/2 [==============================] - 0s 3ms/step - loss: 6.3229 - mae: 6.3229\n",
      "Epoch 382/500\n",
      "2/2 [==============================] - 0s 3ms/step - loss: 24.9944 - mae: 24.9944\n",
      "Epoch 383/500\n",
      "2/2 [==============================] - 0s 4ms/step - loss: 6.9762 - mae: 6.9762\n",
      "Epoch 384/500\n",
      "2/2 [==============================] - 0s 3ms/step - loss: 29.4192 - mae: 29.4192\n",
      "Epoch 385/500\n",
      "2/2 [==============================] - 0s 3ms/step - loss: 11.3667 - mae: 11.3667\n",
      "Epoch 386/500\n",
      "2/2 [==============================] - 0s 5ms/step - loss: 11.0419 - mae: 11.0419\n",
      "Epoch 387/500\n",
      "2/2 [==============================] - 0s 4ms/step - loss: 25.8596 - mae: 25.8596\n",
      "Epoch 388/500\n",
      "2/2 [==============================] - 0s 3ms/step - loss: 18.5050 - mae: 18.5050\n",
      "Epoch 389/500\n",
      "2/2 [==============================] - 0s 3ms/step - loss: 6.5295 - mae: 6.5295\n",
      "Epoch 390/500\n",
      "2/2 [==============================] - 0s 4ms/step - loss: 27.8703 - mae: 27.8703\n",
      "Epoch 391/500\n",
      "2/2 [==============================] - 0s 2ms/step - loss: 6.4483 - mae: 6.4483\n",
      "Epoch 392/500\n",
      "2/2 [==============================] - 0s 4ms/step - loss: 14.1753 - mae: 14.1753\n",
      "Epoch 393/500\n",
      "2/2 [==============================] - 0s 3ms/step - loss: 14.3090 - mae: 14.3090\n",
      "Epoch 394/500\n",
      "2/2 [==============================] - 0s 3ms/step - loss: 33.0145 - mae: 33.0145\n",
      "Epoch 395/500\n",
      "2/2 [==============================] - 0s 4ms/step - loss: 13.9520 - mae: 13.9520\n",
      "Epoch 396/500\n",
      "2/2 [==============================] - 0s 11ms/step - loss: 14.7222 - mae: 14.7222\n",
      "Epoch 397/500\n",
      "2/2 [==============================] - 0s 4ms/step - loss: 17.1309 - mae: 17.1309\n",
      "Epoch 398/500\n",
      "2/2 [==============================] - 0s 5ms/step - loss: 10.4587 - mae: 10.4587\n",
      "Epoch 399/500\n",
      "2/2 [==============================] - 0s 3ms/step - loss: 27.8580 - mae: 27.8580\n",
      "Epoch 400/500\n",
      "2/2 [==============================] - 0s 3ms/step - loss: 6.3510 - mae: 6.3510\n",
      "Epoch 401/500\n",
      "2/2 [==============================] - 0s 3ms/step - loss: 8.4064 - mae: 8.4064\n",
      "Epoch 402/500\n",
      "2/2 [==============================] - 0s 3ms/step - loss: 28.4506 - mae: 28.4506\n",
      "Epoch 403/500\n",
      "2/2 [==============================] - 0s 4ms/step - loss: 6.1451 - mae: 6.1451\n",
      "Epoch 404/500\n",
      "2/2 [==============================] - 0s 4ms/step - loss: 28.6769 - mae: 28.6769\n",
      "Epoch 405/500\n",
      "2/2 [==============================] - 0s 3ms/step - loss: 11.3137 - mae: 11.3137\n",
      "Epoch 406/500\n",
      "2/2 [==============================] - 0s 4ms/step - loss: 10.3444 - mae: 10.3444\n",
      "Epoch 407/500\n",
      "2/2 [==============================] - 0s 3ms/step - loss: 13.1709 - mae: 13.1709\n",
      "Epoch 408/500\n",
      "2/2 [==============================] - 0s 3ms/step - loss: 25.2669 - mae: 25.2669\n",
      "Epoch 409/500\n",
      "2/2 [==============================] - 0s 4ms/step - loss: 9.4103 - mae: 9.4103\n",
      "Epoch 410/500\n",
      "2/2 [==============================] - 0s 3ms/step - loss: 11.6277 - mae: 11.6277\n",
      "Epoch 411/500\n",
      "2/2 [==============================] - 0s 3ms/step - loss: 12.3701 - mae: 12.3701\n",
      "Epoch 412/500\n",
      "2/2 [==============================] - 0s 2ms/step - loss: 26.0186 - mae: 26.0186\n",
      "Epoch 413/500\n",
      "2/2 [==============================] - 0s 3ms/step - loss: 14.8308 - mae: 14.8308\n",
      "Epoch 414/500\n",
      "2/2 [==============================] - 0s 3ms/step - loss: 10.9400 - mae: 10.9400\n",
      "Epoch 415/500\n",
      "2/2 [==============================] - 0s 3ms/step - loss: 25.0797 - mae: 25.0797\n",
      "Epoch 416/500\n",
      "2/2 [==============================] - 0s 4ms/step - loss: 15.7733 - mae: 15.7733\n",
      "Epoch 417/500\n",
      "2/2 [==============================] - 0s 3ms/step - loss: 12.4877 - mae: 12.4877\n",
      "Epoch 418/500\n",
      "2/2 [==============================] - 0s 2ms/step - loss: 25.3523 - mae: 25.3523\n",
      "Epoch 419/500\n",
      "2/2 [==============================] - 0s 4ms/step - loss: 13.2312 - mae: 13.2312\n",
      "Epoch 420/500\n",
      "2/2 [==============================] - 0s 2ms/step - loss: 11.8566 - mae: 11.8566\n",
      "Epoch 421/500\n",
      "2/2 [==============================] - 0s 2ms/step - loss: 27.3324 - mae: 27.3324\n",
      "Epoch 422/500\n",
      "2/2 [==============================] - 0s 4ms/step - loss: 10.1283 - mae: 10.1283\n",
      "Epoch 423/500\n",
      "2/2 [==============================] - 0s 2ms/step - loss: 8.8563 - mae: 8.8563\n",
      "Epoch 424/500\n",
      "2/2 [==============================] - 0s 2ms/step - loss: 12.8079 - mae: 12.8079\n",
      "Epoch 425/500\n",
      "2/2 [==============================] - 0s 3ms/step - loss: 27.9607 - mae: 27.9607\n",
      "Epoch 426/500\n",
      "2/2 [==============================] - 0s 3ms/step - loss: 9.6607 - mae: 9.6607\n",
      "Epoch 427/500\n",
      "2/2 [==============================] - 0s 3ms/step - loss: 6.5252 - mae: 6.5252\n",
      "Epoch 428/500\n",
      "2/2 [==============================] - 0s 3ms/step - loss: 29.9245 - mae: 29.9245\n",
      "Epoch 429/500\n",
      "2/2 [==============================] - 0s 2ms/step - loss: 10.0238 - mae: 10.0238\n",
      "Epoch 430/500\n",
      "2/2 [==============================] - 0s 4ms/step - loss: 10.1306 - mae: 10.1306\n",
      "Epoch 431/500\n",
      "2/2 [==============================] - 0s 3ms/step - loss: 13.0135 - mae: 13.0135\n",
      "Epoch 432/500\n",
      "2/2 [==============================] - 0s 5ms/step - loss: 15.1656 - mae: 15.1656\n",
      "Epoch 433/500\n",
      "2/2 [==============================] - 0s 3ms/step - loss: 20.0588 - mae: 20.0588\n",
      "Epoch 434/500\n",
      "2/2 [==============================] - 0s 3ms/step - loss: 32.6664 - mae: 32.6664\n",
      "Epoch 435/500\n",
      "2/2 [==============================] - 0s 6ms/step - loss: 29.7988 - mae: 29.7988\n",
      "Epoch 436/500\n",
      "2/2 [==============================] - 0s 3ms/step - loss: 15.0236 - mae: 15.0236\n",
      "Epoch 437/500\n",
      "2/2 [==============================] - 0s 3ms/step - loss: 6.2340 - mae: 6.2340\n",
      "Epoch 438/500\n",
      "2/2 [==============================] - 0s 3ms/step - loss: 6.3615 - mae: 6.3615\n",
      "Epoch 439/500\n",
      "2/2 [==============================] - 0s 3ms/step - loss: 10.2019 - mae: 10.2019\n",
      "Epoch 440/500\n",
      "2/2 [==============================] - 0s 4ms/step - loss: 7.7323 - mae: 7.7323\n",
      "Epoch 441/500\n",
      "2/2 [==============================] - 0s 3ms/step - loss: 22.2467 - mae: 22.2467\n",
      "Epoch 442/500\n",
      "2/2 [==============================] - 0s 3ms/step - loss: 11.3595 - mae: 11.3595\n",
      "Epoch 443/500\n",
      "2/2 [==============================] - 0s 4ms/step - loss: 11.9742 - mae: 11.9742\n",
      "Epoch 444/500\n",
      "2/2 [==============================] - 0s 2ms/step - loss: 14.6982 - mae: 14.6982\n",
      "Epoch 445/500\n",
      "2/2 [==============================] - 0s 2ms/step - loss: 16.7547 - mae: 16.7547\n",
      "Epoch 446/500\n",
      "2/2 [==============================] - 0s 3ms/step - loss: 14.3062 - mae: 14.3062\n",
      "Epoch 447/500\n",
      "2/2 [==============================] - 0s 3ms/step - loss: 16.1732 - mae: 16.1732\n",
      "Epoch 448/500\n",
      "2/2 [==============================] - 0s 2ms/step - loss: 28.8868 - mae: 28.8868\n",
      "Epoch 449/500\n",
      "2/2 [==============================] - 0s 3ms/step - loss: 6.3912 - mae: 6.3912\n",
      "Epoch 450/500\n",
      "2/2 [==============================] - 0s 2ms/step - loss: 16.9675 - mae: 16.9675\n",
      "Epoch 451/500\n",
      "2/2 [==============================] - 0s 4ms/step - loss: 6.7072 - mae: 6.7072\n",
      "Epoch 452/500\n",
      "2/2 [==============================] - 0s 3ms/step - loss: 4.6133 - mae: 4.6133\n",
      "Epoch 453/500\n",
      "2/2 [==============================] - 0s 3ms/step - loss: 29.7499 - mae: 29.7499\n",
      "Epoch 454/500\n",
      "2/2 [==============================] - 0s 4ms/step - loss: 7.4698 - mae: 7.4698\n",
      "Epoch 455/500\n",
      "2/2 [==============================] - 0s 5ms/step - loss: 8.9090 - mae: 8.9090\n",
      "Epoch 456/500\n",
      "2/2 [==============================] - 0s 5ms/step - loss: 14.7628 - mae: 14.7628\n",
      "Epoch 457/500\n",
      "2/2 [==============================] - 0s 3ms/step - loss: 9.4446 - mae: 9.4446\n",
      "Epoch 458/500\n",
      "2/2 [==============================] - 0s 6ms/step - loss: 14.6318 - mae: 14.6318\n",
      "Epoch 459/500\n",
      "2/2 [==============================] - 0s 4ms/step - loss: 17.2712 - mae: 17.2712\n",
      "Epoch 460/500\n",
      "2/2 [==============================] - 0s 4ms/step - loss: 18.2558 - mae: 18.2558\n",
      "Epoch 461/500\n",
      "2/2 [==============================] - 0s 3ms/step - loss: 14.3205 - mae: 14.3205\n",
      "Epoch 462/500\n",
      "2/2 [==============================] - 0s 3ms/step - loss: 15.9485 - mae: 15.9485\n",
      "Epoch 463/500\n",
      "2/2 [==============================] - 0s 4ms/step - loss: 20.3973 - mae: 20.3973\n",
      "Epoch 464/500\n",
      "2/2 [==============================] - 0s 3ms/step - loss: 23.9424 - mae: 23.9424\n",
      "Epoch 465/500\n",
      "2/2 [==============================] - 0s 4ms/step - loss: 16.5095 - mae: 16.5095\n",
      "Epoch 466/500\n",
      "2/2 [==============================] - 0s 3ms/step - loss: 10.9136 - mae: 10.9136\n",
      "Epoch 467/500\n",
      "2/2 [==============================] - 0s 3ms/step - loss: 12.1241 - mae: 12.1241\n",
      "Epoch 468/500\n",
      "2/2 [==============================] - 0s 3ms/step - loss: 7.9350 - mae: 7.9350\n",
      "Epoch 469/500\n",
      "2/2 [==============================] - 0s 3ms/step - loss: 7.3922 - mae: 7.3922\n",
      "Epoch 470/500\n",
      "2/2 [==============================] - 0s 4ms/step - loss: 30.3770 - mae: 30.3770\n",
      "Epoch 471/500\n",
      "2/2 [==============================] - 0s 2ms/step - loss: 5.9108 - mae: 5.9108\n",
      "Epoch 472/500\n",
      "2/2 [==============================] - 0s 2ms/step - loss: 6.1204 - mae: 6.1204\n",
      "Epoch 473/500\n",
      "2/2 [==============================] - 0s 4ms/step - loss: 10.8245 - mae: 10.8245\n",
      "Epoch 474/500\n",
      "2/2 [==============================] - 0s 3ms/step - loss: 18.1640 - mae: 18.1640\n",
      "Epoch 475/500\n",
      "2/2 [==============================] - 0s 4ms/step - loss: 7.8428 - mae: 7.8428\n",
      "Epoch 476/500\n",
      "2/2 [==============================] - 0s 3ms/step - loss: 8.8351 - mae: 8.8351\n",
      "Epoch 477/500\n",
      "2/2 [==============================] - 0s 2ms/step - loss: 12.3315 - mae: 12.3315\n",
      "Epoch 478/500\n",
      "2/2 [==============================] - 0s 3ms/step - loss: 17.4067 - mae: 17.4067\n",
      "Epoch 479/500\n",
      "2/2 [==============================] - 0s 2ms/step - loss: 4.3274 - mae: 4.3274\n",
      "Epoch 480/500\n",
      "2/2 [==============================] - 0s 3ms/step - loss: 16.2891 - mae: 16.2891\n",
      "Epoch 481/500\n",
      "2/2 [==============================] - 0s 3ms/step - loss: 16.7072 - mae: 16.7072\n",
      "Epoch 482/500\n",
      "2/2 [==============================] - 0s 2ms/step - loss: 15.2966 - mae: 15.2966\n",
      "Epoch 483/500\n",
      "2/2 [==============================] - 0s 4ms/step - loss: 31.9831 - mae: 31.9831\n",
      "Epoch 484/500\n",
      "2/2 [==============================] - 0s 3ms/step - loss: 13.1036 - mae: 13.1036\n",
      "Epoch 485/500\n",
      "2/2 [==============================] - 0s 3ms/step - loss: 23.0834 - mae: 23.0834\n",
      "Epoch 486/500\n",
      "2/2 [==============================] - 0s 4ms/step - loss: 30.0395 - mae: 30.0395\n",
      "Epoch 487/500\n",
      "2/2 [==============================] - 0s 3ms/step - loss: 6.4931 - mae: 6.4931\n",
      "Epoch 488/500\n",
      "2/2 [==============================] - 0s 3ms/step - loss: 21.9173 - mae: 21.9173\n",
      "Epoch 489/500\n",
      "2/2 [==============================] - 0s 4ms/step - loss: 8.5469 - mae: 8.5469\n",
      "Epoch 490/500\n",
      "2/2 [==============================] - 0s 2ms/step - loss: 14.4276 - mae: 14.4276\n",
      "Epoch 491/500\n",
      "2/2 [==============================] - 0s 4ms/step - loss: 17.2803 - mae: 17.2803\n",
      "Epoch 492/500\n",
      "2/2 [==============================] - 0s 3ms/step - loss: 14.4424 - mae: 14.4424\n",
      "Epoch 493/500\n",
      "2/2 [==============================] - 0s 2ms/step - loss: 19.5774 - mae: 19.5774\n",
      "Epoch 494/500\n",
      "2/2 [==============================] - 0s 4ms/step - loss: 36.7339 - mae: 36.7339\n",
      "Epoch 495/500\n",
      "2/2 [==============================] - 0s 3ms/step - loss: 17.0213 - mae: 17.0213\n",
      "Epoch 496/500\n",
      "2/2 [==============================] - 0s 6ms/step - loss: 13.4747 - mae: 13.4747\n",
      "Epoch 497/500\n",
      "2/2 [==============================] - 0s 3ms/step - loss: 30.4730 - mae: 30.4730\n",
      "Epoch 498/500\n",
      "2/2 [==============================] - 0s 3ms/step - loss: 6.5359 - mae: 6.5359\n",
      "Epoch 499/500\n",
      "2/2 [==============================] - 0s 3ms/step - loss: 20.8628 - mae: 20.8628\n",
      "Epoch 500/500\n",
      "2/2 [==============================] - 0s 3ms/step - loss: 6.5787 - mae: 6.5787\n"
     ]
    },
    {
     "data": {
      "text/plain": [
       "<keras.src.callbacks.History at 0x7f1670e42b50>"
      ]
     },
     "execution_count": 43,
     "metadata": {},
     "output_type": "execute_result"
    }
   ],
   "source": [
    "tf.random.set_seed(32)\n",
    "model3= tf.keras.Sequential([\n",
    "    tf.keras.layers.Dense(10, input_shape= ([1])),\n",
    "    tf.keras.layers.Dense(1)\n",
    "])\n",
    "\n",
    "model3.compile(loss= tf.keras.losses.mae, \n",
    "               optimizer= tf.keras.optimizers.SGD(),\n",
    "               metrics= ['mae'])\n",
    "model3.fit(X_train, y_train, epochs = 500, verbose = 1)"
   ]
  },
  {
   "cell_type": "code",
   "execution_count": 44,
   "metadata": {},
   "outputs": [
    {
     "name": "stdout",
     "output_type": "stream",
     "text": [
      "1/1 [==============================] - 0s 52ms/step\n"
     ]
    }
   ],
   "source": [
    "y_pred3= model3.predict(X_test)\n"
   ]
  },
  {
   "cell_type": "code",
   "execution_count": 45,
   "metadata": {},
   "outputs": [
    {
     "data": {
      "image/png": "[encoded data removed]",
      "text/plain": [
       "<Figure size 1000x600 with 1 Axes>"
      ]
     },
     "metadata": {},
     "output_type": "display_data"
    }
   ],
   "source": [
    "plot_predictions(prdeictions=y_pred3)\n"
   ]
  },
  {
   "cell_type": "code",
   "execution_count": 75,
   "metadata": {},
   "outputs": [
    {
     "data": {
      "text/plain": [
       "<keras.src.callbacks.History at 0x7f1673220650>"
      ]
     },
     "execution_count": 75,
     "metadata": {},
     "output_type": "execute_result"
    }
   ],
   "source": [
    "tf.random.set_seed(32)\n",
    "model3 = tf.keras.Sequential([\n",
    "    tf.keras.layers.Dense(10, input_shape = ([1])),\n",
    "    tf.keras.layers.Dense(1)\n",
    "])\n",
    "\n",
    "model3.compile(loss = tf.keras.losses.mae,\n",
    "               optimizer= tf.keras.optimizers.SGD(), \n",
    "               metrics=['mae'])\n",
    "\n",
    "\n",
    "model3.fit(X_train, y_train , epochs = 290, verbose = 0)"
   ]
  },
  {
   "cell_type": "code",
   "execution_count": 76,
   "metadata": {},
   "outputs": [
    {
     "name": "stdout",
     "output_type": "stream",
     "text": [
      "1/1 [==============================] - 0s 37ms/step\n"
     ]
    }
   ],
   "source": [
    "y_pred3 = model3.predict(X_test)"
   ]
  },
  {
   "cell_type": "code",
   "execution_count": 77,
   "metadata": {},
   "outputs": [
    {
     "data": {
      "image/png": "[encoded data removed]",
      "text/plain": [
       "<Figure size 1000x600 with 1 Axes>"
      ]
     },
     "metadata": {},
     "output_type": "display_data"
    }
   ],
   "source": [
    "plot_predictions(prdeictions=y_pred3)"
   ]
  },
  {
   "cell_type": "code",
   "execution_count": 78,
   "metadata": {},
   "outputs": [
    {
     "data": {
      "text/plain": [
       "(<tf.Tensor: shape=(), dtype=float32, numpy=1.850058>,\n",
       " <tf.Tensor: shape=(), dtype=float32, numpy=4.6363306>)"
      ]
     },
     "execution_count": 78,
     "metadata": {},
     "output_type": "execute_result"
    }
   ],
   "source": [
    "mae3 = Mae(y_test, y_pred3)\n",
    "mse3 = mse(y_test, y_pred3)\n",
    "mae3, mse3"
   ]
  },
  {
   "cell_type": "markdown",
   "metadata": {},
   "source": [
    "comparing the result of different models\n"
   ]
  },
  {
   "cell_type": "code",
   "execution_count": 88,
   "metadata": {},
   "outputs": [],
   "source": [
    "import pandas as pd "
   ]
  },
  {
   "cell_type": "code",
   "execution_count": 95,
   "metadata": {},
   "outputs": [
    {
     "data": {
      "text/html": [
       "<div>\n",
       "<style scoped>\n",
       "    .dataframe tbody tr th:only-of-type {\n",
       "        vertical-align: middle;\n",
       "    }\n",
       "\n",
       "    .dataframe tbody tr th {\n",
       "        vertical-align: top;\n",
       "    }\n",
       "\n",
       "    .dataframe thead th {\n",
       "        text-align: right;\n",
       "    }\n",
       "</style>\n",
       "<table border=\"1\" class=\"dataframe\">\n",
       "  <thead>\n",
       "    <tr style=\"text-align: right;\">\n",
       "      <th></th>\n",
       "      <th>model</th>\n",
       "      <th>mae</th>\n",
       "      <th>mse</th>\n",
       "    </tr>\n",
       "  </thead>\n",
       "  <tbody>\n",
       "    <tr>\n",
       "      <th>0</th>\n",
       "      <td>model_1</td>\n",
       "      <td>19.986902</td>\n",
       "      <td>402.256165</td>\n",
       "    </tr>\n",
       "    <tr>\n",
       "      <th>1</th>\n",
       "      <td>model_2</td>\n",
       "      <td>18.179623</td>\n",
       "      <td>345.272369</td>\n",
       "    </tr>\n",
       "    <tr>\n",
       "      <th>2</th>\n",
       "      <td>model_3</td>\n",
       "      <td>1.850058</td>\n",
       "      <td>4.636331</td>\n",
       "    </tr>\n",
       "  </tbody>\n",
       "</table>\n",
       "</div>"
      ],
      "text/plain": [
       "      model        mae         mse\n",
       "0  model_1   19.986902  402.256165\n",
       "1   model_2  18.179623  345.272369\n",
       "2  model_3    1.850058    4.636331"
      ]
     },
     "execution_count": 95,
     "metadata": {},
     "output_type": "execute_result"
    }
   ],
   "source": [
    "model_results = [[\"model_1 \", mae1.numpy(), mse1.numpy()],[\"model_2\", mae2.numpy(), mse2.numpy()],[\"model_3 \", mae3.numpy(), mse3.numpy()]]\n",
    "all_results = pd.DataFrame(model_results, columns = [\"model\", \"mae\", 'mse'])\n",
    "all_results"
   ]
  },
  {
   "cell_type": "markdown",
   "metadata": {},
   "source": [
    "***saving models***\n",
    "1. the SavedModel format   (default)\n",
    "2. the HDF5 format"
   ]
  },
  {
   "cell_type": "code",
   "execution_count": 100,
   "metadata": {},
   "outputs": [
    {
     "name": "stdout",
     "output_type": "stream",
     "text": [
      "INFO:tensorflow:Assets written to: Models/assets\n"
     ]
    },
    {
     "name": "stderr",
     "output_type": "stream",
     "text": [
      "INFO:tensorflow:Assets written to: Models/assets\n"
     ]
    }
   ],
   "source": [
    "model3.save(\"Models\")"
   ]
  },
  {
   "cell_type": "code",
   "execution_count": 101,
   "metadata": {},
   "outputs": [
    {
     "name": "stderr",
     "output_type": "stream",
     "text": [
      "/home/huxaif/.local/lib/python3.11/site-packages/keras/src/engine/training.py:3000: UserWarning: You are saving your model as an HDF5 file via `model.save()`. This file format is considered legacy. We recommend using instead the native Keras format, e.g. `model.save('my_model.keras')`.\n",
      "  saving_api.save_model(\n"
     ]
    }
   ],
   "source": [
    "model3.save(\"hdf5.h5\")"
   ]
  },
  {
   "cell_type": "markdown",
   "metadata": {},
   "source": [
    "Loading in saved models"
   ]
  },
  {
   "cell_type": "code",
   "execution_count": 103,
   "metadata": {},
   "outputs": [
    {
     "name": "stdout",
     "output_type": "stream",
     "text": [
      "Model: \"sequential_16\"\n",
      "_________________________________________________________________\n",
      " Layer (type)                Output Shape              Param #   \n",
      "=================================================================\n",
      " dense_30 (Dense)            (None, 10)                20        \n",
      "                                                                 \n",
      " dense_31 (Dense)            (None, 1)                 11        \n",
      "                                                                 \n",
      "=================================================================\n",
      "Total params: 31 (124.00 Byte)\n",
      "Trainable params: 31 (124.00 Byte)\n",
      "Non-trainable params: 0 (0.00 Byte)\n",
      "_________________________________________________________________\n"
     ]
    }
   ],
   "source": [
    "savedModel = tf.keras.models.load_model('Models')\n",
    "savedModel.summary()"
   ]
  },
  {
   "cell_type": "code",
   "execution_count": 106,
   "metadata": {},
   "outputs": [
    {
     "name": "stdout",
     "output_type": "stream",
     "text": [
      "1/1 [==============================] - 0s 44ms/step\n",
      "1/1 [==============================] - 0s 20ms/step\n"
     ]
    },
    {
     "data": {
      "text/plain": [
       "array([[ True],\n",
       "       [ True],\n",
       "       [ True],\n",
       "       [ True],\n",
       "       [ True],\n",
       "       [ True],\n",
       "       [ True],\n",
       "       [ True],\n",
       "       [ True],\n",
       "       [ True]])"
      ]
     },
     "execution_count": 106,
     "metadata": {},
     "output_type": "execute_result"
    }
   ],
   "source": [
    "savedModel.predict(X_test) ==  model3.predict(X_test)"
   ]
  },
  {
   "cell_type": "code",
   "execution_count": 108,
   "metadata": {},
   "outputs": [
    {
     "name": "stdout",
     "output_type": "stream",
     "text": [
      "Model: \"sequential_16\"\n",
      "_________________________________________________________________\n",
      " Layer (type)                Output Shape              Param #   \n",
      "=================================================================\n",
      " dense_30 (Dense)            (None, 10)                20        \n",
      "                                                                 \n",
      " dense_31 (Dense)            (None, 1)                 11        \n",
      "                                                                 \n",
      "=================================================================\n",
      "Total params: 31 (124.00 Byte)\n",
      "Trainable params: 31 (124.00 Byte)\n",
      "Non-trainable params: 0 (0.00 Byte)\n",
      "_________________________________________________________________\n"
     ]
    }
   ],
   "source": [
    "hdf5 = tf.keras.models.load_model(\"hdf5.h5\")\n",
    "hdf5.summary()"
   ]
  },
  {
   "cell_type": "code",
   "execution_count": 109,
   "metadata": {},
   "outputs": [
    {
     "name": "stdout",
     "output_type": "stream",
     "text": [
      "1/1 [==============================] - 0s 55ms/step\n",
      "1/1 [==============================] - 0s 21ms/step\n"
     ]
    },
    {
     "data": {
      "text/plain": [
       "array([[ True],\n",
       "       [ True],\n",
       "       [ True],\n",
       "       [ True],\n",
       "       [ True],\n",
       "       [ True],\n",
       "       [ True],\n",
       "       [ True],\n",
       "       [ True],\n",
       "       [ True]])"
      ]
     },
     "execution_count": 109,
     "metadata": {},
     "output_type": "execute_result"
    }
   ],
   "source": [
    "hdf5.predict(X_test) == model3.predict(X_test)"
   ]
  },
  {
   "cell_type": "code",
   "execution_count": null,
   "metadata": {},
   "outputs": [],
   "source": []
  }
 ],
 "metadata": {
  "kernelspec": {
   "display_name": "Python 3",
   "language": "python",
   "name": "python3"
  },
  "language_info": {
   "codemirror_mode": {
    "name": "ipython",
    "version": 3
   },
   "file_extension": ".py",
   "mimetype": "text/x-python",
   "name": "python",
   "nbconvert_exporter": "python",
   "pygments_lexer": "ipython3",
   "version": "3.11.2"
  },
  "orig_nbformat": 4
 },
 "nbformat": 4,
 "nbformat_minor": 2
}
